{
 "cells": [
  {
   "cell_type": "markdown",
   "metadata": {
    "id": "pGeRH4wq9f5V"
   },
   "source": [
    "# 나이브 베이스 분류기(Naive Bayes Classification)\n",
    "\n",
    "* 베이즈 정리를 적용한 확률적 분류 알고리즘\n",
    "* 모든 특성들이 독립임을 가정 (naive 가정)\n",
    "* 입력 특성에 따라 3개의 분류기 존재\n",
    "  * 가우시안 나이브 베이즈 분류기\n",
    "  * 베르누이 나이브 베이즈 분류기\n",
    "  * 다항 나이브 베이즈 분류기"
   ]
  },
  {
   "cell_type": "markdown",
   "metadata": {
    "id": "dJEOfUP7D0W5"
   },
   "source": [
    "## 나이브 베이즈 분류기의 확률 모델\n",
    "\n",
    "* 나이브 베이즈는 조건부 확률 모델\n",
    "* *N*개의 특성을 나타내는 벡터 **x**를 입력 받아 k개의 가능한 확률적 결과를 출력\n",
    "\n",
    "\\begin{equation}\n",
    "p(C_k | x_1,...,x_n)\n",
    "\\end{equation}\n",
    "\n",
    "* 위의 식에 베이즈 정리를 적용하면 다음과 같음\n",
    "\n",
    "\\begin{equation}\n",
    "p(C_k | \\textbf{x}) = \\frac{p(C_k)p(\\textbf{x}|C_k)}{p(\\textbf{x})}\n",
    "\\end{equation}\n",
    "\n",
    "* 위의 식에서 분자만이 출력 값에 영향을 받기 때문에 분모 부분을 상수로 취급할 수 있음\n",
    "\n",
    "\\begin{equation}\n",
    "\\begin{split}\n",
    "p(C_k | \\textbf{x}) & \\propto p(C_k)p(\\textbf{x}|C_k) \\\\\n",
    "& \\propto p(C_k, x_1, ..., x_n)\n",
    "\\end{split}\n",
    "\\end{equation}\n",
    "\n",
    "* 위의 식을 연쇄 법칙을 사용해 다음과 같이 쓸 수 있음\n",
    "\n",
    "\\begin{equation}\n",
    "\\begin{split}\n",
    "p(C_k, x_1, ..., x_n) & = p(C_k)p(x_1, ..., x_n | C_k) \\\\\n",
    "& = p(C_k)p(x_1 | C_k)p(x_2, ..., x_n | C_k, x_1) \\\\\n",
    "& = p(C_k)p(x_1 | C_k)p(x_2 | C_k, x_1)p(x_3, ..., x_n | C_k, x_1, x_2) \\\\\n",
    "& = p(C_k)p(x_1 | C_k)p(x_2 | C_k, x_1)...p(x_n | C_k, x_1, x_2, ..., x_{n-1})\n",
    "\\end{split}\n",
    "\\end{equation}\n",
    "\n",
    "* 나이브 베이즈 분류기는 모든 특성이 독립이라고 가정하기 때문에 위의 식을 다음과 같이 쓸 수 있음\n",
    "\n",
    "\\begin{equation}\n",
    "\\begin{split}\n",
    "p(C_k, x_1, ..., x_n) & \\propto p(C_k)p(x_1|C_k)p(x_2|C_k)...p(x_n|C_k) \\\\\n",
    "& \\propto p(C_k) \\prod_{i=1}^{n} p(x_i|C_k)\n",
    "\\end{split}\n",
    "\\end{equation}\n",
    "\n",
    "* 위의 식을 통해 나온 값들 중 가장 큰 값을 갖는 클래스가 예측 결과\n",
    "\n",
    "\\begin{equation}\n",
    "\\hat{y} = \\underset{k}{\\arg\\max} \\; p(C_k) \\prod_{i=1}^{n} p(x_i|C_k)\n",
    "\\end{equation}"
   ]
  },
  {
   "cell_type": "code",
   "execution_count": 1,
   "metadata": {
    "id": "YWMJk5Q6QRjt"
   },
   "outputs": [],
   "source": [
    "import multiprocessing\n",
    "import pandas as pd\n",
    "import numpy as np\n",
    "import matplotlib.pyplot as plt\n",
    "plt.style.use(['seaborn-whitegrid'])\n",
    "import seaborn as sns"
   ]
  },
  {
   "cell_type": "code",
   "execution_count": 2,
   "metadata": {
    "id": "niugbwwe9dFN"
   },
   "outputs": [],
   "source": [
    "from sklearn.datasets import make_blobs\n",
    "from sklearn.naive_bayes import GaussianNB, BernoulliNB, MultinomialNB\n",
    "from sklearn.datasets import fetch_covtype, fetch_20newsgroups\n",
    "from sklearn.pipeline import make_pipeline, Pipeline # 개체도가져온것\n",
    "from sklearn.model_selection import train_test_split, cross_validate, GridSearchCV\n",
    "from sklearn.preprocessing import StandardScaler, MinMaxScaler\n",
    "from sklearn.manifold import TSNE # ->시각화를 위해서 \n",
    "from sklearn.feature_extraction.text import CountVectorizer, HashingVectorizer, TfidfVectorizer\n",
    "from sklearn import metrics"
   ]
  },
  {
   "cell_type": "code",
   "execution_count": 3,
   "metadata": {},
   "outputs": [
    {
     "name": "stdout",
     "output_type": "stream",
     "text": [
      "1번째 클래스의가능성 : 0.0162\n",
      "2번째 클래스의가능성 : 0.0042\n",
      "3번째 클래스의가능성 : 0.0039375\n",
      "4번째 클래스의가능성 : 0.0024000000000000002\n"
     ]
    }
   ],
   "source": [
    "prior = [0.45, 0.3, 0.15, 0.1]\n",
    "likelihood = [[0.3, 0.3, 0.4], [0.7, 0.2, 0.1], [0.15, 0.5, 0.35], [0.6, 0.2,0.2]]\n",
    "\n",
    "idx = 0\n",
    "for c, xs in zip(prior, likelihood):\n",
    "    result = 1.\n",
    "    \n",
    "    for x in xs:\n",
    "        result *= x\n",
    "    result *= c\n",
    "    \n",
    "    idx += 1\n",
    "    print(f\"{idx}번째 클래스의가능성 : {result}\")"
   ]
  },
  {
   "cell_type": "markdown",
   "metadata": {
    "id": "m7NBQpMOmtQz"
   },
   "source": [
    "## 산림 토양 데이터\n",
    "* 산림 지역 토양의 특징 데이터\n",
    "* 토양이 어떤 종류에 속하는지 예측\n",
    "* https://archive.ics.uci.edu/ml/datasets/Covertype 에서 데이터의 자세한 설명 확인 가능"
   ]
  },
  {
   "cell_type": "code",
   "execution_count": 4,
   "metadata": {
    "id": "COcEy-q-m8CG"
   },
   "outputs": [
    {
     "name": "stdout",
     "output_type": "stream",
     "text": [
      ".. _covtype_dataset:\n",
      "\n",
      "Forest covertypes\n",
      "-----------------\n",
      "\n",
      "The samples in this dataset correspond to 30×30m patches of forest in the US,\n",
      "collected for the task of predicting each patch's cover type,\n",
      "i.e. the dominant species of tree.\n",
      "There are seven covertypes, making this a multiclass classification problem.\n",
      "Each sample has 54 features, described on the\n",
      "`dataset's homepage <https://archive.ics.uci.edu/ml/datasets/Covertype>`__.\n",
      "Some of the features are boolean indicators,\n",
      "while others are discrete or continuous measurements.\n",
      "\n",
      "**Data Set Characteristics:**\n",
      "\n",
      "    =================   ============\n",
      "    Classes                        7\n",
      "    Samples total             581012\n",
      "    Dimensionality                54\n",
      "    Features                     int\n",
      "    =================   ============\n",
      "\n",
      ":func:`sklearn.datasets.fetch_covtype` will load the covertype dataset;\n",
      "it returns a dictionary-like 'Bunch' object\n",
      "with the feature matrix in the ``data`` member\n",
      "and the target values in ``target``. If optional argument 'as_frame' is\n",
      "set to 'True', it will return ``data`` and ``target`` as pandas\n",
      "data frame, and there will be an additional member ``frame`` as well.\n",
      "The dataset will be downloaded from the web if necessary.\n",
      "\n"
     ]
    }
   ],
   "source": [
    "covtype = fetch_covtype()\n",
    "print(covtype.DESCR)"
   ]
  },
  {
   "cell_type": "code",
   "execution_count": 5,
   "metadata": {
    "id": "AKdk8dfyKH1Z"
   },
   "outputs": [],
   "source": [
    "covtype_df = pd.DataFrame(data= covtype.data)"
   ]
  },
  {
   "cell_type": "code",
   "execution_count": 6,
   "metadata": {
    "id": "6K8fuWT2LRev"
   },
   "outputs": [
    {
     "data": {
      "text/plain": [
       "array([5, 5, 2, ..., 3, 3, 3])"
      ]
     },
     "execution_count": 6,
     "metadata": {},
     "output_type": "execute_result"
    }
   ],
   "source": [
    "covtype.target"
   ]
  },
  {
   "cell_type": "markdown",
   "metadata": {
    "id": "W3oFEYsFmzAo"
   },
   "source": [
    "### 학습, 평가 데이터 분류"
   ]
  },
  {
   "cell_type": "code",
   "execution_count": 7,
   "metadata": {
    "id": "LXRNok95nZyL"
   },
   "outputs": [],
   "source": [
    "covtype_X = covtype.data\n",
    "covtype_Y = covtype.target"
   ]
  },
  {
   "cell_type": "code",
   "execution_count": 8,
   "metadata": {
    "id": "PcPjkEKKoAG0"
   },
   "outputs": [],
   "source": [
    "covtype_X_train, covtype_X_test, covtype_y_train, covtype_y_test = train_test_split(covtype_X, covtype_Y, test_size=0.2)"
   ]
  },
  {
   "cell_type": "code",
   "execution_count": 9,
   "metadata": {
    "id": "FIHN4Zd1MRlm"
   },
   "outputs": [
    {
     "name": "stdout",
     "output_type": "stream",
     "text": [
      "전체 데이터 크기:(581012, 54)\n",
      "학습 데이터 크기:(464809, 54)\n",
      "평가 데이터 크기:(116203, 54)\n"
     ]
    }
   ],
   "source": [
    "print('전체 데이터 크기:{}'.format(covtype_X.shape))\n",
    "print('학습 데이터 크기:{}'.format(covtype_X_train.shape))\n",
    "print('평가 데이터 크기:{}'.format(covtype_X_test.shape))"
   ]
  },
  {
   "cell_type": "markdown",
   "metadata": {
    "id": "lTXhaso1m1RN"
   },
   "source": [
    "### 전처리"
   ]
  },
  {
   "cell_type": "markdown",
   "metadata": {
    "id": "ABo0ZvzrNlID"
   },
   "source": [
    "#### 전처리 전 데이터"
   ]
  },
  {
   "cell_type": "code",
   "execution_count": 10,
   "metadata": {
    "id": "S8bMSKlHM00-"
   },
   "outputs": [
    {
     "data": {
      "text/html": [
       "<div>\n",
       "<style scoped>\n",
       "    .dataframe tbody tr th:only-of-type {\n",
       "        vertical-align: middle;\n",
       "    }\n",
       "\n",
       "    .dataframe tbody tr th {\n",
       "        vertical-align: top;\n",
       "    }\n",
       "\n",
       "    .dataframe thead th {\n",
       "        text-align: right;\n",
       "    }\n",
       "</style>\n",
       "<table border=\"1\" class=\"dataframe\">\n",
       "  <thead>\n",
       "    <tr style=\"text-align: right;\">\n",
       "      <th></th>\n",
       "      <th>0</th>\n",
       "      <th>1</th>\n",
       "      <th>2</th>\n",
       "      <th>3</th>\n",
       "      <th>4</th>\n",
       "      <th>5</th>\n",
       "      <th>6</th>\n",
       "      <th>7</th>\n",
       "      <th>8</th>\n",
       "      <th>9</th>\n",
       "      <th>...</th>\n",
       "      <th>44</th>\n",
       "      <th>45</th>\n",
       "      <th>46</th>\n",
       "      <th>47</th>\n",
       "      <th>48</th>\n",
       "      <th>49</th>\n",
       "      <th>50</th>\n",
       "      <th>51</th>\n",
       "      <th>52</th>\n",
       "      <th>53</th>\n",
       "    </tr>\n",
       "  </thead>\n",
       "  <tbody>\n",
       "    <tr>\n",
       "      <th>0</th>\n",
       "      <td>2596.0</td>\n",
       "      <td>51.0</td>\n",
       "      <td>3.0</td>\n",
       "      <td>258.0</td>\n",
       "      <td>0.0</td>\n",
       "      <td>510.0</td>\n",
       "      <td>221.0</td>\n",
       "      <td>232.0</td>\n",
       "      <td>148.0</td>\n",
       "      <td>6279.0</td>\n",
       "      <td>...</td>\n",
       "      <td>0.0</td>\n",
       "      <td>0.0</td>\n",
       "      <td>0.0</td>\n",
       "      <td>0.0</td>\n",
       "      <td>0.0</td>\n",
       "      <td>0.0</td>\n",
       "      <td>0.0</td>\n",
       "      <td>0.0</td>\n",
       "      <td>0.0</td>\n",
       "      <td>0.0</td>\n",
       "    </tr>\n",
       "    <tr>\n",
       "      <th>1</th>\n",
       "      <td>2590.0</td>\n",
       "      <td>56.0</td>\n",
       "      <td>2.0</td>\n",
       "      <td>212.0</td>\n",
       "      <td>-6.0</td>\n",
       "      <td>390.0</td>\n",
       "      <td>220.0</td>\n",
       "      <td>235.0</td>\n",
       "      <td>151.0</td>\n",
       "      <td>6225.0</td>\n",
       "      <td>...</td>\n",
       "      <td>0.0</td>\n",
       "      <td>0.0</td>\n",
       "      <td>0.0</td>\n",
       "      <td>0.0</td>\n",
       "      <td>0.0</td>\n",
       "      <td>0.0</td>\n",
       "      <td>0.0</td>\n",
       "      <td>0.0</td>\n",
       "      <td>0.0</td>\n",
       "      <td>0.0</td>\n",
       "    </tr>\n",
       "    <tr>\n",
       "      <th>2</th>\n",
       "      <td>2804.0</td>\n",
       "      <td>139.0</td>\n",
       "      <td>9.0</td>\n",
       "      <td>268.0</td>\n",
       "      <td>65.0</td>\n",
       "      <td>3180.0</td>\n",
       "      <td>234.0</td>\n",
       "      <td>238.0</td>\n",
       "      <td>135.0</td>\n",
       "      <td>6121.0</td>\n",
       "      <td>...</td>\n",
       "      <td>0.0</td>\n",
       "      <td>0.0</td>\n",
       "      <td>0.0</td>\n",
       "      <td>0.0</td>\n",
       "      <td>0.0</td>\n",
       "      <td>0.0</td>\n",
       "      <td>0.0</td>\n",
       "      <td>0.0</td>\n",
       "      <td>0.0</td>\n",
       "      <td>0.0</td>\n",
       "    </tr>\n",
       "    <tr>\n",
       "      <th>3</th>\n",
       "      <td>2785.0</td>\n",
       "      <td>155.0</td>\n",
       "      <td>18.0</td>\n",
       "      <td>242.0</td>\n",
       "      <td>118.0</td>\n",
       "      <td>3090.0</td>\n",
       "      <td>238.0</td>\n",
       "      <td>238.0</td>\n",
       "      <td>122.0</td>\n",
       "      <td>6211.0</td>\n",
       "      <td>...</td>\n",
       "      <td>0.0</td>\n",
       "      <td>0.0</td>\n",
       "      <td>0.0</td>\n",
       "      <td>0.0</td>\n",
       "      <td>0.0</td>\n",
       "      <td>0.0</td>\n",
       "      <td>0.0</td>\n",
       "      <td>0.0</td>\n",
       "      <td>0.0</td>\n",
       "      <td>0.0</td>\n",
       "    </tr>\n",
       "    <tr>\n",
       "      <th>4</th>\n",
       "      <td>2595.0</td>\n",
       "      <td>45.0</td>\n",
       "      <td>2.0</td>\n",
       "      <td>153.0</td>\n",
       "      <td>-1.0</td>\n",
       "      <td>391.0</td>\n",
       "      <td>220.0</td>\n",
       "      <td>234.0</td>\n",
       "      <td>150.0</td>\n",
       "      <td>6172.0</td>\n",
       "      <td>...</td>\n",
       "      <td>0.0</td>\n",
       "      <td>0.0</td>\n",
       "      <td>0.0</td>\n",
       "      <td>0.0</td>\n",
       "      <td>0.0</td>\n",
       "      <td>0.0</td>\n",
       "      <td>0.0</td>\n",
       "      <td>0.0</td>\n",
       "      <td>0.0</td>\n",
       "      <td>0.0</td>\n",
       "    </tr>\n",
       "    <tr>\n",
       "      <th>...</th>\n",
       "      <td>...</td>\n",
       "      <td>...</td>\n",
       "      <td>...</td>\n",
       "      <td>...</td>\n",
       "      <td>...</td>\n",
       "      <td>...</td>\n",
       "      <td>...</td>\n",
       "      <td>...</td>\n",
       "      <td>...</td>\n",
       "      <td>...</td>\n",
       "      <td>...</td>\n",
       "      <td>...</td>\n",
       "      <td>...</td>\n",
       "      <td>...</td>\n",
       "      <td>...</td>\n",
       "      <td>...</td>\n",
       "      <td>...</td>\n",
       "      <td>...</td>\n",
       "      <td>...</td>\n",
       "      <td>...</td>\n",
       "      <td>...</td>\n",
       "    </tr>\n",
       "    <tr>\n",
       "      <th>581007</th>\n",
       "      <td>2396.0</td>\n",
       "      <td>153.0</td>\n",
       "      <td>20.0</td>\n",
       "      <td>85.0</td>\n",
       "      <td>17.0</td>\n",
       "      <td>108.0</td>\n",
       "      <td>240.0</td>\n",
       "      <td>237.0</td>\n",
       "      <td>118.0</td>\n",
       "      <td>837.0</td>\n",
       "      <td>...</td>\n",
       "      <td>0.0</td>\n",
       "      <td>0.0</td>\n",
       "      <td>0.0</td>\n",
       "      <td>0.0</td>\n",
       "      <td>0.0</td>\n",
       "      <td>0.0</td>\n",
       "      <td>0.0</td>\n",
       "      <td>0.0</td>\n",
       "      <td>0.0</td>\n",
       "      <td>0.0</td>\n",
       "    </tr>\n",
       "    <tr>\n",
       "      <th>581008</th>\n",
       "      <td>2391.0</td>\n",
       "      <td>152.0</td>\n",
       "      <td>19.0</td>\n",
       "      <td>67.0</td>\n",
       "      <td>12.0</td>\n",
       "      <td>95.0</td>\n",
       "      <td>240.0</td>\n",
       "      <td>237.0</td>\n",
       "      <td>119.0</td>\n",
       "      <td>845.0</td>\n",
       "      <td>...</td>\n",
       "      <td>0.0</td>\n",
       "      <td>0.0</td>\n",
       "      <td>0.0</td>\n",
       "      <td>0.0</td>\n",
       "      <td>0.0</td>\n",
       "      <td>0.0</td>\n",
       "      <td>0.0</td>\n",
       "      <td>0.0</td>\n",
       "      <td>0.0</td>\n",
       "      <td>0.0</td>\n",
       "    </tr>\n",
       "    <tr>\n",
       "      <th>581009</th>\n",
       "      <td>2386.0</td>\n",
       "      <td>159.0</td>\n",
       "      <td>17.0</td>\n",
       "      <td>60.0</td>\n",
       "      <td>7.0</td>\n",
       "      <td>90.0</td>\n",
       "      <td>236.0</td>\n",
       "      <td>241.0</td>\n",
       "      <td>130.0</td>\n",
       "      <td>854.0</td>\n",
       "      <td>...</td>\n",
       "      <td>0.0</td>\n",
       "      <td>0.0</td>\n",
       "      <td>0.0</td>\n",
       "      <td>0.0</td>\n",
       "      <td>0.0</td>\n",
       "      <td>0.0</td>\n",
       "      <td>0.0</td>\n",
       "      <td>0.0</td>\n",
       "      <td>0.0</td>\n",
       "      <td>0.0</td>\n",
       "    </tr>\n",
       "    <tr>\n",
       "      <th>581010</th>\n",
       "      <td>2384.0</td>\n",
       "      <td>170.0</td>\n",
       "      <td>15.0</td>\n",
       "      <td>60.0</td>\n",
       "      <td>5.0</td>\n",
       "      <td>90.0</td>\n",
       "      <td>230.0</td>\n",
       "      <td>245.0</td>\n",
       "      <td>143.0</td>\n",
       "      <td>864.0</td>\n",
       "      <td>...</td>\n",
       "      <td>0.0</td>\n",
       "      <td>0.0</td>\n",
       "      <td>0.0</td>\n",
       "      <td>0.0</td>\n",
       "      <td>0.0</td>\n",
       "      <td>0.0</td>\n",
       "      <td>0.0</td>\n",
       "      <td>0.0</td>\n",
       "      <td>0.0</td>\n",
       "      <td>0.0</td>\n",
       "    </tr>\n",
       "    <tr>\n",
       "      <th>581011</th>\n",
       "      <td>2383.0</td>\n",
       "      <td>165.0</td>\n",
       "      <td>13.0</td>\n",
       "      <td>60.0</td>\n",
       "      <td>4.0</td>\n",
       "      <td>67.0</td>\n",
       "      <td>231.0</td>\n",
       "      <td>244.0</td>\n",
       "      <td>141.0</td>\n",
       "      <td>875.0</td>\n",
       "      <td>...</td>\n",
       "      <td>0.0</td>\n",
       "      <td>0.0</td>\n",
       "      <td>0.0</td>\n",
       "      <td>0.0</td>\n",
       "      <td>0.0</td>\n",
       "      <td>0.0</td>\n",
       "      <td>0.0</td>\n",
       "      <td>0.0</td>\n",
       "      <td>0.0</td>\n",
       "      <td>0.0</td>\n",
       "    </tr>\n",
       "  </tbody>\n",
       "</table>\n",
       "<p>581012 rows × 54 columns</p>\n",
       "</div>"
      ],
      "text/plain": [
       "            0      1     2      3      4       5      6      7      8   \\\n",
       "0       2596.0   51.0   3.0  258.0    0.0   510.0  221.0  232.0  148.0   \n",
       "1       2590.0   56.0   2.0  212.0   -6.0   390.0  220.0  235.0  151.0   \n",
       "2       2804.0  139.0   9.0  268.0   65.0  3180.0  234.0  238.0  135.0   \n",
       "3       2785.0  155.0  18.0  242.0  118.0  3090.0  238.0  238.0  122.0   \n",
       "4       2595.0   45.0   2.0  153.0   -1.0   391.0  220.0  234.0  150.0   \n",
       "...        ...    ...   ...    ...    ...     ...    ...    ...    ...   \n",
       "581007  2396.0  153.0  20.0   85.0   17.0   108.0  240.0  237.0  118.0   \n",
       "581008  2391.0  152.0  19.0   67.0   12.0    95.0  240.0  237.0  119.0   \n",
       "581009  2386.0  159.0  17.0   60.0    7.0    90.0  236.0  241.0  130.0   \n",
       "581010  2384.0  170.0  15.0   60.0    5.0    90.0  230.0  245.0  143.0   \n",
       "581011  2383.0  165.0  13.0   60.0    4.0    67.0  231.0  244.0  141.0   \n",
       "\n",
       "            9   ...   44   45   46   47   48   49   50   51   52   53  \n",
       "0       6279.0  ...  0.0  0.0  0.0  0.0  0.0  0.0  0.0  0.0  0.0  0.0  \n",
       "1       6225.0  ...  0.0  0.0  0.0  0.0  0.0  0.0  0.0  0.0  0.0  0.0  \n",
       "2       6121.0  ...  0.0  0.0  0.0  0.0  0.0  0.0  0.0  0.0  0.0  0.0  \n",
       "3       6211.0  ...  0.0  0.0  0.0  0.0  0.0  0.0  0.0  0.0  0.0  0.0  \n",
       "4       6172.0  ...  0.0  0.0  0.0  0.0  0.0  0.0  0.0  0.0  0.0  0.0  \n",
       "...        ...  ...  ...  ...  ...  ...  ...  ...  ...  ...  ...  ...  \n",
       "581007   837.0  ...  0.0  0.0  0.0  0.0  0.0  0.0  0.0  0.0  0.0  0.0  \n",
       "581008   845.0  ...  0.0  0.0  0.0  0.0  0.0  0.0  0.0  0.0  0.0  0.0  \n",
       "581009   854.0  ...  0.0  0.0  0.0  0.0  0.0  0.0  0.0  0.0  0.0  0.0  \n",
       "581010   864.0  ...  0.0  0.0  0.0  0.0  0.0  0.0  0.0  0.0  0.0  0.0  \n",
       "581011   875.0  ...  0.0  0.0  0.0  0.0  0.0  0.0  0.0  0.0  0.0  0.0  \n",
       "\n",
       "[581012 rows x 54 columns]"
      ]
     },
     "execution_count": 10,
     "metadata": {},
     "output_type": "execute_result"
    }
   ],
   "source": [
    "covtype_df"
   ]
  },
  {
   "cell_type": "code",
   "execution_count": 11,
   "metadata": {
    "id": "CqDWerieNoBw"
   },
   "outputs": [
    {
     "data": {
      "text/html": [
       "<div>\n",
       "<style scoped>\n",
       "    .dataframe tbody tr th:only-of-type {\n",
       "        vertical-align: middle;\n",
       "    }\n",
       "\n",
       "    .dataframe tbody tr th {\n",
       "        vertical-align: top;\n",
       "    }\n",
       "\n",
       "    .dataframe thead th {\n",
       "        text-align: right;\n",
       "    }\n",
       "</style>\n",
       "<table border=\"1\" class=\"dataframe\">\n",
       "  <thead>\n",
       "    <tr style=\"text-align: right;\">\n",
       "      <th></th>\n",
       "      <th>0</th>\n",
       "      <th>1</th>\n",
       "      <th>2</th>\n",
       "      <th>3</th>\n",
       "      <th>4</th>\n",
       "      <th>5</th>\n",
       "      <th>6</th>\n",
       "      <th>7</th>\n",
       "      <th>8</th>\n",
       "      <th>9</th>\n",
       "      <th>...</th>\n",
       "      <th>44</th>\n",
       "      <th>45</th>\n",
       "      <th>46</th>\n",
       "      <th>47</th>\n",
       "      <th>48</th>\n",
       "      <th>49</th>\n",
       "      <th>50</th>\n",
       "      <th>51</th>\n",
       "      <th>52</th>\n",
       "      <th>53</th>\n",
       "    </tr>\n",
       "  </thead>\n",
       "  <tbody>\n",
       "    <tr>\n",
       "      <th>0</th>\n",
       "      <td>3309.0</td>\n",
       "      <td>277.0</td>\n",
       "      <td>8.0</td>\n",
       "      <td>182.0</td>\n",
       "      <td>41.0</td>\n",
       "      <td>3369.0</td>\n",
       "      <td>199.0</td>\n",
       "      <td>242.0</td>\n",
       "      <td>182.0</td>\n",
       "      <td>1639.0</td>\n",
       "      <td>...</td>\n",
       "      <td>0.0</td>\n",
       "      <td>0.0</td>\n",
       "      <td>0.0</td>\n",
       "      <td>0.0</td>\n",
       "      <td>0.0</td>\n",
       "      <td>0.0</td>\n",
       "      <td>0.0</td>\n",
       "      <td>1.0</td>\n",
       "      <td>0.0</td>\n",
       "      <td>0.0</td>\n",
       "    </tr>\n",
       "    <tr>\n",
       "      <th>1</th>\n",
       "      <td>3006.0</td>\n",
       "      <td>290.0</td>\n",
       "      <td>10.0</td>\n",
       "      <td>150.0</td>\n",
       "      <td>29.0</td>\n",
       "      <td>2828.0</td>\n",
       "      <td>191.0</td>\n",
       "      <td>239.0</td>\n",
       "      <td>188.0</td>\n",
       "      <td>793.0</td>\n",
       "      <td>...</td>\n",
       "      <td>0.0</td>\n",
       "      <td>0.0</td>\n",
       "      <td>1.0</td>\n",
       "      <td>0.0</td>\n",
       "      <td>0.0</td>\n",
       "      <td>0.0</td>\n",
       "      <td>0.0</td>\n",
       "      <td>0.0</td>\n",
       "      <td>0.0</td>\n",
       "      <td>0.0</td>\n",
       "    </tr>\n",
       "    <tr>\n",
       "      <th>2</th>\n",
       "      <td>2982.0</td>\n",
       "      <td>284.0</td>\n",
       "      <td>18.0</td>\n",
       "      <td>570.0</td>\n",
       "      <td>348.0</td>\n",
       "      <td>1579.0</td>\n",
       "      <td>168.0</td>\n",
       "      <td>237.0</td>\n",
       "      <td>208.0</td>\n",
       "      <td>1727.0</td>\n",
       "      <td>...</td>\n",
       "      <td>0.0</td>\n",
       "      <td>0.0</td>\n",
       "      <td>1.0</td>\n",
       "      <td>0.0</td>\n",
       "      <td>0.0</td>\n",
       "      <td>0.0</td>\n",
       "      <td>0.0</td>\n",
       "      <td>0.0</td>\n",
       "      <td>0.0</td>\n",
       "      <td>0.0</td>\n",
       "    </tr>\n",
       "    <tr>\n",
       "      <th>3</th>\n",
       "      <td>2218.0</td>\n",
       "      <td>133.0</td>\n",
       "      <td>24.0</td>\n",
       "      <td>60.0</td>\n",
       "      <td>24.0</td>\n",
       "      <td>1489.0</td>\n",
       "      <td>250.0</td>\n",
       "      <td>219.0</td>\n",
       "      <td>82.0</td>\n",
       "      <td>488.0</td>\n",
       "      <td>...</td>\n",
       "      <td>0.0</td>\n",
       "      <td>0.0</td>\n",
       "      <td>0.0</td>\n",
       "      <td>0.0</td>\n",
       "      <td>0.0</td>\n",
       "      <td>0.0</td>\n",
       "      <td>0.0</td>\n",
       "      <td>0.0</td>\n",
       "      <td>0.0</td>\n",
       "      <td>0.0</td>\n",
       "    </tr>\n",
       "    <tr>\n",
       "      <th>4</th>\n",
       "      <td>2754.0</td>\n",
       "      <td>6.0</td>\n",
       "      <td>4.0</td>\n",
       "      <td>484.0</td>\n",
       "      <td>28.0</td>\n",
       "      <td>1304.0</td>\n",
       "      <td>214.0</td>\n",
       "      <td>231.0</td>\n",
       "      <td>154.0</td>\n",
       "      <td>1034.0</td>\n",
       "      <td>...</td>\n",
       "      <td>0.0</td>\n",
       "      <td>0.0</td>\n",
       "      <td>0.0</td>\n",
       "      <td>0.0</td>\n",
       "      <td>0.0</td>\n",
       "      <td>0.0</td>\n",
       "      <td>0.0</td>\n",
       "      <td>0.0</td>\n",
       "      <td>0.0</td>\n",
       "      <td>0.0</td>\n",
       "    </tr>\n",
       "    <tr>\n",
       "      <th>...</th>\n",
       "      <td>...</td>\n",
       "      <td>...</td>\n",
       "      <td>...</td>\n",
       "      <td>...</td>\n",
       "      <td>...</td>\n",
       "      <td>...</td>\n",
       "      <td>...</td>\n",
       "      <td>...</td>\n",
       "      <td>...</td>\n",
       "      <td>...</td>\n",
       "      <td>...</td>\n",
       "      <td>...</td>\n",
       "      <td>...</td>\n",
       "      <td>...</td>\n",
       "      <td>...</td>\n",
       "      <td>...</td>\n",
       "      <td>...</td>\n",
       "      <td>...</td>\n",
       "      <td>...</td>\n",
       "      <td>...</td>\n",
       "      <td>...</td>\n",
       "    </tr>\n",
       "    <tr>\n",
       "      <th>464804</th>\n",
       "      <td>3109.0</td>\n",
       "      <td>96.0</td>\n",
       "      <td>16.0</td>\n",
       "      <td>192.0</td>\n",
       "      <td>47.0</td>\n",
       "      <td>1660.0</td>\n",
       "      <td>244.0</td>\n",
       "      <td>215.0</td>\n",
       "      <td>95.0</td>\n",
       "      <td>2598.0</td>\n",
       "      <td>...</td>\n",
       "      <td>0.0</td>\n",
       "      <td>0.0</td>\n",
       "      <td>0.0</td>\n",
       "      <td>0.0</td>\n",
       "      <td>0.0</td>\n",
       "      <td>0.0</td>\n",
       "      <td>0.0</td>\n",
       "      <td>0.0</td>\n",
       "      <td>0.0</td>\n",
       "      <td>0.0</td>\n",
       "    </tr>\n",
       "    <tr>\n",
       "      <th>464805</th>\n",
       "      <td>2978.0</td>\n",
       "      <td>296.0</td>\n",
       "      <td>12.0</td>\n",
       "      <td>0.0</td>\n",
       "      <td>0.0</td>\n",
       "      <td>300.0</td>\n",
       "      <td>185.0</td>\n",
       "      <td>236.0</td>\n",
       "      <td>191.0</td>\n",
       "      <td>228.0</td>\n",
       "      <td>...</td>\n",
       "      <td>0.0</td>\n",
       "      <td>0.0</td>\n",
       "      <td>0.0</td>\n",
       "      <td>0.0</td>\n",
       "      <td>0.0</td>\n",
       "      <td>0.0</td>\n",
       "      <td>0.0</td>\n",
       "      <td>0.0</td>\n",
       "      <td>0.0</td>\n",
       "      <td>0.0</td>\n",
       "    </tr>\n",
       "    <tr>\n",
       "      <th>464806</th>\n",
       "      <td>3018.0</td>\n",
       "      <td>135.0</td>\n",
       "      <td>6.0</td>\n",
       "      <td>277.0</td>\n",
       "      <td>38.0</td>\n",
       "      <td>4321.0</td>\n",
       "      <td>230.0</td>\n",
       "      <td>237.0</td>\n",
       "      <td>140.0</td>\n",
       "      <td>778.0</td>\n",
       "      <td>...</td>\n",
       "      <td>0.0</td>\n",
       "      <td>0.0</td>\n",
       "      <td>0.0</td>\n",
       "      <td>0.0</td>\n",
       "      <td>0.0</td>\n",
       "      <td>0.0</td>\n",
       "      <td>0.0</td>\n",
       "      <td>0.0</td>\n",
       "      <td>0.0</td>\n",
       "      <td>0.0</td>\n",
       "    </tr>\n",
       "    <tr>\n",
       "      <th>464807</th>\n",
       "      <td>2841.0</td>\n",
       "      <td>65.0</td>\n",
       "      <td>15.0</td>\n",
       "      <td>162.0</td>\n",
       "      <td>62.0</td>\n",
       "      <td>2663.0</td>\n",
       "      <td>233.0</td>\n",
       "      <td>207.0</td>\n",
       "      <td>102.0</td>\n",
       "      <td>2858.0</td>\n",
       "      <td>...</td>\n",
       "      <td>0.0</td>\n",
       "      <td>0.0</td>\n",
       "      <td>0.0</td>\n",
       "      <td>0.0</td>\n",
       "      <td>0.0</td>\n",
       "      <td>0.0</td>\n",
       "      <td>0.0</td>\n",
       "      <td>0.0</td>\n",
       "      <td>0.0</td>\n",
       "      <td>0.0</td>\n",
       "    </tr>\n",
       "    <tr>\n",
       "      <th>464808</th>\n",
       "      <td>2983.0</td>\n",
       "      <td>185.0</td>\n",
       "      <td>17.0</td>\n",
       "      <td>268.0</td>\n",
       "      <td>38.0</td>\n",
       "      <td>2490.0</td>\n",
       "      <td>221.0</td>\n",
       "      <td>250.0</td>\n",
       "      <td>156.0</td>\n",
       "      <td>976.0</td>\n",
       "      <td>...</td>\n",
       "      <td>0.0</td>\n",
       "      <td>0.0</td>\n",
       "      <td>0.0</td>\n",
       "      <td>0.0</td>\n",
       "      <td>0.0</td>\n",
       "      <td>0.0</td>\n",
       "      <td>0.0</td>\n",
       "      <td>0.0</td>\n",
       "      <td>0.0</td>\n",
       "      <td>0.0</td>\n",
       "    </tr>\n",
       "  </tbody>\n",
       "</table>\n",
       "<p>464809 rows × 54 columns</p>\n",
       "</div>"
      ],
      "text/plain": [
       "            0      1     2      3      4       5      6      7      8   \\\n",
       "0       3309.0  277.0   8.0  182.0   41.0  3369.0  199.0  242.0  182.0   \n",
       "1       3006.0  290.0  10.0  150.0   29.0  2828.0  191.0  239.0  188.0   \n",
       "2       2982.0  284.0  18.0  570.0  348.0  1579.0  168.0  237.0  208.0   \n",
       "3       2218.0  133.0  24.0   60.0   24.0  1489.0  250.0  219.0   82.0   \n",
       "4       2754.0    6.0   4.0  484.0   28.0  1304.0  214.0  231.0  154.0   \n",
       "...        ...    ...   ...    ...    ...     ...    ...    ...    ...   \n",
       "464804  3109.0   96.0  16.0  192.0   47.0  1660.0  244.0  215.0   95.0   \n",
       "464805  2978.0  296.0  12.0    0.0    0.0   300.0  185.0  236.0  191.0   \n",
       "464806  3018.0  135.0   6.0  277.0   38.0  4321.0  230.0  237.0  140.0   \n",
       "464807  2841.0   65.0  15.0  162.0   62.0  2663.0  233.0  207.0  102.0   \n",
       "464808  2983.0  185.0  17.0  268.0   38.0  2490.0  221.0  250.0  156.0   \n",
       "\n",
       "            9   ...   44   45   46   47   48   49   50   51   52   53  \n",
       "0       1639.0  ...  0.0  0.0  0.0  0.0  0.0  0.0  0.0  1.0  0.0  0.0  \n",
       "1        793.0  ...  0.0  0.0  1.0  0.0  0.0  0.0  0.0  0.0  0.0  0.0  \n",
       "2       1727.0  ...  0.0  0.0  1.0  0.0  0.0  0.0  0.0  0.0  0.0  0.0  \n",
       "3        488.0  ...  0.0  0.0  0.0  0.0  0.0  0.0  0.0  0.0  0.0  0.0  \n",
       "4       1034.0  ...  0.0  0.0  0.0  0.0  0.0  0.0  0.0  0.0  0.0  0.0  \n",
       "...        ...  ...  ...  ...  ...  ...  ...  ...  ...  ...  ...  ...  \n",
       "464804  2598.0  ...  0.0  0.0  0.0  0.0  0.0  0.0  0.0  0.0  0.0  0.0  \n",
       "464805   228.0  ...  0.0  0.0  0.0  0.0  0.0  0.0  0.0  0.0  0.0  0.0  \n",
       "464806   778.0  ...  0.0  0.0  0.0  0.0  0.0  0.0  0.0  0.0  0.0  0.0  \n",
       "464807  2858.0  ...  0.0  0.0  0.0  0.0  0.0  0.0  0.0  0.0  0.0  0.0  \n",
       "464808   976.0  ...  0.0  0.0  0.0  0.0  0.0  0.0  0.0  0.0  0.0  0.0  \n",
       "\n",
       "[464809 rows x 54 columns]"
      ]
     },
     "execution_count": 11,
     "metadata": {},
     "output_type": "execute_result"
    }
   ],
   "source": [
    "covtype_train_df = pd.DataFrame(data=covtype_X_train)\n",
    "covtype_train_df"
   ]
  },
  {
   "cell_type": "code",
   "execution_count": 12,
   "metadata": {
    "id": "jKuvb4AfNzop"
   },
   "outputs": [
    {
     "data": {
      "text/html": [
       "<div>\n",
       "<style scoped>\n",
       "    .dataframe tbody tr th:only-of-type {\n",
       "        vertical-align: middle;\n",
       "    }\n",
       "\n",
       "    .dataframe tbody tr th {\n",
       "        vertical-align: top;\n",
       "    }\n",
       "\n",
       "    .dataframe thead th {\n",
       "        text-align: right;\n",
       "    }\n",
       "</style>\n",
       "<table border=\"1\" class=\"dataframe\">\n",
       "  <thead>\n",
       "    <tr style=\"text-align: right;\">\n",
       "      <th></th>\n",
       "      <th>0</th>\n",
       "      <th>1</th>\n",
       "      <th>2</th>\n",
       "      <th>3</th>\n",
       "      <th>4</th>\n",
       "      <th>5</th>\n",
       "      <th>6</th>\n",
       "      <th>7</th>\n",
       "      <th>8</th>\n",
       "      <th>9</th>\n",
       "      <th>...</th>\n",
       "      <th>44</th>\n",
       "      <th>45</th>\n",
       "      <th>46</th>\n",
       "      <th>47</th>\n",
       "      <th>48</th>\n",
       "      <th>49</th>\n",
       "      <th>50</th>\n",
       "      <th>51</th>\n",
       "      <th>52</th>\n",
       "      <th>53</th>\n",
       "    </tr>\n",
       "  </thead>\n",
       "  <tbody>\n",
       "    <tr>\n",
       "      <th>0</th>\n",
       "      <td>2687.0</td>\n",
       "      <td>200.0</td>\n",
       "      <td>9.0</td>\n",
       "      <td>30.0</td>\n",
       "      <td>-3.0</td>\n",
       "      <td>2285.0</td>\n",
       "      <td>217.0</td>\n",
       "      <td>248.0</td>\n",
       "      <td>166.0</td>\n",
       "      <td>1892.0</td>\n",
       "      <td>...</td>\n",
       "      <td>0.0</td>\n",
       "      <td>0.0</td>\n",
       "      <td>0.0</td>\n",
       "      <td>0.0</td>\n",
       "      <td>0.0</td>\n",
       "      <td>0.0</td>\n",
       "      <td>0.0</td>\n",
       "      <td>0.0</td>\n",
       "      <td>0.0</td>\n",
       "      <td>0.0</td>\n",
       "    </tr>\n",
       "    <tr>\n",
       "      <th>1</th>\n",
       "      <td>2295.0</td>\n",
       "      <td>16.0</td>\n",
       "      <td>24.0</td>\n",
       "      <td>360.0</td>\n",
       "      <td>88.0</td>\n",
       "      <td>240.0</td>\n",
       "      <td>192.0</td>\n",
       "      <td>183.0</td>\n",
       "      <td>119.0</td>\n",
       "      <td>1559.0</td>\n",
       "      <td>...</td>\n",
       "      <td>0.0</td>\n",
       "      <td>0.0</td>\n",
       "      <td>0.0</td>\n",
       "      <td>0.0</td>\n",
       "      <td>0.0</td>\n",
       "      <td>0.0</td>\n",
       "      <td>0.0</td>\n",
       "      <td>0.0</td>\n",
       "      <td>0.0</td>\n",
       "      <td>0.0</td>\n",
       "    </tr>\n",
       "    <tr>\n",
       "      <th>2</th>\n",
       "      <td>3018.0</td>\n",
       "      <td>85.0</td>\n",
       "      <td>10.0</td>\n",
       "      <td>426.0</td>\n",
       "      <td>55.0</td>\n",
       "      <td>450.0</td>\n",
       "      <td>235.0</td>\n",
       "      <td>222.0</td>\n",
       "      <td>118.0</td>\n",
       "      <td>1434.0</td>\n",
       "      <td>...</td>\n",
       "      <td>0.0</td>\n",
       "      <td>0.0</td>\n",
       "      <td>0.0</td>\n",
       "      <td>0.0</td>\n",
       "      <td>0.0</td>\n",
       "      <td>0.0</td>\n",
       "      <td>0.0</td>\n",
       "      <td>0.0</td>\n",
       "      <td>0.0</td>\n",
       "      <td>0.0</td>\n",
       "    </tr>\n",
       "    <tr>\n",
       "      <th>3</th>\n",
       "      <td>3204.0</td>\n",
       "      <td>247.0</td>\n",
       "      <td>8.0</td>\n",
       "      <td>108.0</td>\n",
       "      <td>12.0</td>\n",
       "      <td>5975.0</td>\n",
       "      <td>203.0</td>\n",
       "      <td>246.0</td>\n",
       "      <td>181.0</td>\n",
       "      <td>1557.0</td>\n",
       "      <td>...</td>\n",
       "      <td>0.0</td>\n",
       "      <td>0.0</td>\n",
       "      <td>0.0</td>\n",
       "      <td>0.0</td>\n",
       "      <td>0.0</td>\n",
       "      <td>0.0</td>\n",
       "      <td>0.0</td>\n",
       "      <td>0.0</td>\n",
       "      <td>0.0</td>\n",
       "      <td>0.0</td>\n",
       "    </tr>\n",
       "    <tr>\n",
       "      <th>4</th>\n",
       "      <td>2679.0</td>\n",
       "      <td>345.0</td>\n",
       "      <td>15.0</td>\n",
       "      <td>60.0</td>\n",
       "      <td>12.0</td>\n",
       "      <td>1282.0</td>\n",
       "      <td>189.0</td>\n",
       "      <td>215.0</td>\n",
       "      <td>164.0</td>\n",
       "      <td>3247.0</td>\n",
       "      <td>...</td>\n",
       "      <td>0.0</td>\n",
       "      <td>0.0</td>\n",
       "      <td>0.0</td>\n",
       "      <td>0.0</td>\n",
       "      <td>0.0</td>\n",
       "      <td>0.0</td>\n",
       "      <td>0.0</td>\n",
       "      <td>0.0</td>\n",
       "      <td>0.0</td>\n",
       "      <td>0.0</td>\n",
       "    </tr>\n",
       "    <tr>\n",
       "      <th>...</th>\n",
       "      <td>...</td>\n",
       "      <td>...</td>\n",
       "      <td>...</td>\n",
       "      <td>...</td>\n",
       "      <td>...</td>\n",
       "      <td>...</td>\n",
       "      <td>...</td>\n",
       "      <td>...</td>\n",
       "      <td>...</td>\n",
       "      <td>...</td>\n",
       "      <td>...</td>\n",
       "      <td>...</td>\n",
       "      <td>...</td>\n",
       "      <td>...</td>\n",
       "      <td>...</td>\n",
       "      <td>...</td>\n",
       "      <td>...</td>\n",
       "      <td>...</td>\n",
       "      <td>...</td>\n",
       "      <td>...</td>\n",
       "      <td>...</td>\n",
       "    </tr>\n",
       "    <tr>\n",
       "      <th>116198</th>\n",
       "      <td>3176.0</td>\n",
       "      <td>57.0</td>\n",
       "      <td>13.0</td>\n",
       "      <td>120.0</td>\n",
       "      <td>28.0</td>\n",
       "      <td>5610.0</td>\n",
       "      <td>228.0</td>\n",
       "      <td>213.0</td>\n",
       "      <td>116.0</td>\n",
       "      <td>2074.0</td>\n",
       "      <td>...</td>\n",
       "      <td>0.0</td>\n",
       "      <td>0.0</td>\n",
       "      <td>0.0</td>\n",
       "      <td>0.0</td>\n",
       "      <td>0.0</td>\n",
       "      <td>0.0</td>\n",
       "      <td>0.0</td>\n",
       "      <td>0.0</td>\n",
       "      <td>0.0</td>\n",
       "      <td>0.0</td>\n",
       "    </tr>\n",
       "    <tr>\n",
       "      <th>116199</th>\n",
       "      <td>3345.0</td>\n",
       "      <td>97.0</td>\n",
       "      <td>19.0</td>\n",
       "      <td>492.0</td>\n",
       "      <td>58.0</td>\n",
       "      <td>1399.0</td>\n",
       "      <td>247.0</td>\n",
       "      <td>210.0</td>\n",
       "      <td>85.0</td>\n",
       "      <td>2552.0</td>\n",
       "      <td>...</td>\n",
       "      <td>0.0</td>\n",
       "      <td>1.0</td>\n",
       "      <td>0.0</td>\n",
       "      <td>0.0</td>\n",
       "      <td>0.0</td>\n",
       "      <td>0.0</td>\n",
       "      <td>0.0</td>\n",
       "      <td>0.0</td>\n",
       "      <td>0.0</td>\n",
       "      <td>0.0</td>\n",
       "    </tr>\n",
       "    <tr>\n",
       "      <th>116200</th>\n",
       "      <td>2972.0</td>\n",
       "      <td>67.0</td>\n",
       "      <td>6.0</td>\n",
       "      <td>474.0</td>\n",
       "      <td>47.0</td>\n",
       "      <td>4235.0</td>\n",
       "      <td>227.0</td>\n",
       "      <td>228.0</td>\n",
       "      <td>135.0</td>\n",
       "      <td>5437.0</td>\n",
       "      <td>...</td>\n",
       "      <td>0.0</td>\n",
       "      <td>0.0</td>\n",
       "      <td>0.0</td>\n",
       "      <td>0.0</td>\n",
       "      <td>0.0</td>\n",
       "      <td>0.0</td>\n",
       "      <td>0.0</td>\n",
       "      <td>0.0</td>\n",
       "      <td>0.0</td>\n",
       "      <td>0.0</td>\n",
       "    </tr>\n",
       "    <tr>\n",
       "      <th>116201</th>\n",
       "      <td>3416.0</td>\n",
       "      <td>77.0</td>\n",
       "      <td>12.0</td>\n",
       "      <td>564.0</td>\n",
       "      <td>259.0</td>\n",
       "      <td>1567.0</td>\n",
       "      <td>235.0</td>\n",
       "      <td>218.0</td>\n",
       "      <td>113.0</td>\n",
       "      <td>841.0</td>\n",
       "      <td>...</td>\n",
       "      <td>0.0</td>\n",
       "      <td>0.0</td>\n",
       "      <td>0.0</td>\n",
       "      <td>0.0</td>\n",
       "      <td>0.0</td>\n",
       "      <td>0.0</td>\n",
       "      <td>0.0</td>\n",
       "      <td>0.0</td>\n",
       "      <td>0.0</td>\n",
       "      <td>1.0</td>\n",
       "    </tr>\n",
       "    <tr>\n",
       "      <th>116202</th>\n",
       "      <td>2998.0</td>\n",
       "      <td>110.0</td>\n",
       "      <td>18.0</td>\n",
       "      <td>300.0</td>\n",
       "      <td>3.0</td>\n",
       "      <td>4302.0</td>\n",
       "      <td>248.0</td>\n",
       "      <td>218.0</td>\n",
       "      <td>92.0</td>\n",
       "      <td>2382.0</td>\n",
       "      <td>...</td>\n",
       "      <td>0.0</td>\n",
       "      <td>0.0</td>\n",
       "      <td>0.0</td>\n",
       "      <td>0.0</td>\n",
       "      <td>0.0</td>\n",
       "      <td>0.0</td>\n",
       "      <td>0.0</td>\n",
       "      <td>0.0</td>\n",
       "      <td>0.0</td>\n",
       "      <td>0.0</td>\n",
       "    </tr>\n",
       "  </tbody>\n",
       "</table>\n",
       "<p>116203 rows × 54 columns</p>\n",
       "</div>"
      ],
      "text/plain": [
       "            0      1     2      3      4       5      6      7      8   \\\n",
       "0       2687.0  200.0   9.0   30.0   -3.0  2285.0  217.0  248.0  166.0   \n",
       "1       2295.0   16.0  24.0  360.0   88.0   240.0  192.0  183.0  119.0   \n",
       "2       3018.0   85.0  10.0  426.0   55.0   450.0  235.0  222.0  118.0   \n",
       "3       3204.0  247.0   8.0  108.0   12.0  5975.0  203.0  246.0  181.0   \n",
       "4       2679.0  345.0  15.0   60.0   12.0  1282.0  189.0  215.0  164.0   \n",
       "...        ...    ...   ...    ...    ...     ...    ...    ...    ...   \n",
       "116198  3176.0   57.0  13.0  120.0   28.0  5610.0  228.0  213.0  116.0   \n",
       "116199  3345.0   97.0  19.0  492.0   58.0  1399.0  247.0  210.0   85.0   \n",
       "116200  2972.0   67.0   6.0  474.0   47.0  4235.0  227.0  228.0  135.0   \n",
       "116201  3416.0   77.0  12.0  564.0  259.0  1567.0  235.0  218.0  113.0   \n",
       "116202  2998.0  110.0  18.0  300.0    3.0  4302.0  248.0  218.0   92.0   \n",
       "\n",
       "            9   ...   44   45   46   47   48   49   50   51   52   53  \n",
       "0       1892.0  ...  0.0  0.0  0.0  0.0  0.0  0.0  0.0  0.0  0.0  0.0  \n",
       "1       1559.0  ...  0.0  0.0  0.0  0.0  0.0  0.0  0.0  0.0  0.0  0.0  \n",
       "2       1434.0  ...  0.0  0.0  0.0  0.0  0.0  0.0  0.0  0.0  0.0  0.0  \n",
       "3       1557.0  ...  0.0  0.0  0.0  0.0  0.0  0.0  0.0  0.0  0.0  0.0  \n",
       "4       3247.0  ...  0.0  0.0  0.0  0.0  0.0  0.0  0.0  0.0  0.0  0.0  \n",
       "...        ...  ...  ...  ...  ...  ...  ...  ...  ...  ...  ...  ...  \n",
       "116198  2074.0  ...  0.0  0.0  0.0  0.0  0.0  0.0  0.0  0.0  0.0  0.0  \n",
       "116199  2552.0  ...  0.0  1.0  0.0  0.0  0.0  0.0  0.0  0.0  0.0  0.0  \n",
       "116200  5437.0  ...  0.0  0.0  0.0  0.0  0.0  0.0  0.0  0.0  0.0  0.0  \n",
       "116201   841.0  ...  0.0  0.0  0.0  0.0  0.0  0.0  0.0  0.0  0.0  1.0  \n",
       "116202  2382.0  ...  0.0  0.0  0.0  0.0  0.0  0.0  0.0  0.0  0.0  0.0  \n",
       "\n",
       "[116203 rows x 54 columns]"
      ]
     },
     "execution_count": 12,
     "metadata": {},
     "output_type": "execute_result"
    }
   ],
   "source": [
    "covtype_test_df = pd.DataFrame(data=covtype_X_test)\n",
    "covtype_test_df"
   ]
  },
  {
   "cell_type": "markdown",
   "metadata": {
    "id": "FRsWUNBjN9q9"
   },
   "source": [
    "#### 전처리 과정"
   ]
  },
  {
   "cell_type": "code",
   "execution_count": 13,
   "metadata": {
    "id": "zLYMfVwwpIMH"
   },
   "outputs": [],
   "source": [
    "scaler = StandardScaler()\n",
    "covtype_X_train_scale = scaler.fit_transform(covtype_X_train)\n",
    "covtype_X_test_scale = scaler.transform(covtype_X_test)"
   ]
  },
  {
   "cell_type": "markdown",
   "metadata": {
    "id": "Z8l7rTxROCgr"
   },
   "source": [
    "#### 전처리 후 데이터\n",
    "* 평균은 0에 가깝게, 표준평차는 1에 가깝게 정규화"
   ]
  },
  {
   "cell_type": "code",
   "execution_count": 14,
   "metadata": {
    "id": "it55pXLoOGBa"
   },
   "outputs": [
    {
     "data": {
      "text/html": [
       "<div>\n",
       "<style scoped>\n",
       "    .dataframe tbody tr th:only-of-type {\n",
       "        vertical-align: middle;\n",
       "    }\n",
       "\n",
       "    .dataframe tbody tr th {\n",
       "        vertical-align: top;\n",
       "    }\n",
       "\n",
       "    .dataframe thead th {\n",
       "        text-align: right;\n",
       "    }\n",
       "</style>\n",
       "<table border=\"1\" class=\"dataframe\">\n",
       "  <thead>\n",
       "    <tr style=\"text-align: right;\">\n",
       "      <th></th>\n",
       "      <th>0</th>\n",
       "      <th>1</th>\n",
       "      <th>2</th>\n",
       "      <th>3</th>\n",
       "      <th>4</th>\n",
       "      <th>5</th>\n",
       "      <th>6</th>\n",
       "      <th>7</th>\n",
       "      <th>8</th>\n",
       "      <th>9</th>\n",
       "      <th>...</th>\n",
       "      <th>44</th>\n",
       "      <th>45</th>\n",
       "      <th>46</th>\n",
       "      <th>47</th>\n",
       "      <th>48</th>\n",
       "      <th>49</th>\n",
       "      <th>50</th>\n",
       "      <th>51</th>\n",
       "      <th>52</th>\n",
       "      <th>53</th>\n",
       "    </tr>\n",
       "  </thead>\n",
       "  <tbody>\n",
       "    <tr>\n",
       "      <th>count</th>\n",
       "      <td>4.648090e+05</td>\n",
       "      <td>4.648090e+05</td>\n",
       "      <td>4.648090e+05</td>\n",
       "      <td>4.648090e+05</td>\n",
       "      <td>4.648090e+05</td>\n",
       "      <td>4.648090e+05</td>\n",
       "      <td>4.648090e+05</td>\n",
       "      <td>4.648090e+05</td>\n",
       "      <td>4.648090e+05</td>\n",
       "      <td>4.648090e+05</td>\n",
       "      <td>...</td>\n",
       "      <td>4.648090e+05</td>\n",
       "      <td>4.648090e+05</td>\n",
       "      <td>4.648090e+05</td>\n",
       "      <td>4.648090e+05</td>\n",
       "      <td>4.648090e+05</td>\n",
       "      <td>4.648090e+05</td>\n",
       "      <td>4.648090e+05</td>\n",
       "      <td>4.648090e+05</td>\n",
       "      <td>4.648090e+05</td>\n",
       "      <td>4.648090e+05</td>\n",
       "    </tr>\n",
       "    <tr>\n",
       "      <th>mean</th>\n",
       "      <td>-6.467602e-16</td>\n",
       "      <td>1.161489e-16</td>\n",
       "      <td>1.186865e-16</td>\n",
       "      <td>-4.014305e-17</td>\n",
       "      <td>6.000056e-17</td>\n",
       "      <td>-6.982996e-17</td>\n",
       "      <td>1.857801e-16</td>\n",
       "      <td>6.223855e-16</td>\n",
       "      <td>-5.474192e-17</td>\n",
       "      <td>-2.666012e-17</td>\n",
       "      <td>...</td>\n",
       "      <td>-1.557722e-17</td>\n",
       "      <td>-6.359295e-18</td>\n",
       "      <td>-2.467284e-17</td>\n",
       "      <td>-1.207655e-17</td>\n",
       "      <td>-7.643384e-20</td>\n",
       "      <td>-6.764395e-18</td>\n",
       "      <td>-1.757978e-18</td>\n",
       "      <td>4.572272e-17</td>\n",
       "      <td>5.408459e-17</td>\n",
       "      <td>-4.390360e-17</td>\n",
       "    </tr>\n",
       "    <tr>\n",
       "      <th>std</th>\n",
       "      <td>1.000001e+00</td>\n",
       "      <td>1.000001e+00</td>\n",
       "      <td>1.000001e+00</td>\n",
       "      <td>1.000001e+00</td>\n",
       "      <td>1.000001e+00</td>\n",
       "      <td>1.000001e+00</td>\n",
       "      <td>1.000001e+00</td>\n",
       "      <td>1.000001e+00</td>\n",
       "      <td>1.000001e+00</td>\n",
       "      <td>1.000001e+00</td>\n",
       "      <td>...</td>\n",
       "      <td>1.000001e+00</td>\n",
       "      <td>1.000001e+00</td>\n",
       "      <td>1.000001e+00</td>\n",
       "      <td>1.000001e+00</td>\n",
       "      <td>1.000001e+00</td>\n",
       "      <td>1.000001e+00</td>\n",
       "      <td>1.000001e+00</td>\n",
       "      <td>1.000001e+00</td>\n",
       "      <td>1.000001e+00</td>\n",
       "      <td>1.000001e+00</td>\n",
       "    </tr>\n",
       "    <tr>\n",
       "      <th>min</th>\n",
       "      <td>-3.929651e+00</td>\n",
       "      <td>-1.389536e+00</td>\n",
       "      <td>-1.882821e+00</td>\n",
       "      <td>-1.268222e+00</td>\n",
       "      <td>-3.762513e+00</td>\n",
       "      <td>-1.506955e+00</td>\n",
       "      <td>-7.927321e+00</td>\n",
       "      <td>-1.128709e+01</td>\n",
       "      <td>-3.721306e+00</td>\n",
       "      <td>-1.495447e+00</td>\n",
       "      <td>...</td>\n",
       "      <td>-2.155280e-01</td>\n",
       "      <td>-3.151673e-01</td>\n",
       "      <td>-2.906928e-01</td>\n",
       "      <td>-5.302059e-02</td>\n",
       "      <td>-5.676639e-02</td>\n",
       "      <td>-1.459576e-02</td>\n",
       "      <td>-2.301152e-02</td>\n",
       "      <td>-1.659398e-01</td>\n",
       "      <td>-1.562108e-01</td>\n",
       "      <td>-1.233124e-01</td>\n",
       "    </tr>\n",
       "    <tr>\n",
       "      <th>25%</th>\n",
       "      <td>-5.372307e-01</td>\n",
       "      <td>-8.713014e-01</td>\n",
       "      <td>-6.815880e-01</td>\n",
       "      <td>-7.601935e-01</td>\n",
       "      <td>-6.764669e-01</td>\n",
       "      <td>-7.988201e-01</td>\n",
       "      <td>-5.291777e-01</td>\n",
       "      <td>-5.203718e-01</td>\n",
       "      <td>-6.132725e-01</td>\n",
       "      <td>-7.223556e-01</td>\n",
       "      <td>...</td>\n",
       "      <td>-2.155280e-01</td>\n",
       "      <td>-3.151673e-01</td>\n",
       "      <td>-2.906928e-01</td>\n",
       "      <td>-5.302059e-02</td>\n",
       "      <td>-5.676639e-02</td>\n",
       "      <td>-1.459576e-02</td>\n",
       "      <td>-2.301152e-02</td>\n",
       "      <td>-1.659398e-01</td>\n",
       "      <td>-1.562108e-01</td>\n",
       "      <td>-1.233124e-01</td>\n",
       "    </tr>\n",
       "    <tr>\n",
       "      <th>50%</th>\n",
       "      <td>1.305405e-01</td>\n",
       "      <td>-2.547814e-01</td>\n",
       "      <td>-1.477069e-01</td>\n",
       "      <td>-2.427571e-01</td>\n",
       "      <td>-2.821387e-01</td>\n",
       "      <td>-2.273092e-01</td>\n",
       "      <td>2.181095e-01</td>\n",
       "      <td>1.367519e-01</td>\n",
       "      <td>1.355791e-02</td>\n",
       "      <td>-2.044446e-01</td>\n",
       "      <td>...</td>\n",
       "      <td>-2.155280e-01</td>\n",
       "      <td>-3.151673e-01</td>\n",
       "      <td>-2.906928e-01</td>\n",
       "      <td>-5.302059e-02</td>\n",
       "      <td>-5.676639e-02</td>\n",
       "      <td>-1.459576e-02</td>\n",
       "      <td>-2.301152e-02</td>\n",
       "      <td>-1.659398e-01</td>\n",
       "      <td>-1.562108e-01</td>\n",
       "      <td>-1.233124e-01</td>\n",
       "    </tr>\n",
       "    <tr>\n",
       "      <th>75%</th>\n",
       "      <td>7.268922e-01</td>\n",
       "      <td>9.335831e-01</td>\n",
       "      <td>5.196445e-01</td>\n",
       "      <td>5.663252e-01</td>\n",
       "      <td>3.865047e-01</td>\n",
       "      <td>6.277122e-01</td>\n",
       "      <td>7.038462e-01</td>\n",
       "      <td>6.927797e-01</td>\n",
       "      <td>6.665062e-01</td>\n",
       "      <td>4.297321e-01</td>\n",
       "      <td>...</td>\n",
       "      <td>-2.155280e-01</td>\n",
       "      <td>-3.151673e-01</td>\n",
       "      <td>-2.906928e-01</td>\n",
       "      <td>-5.302059e-02</td>\n",
       "      <td>-5.676639e-02</td>\n",
       "      <td>-1.459576e-02</td>\n",
       "      <td>-2.301152e-02</td>\n",
       "      <td>-1.659398e-01</td>\n",
       "      <td>-1.562108e-01</td>\n",
       "      <td>-1.233124e-01</td>\n",
       "    </tr>\n",
       "    <tr>\n",
       "      <th>max</th>\n",
       "      <td>3.208715e+00</td>\n",
       "      <td>1.827090e+00</td>\n",
       "      <td>6.792747e+00</td>\n",
       "      <td>5.303220e+00</td>\n",
       "      <td>9.507487e+00</td>\n",
       "      <td>3.057435e+00</td>\n",
       "      <td>1.563226e+00</td>\n",
       "      <td>1.552095e+00</td>\n",
       "      <td>2.912648e+00</td>\n",
       "      <td>3.919214e+00</td>\n",
       "      <td>...</td>\n",
       "      <td>4.639769e+00</td>\n",
       "      <td>3.172918e+00</td>\n",
       "      <td>3.440058e+00</td>\n",
       "      <td>1.886060e+01</td>\n",
       "      <td>1.761606e+01</td>\n",
       "      <td>6.851307e+01</td>\n",
       "      <td>4.345650e+01</td>\n",
       "      <td>6.026282e+00</td>\n",
       "      <td>6.401608e+00</td>\n",
       "      <td>8.109483e+00</td>\n",
       "    </tr>\n",
       "  </tbody>\n",
       "</table>\n",
       "<p>8 rows × 54 columns</p>\n",
       "</div>"
      ],
      "text/plain": [
       "                 0             1             2             3             4   \\\n",
       "count  4.648090e+05  4.648090e+05  4.648090e+05  4.648090e+05  4.648090e+05   \n",
       "mean  -6.467602e-16  1.161489e-16  1.186865e-16 -4.014305e-17  6.000056e-17   \n",
       "std    1.000001e+00  1.000001e+00  1.000001e+00  1.000001e+00  1.000001e+00   \n",
       "min   -3.929651e+00 -1.389536e+00 -1.882821e+00 -1.268222e+00 -3.762513e+00   \n",
       "25%   -5.372307e-01 -8.713014e-01 -6.815880e-01 -7.601935e-01 -6.764669e-01   \n",
       "50%    1.305405e-01 -2.547814e-01 -1.477069e-01 -2.427571e-01 -2.821387e-01   \n",
       "75%    7.268922e-01  9.335831e-01  5.196445e-01  5.663252e-01  3.865047e-01   \n",
       "max    3.208715e+00  1.827090e+00  6.792747e+00  5.303220e+00  9.507487e+00   \n",
       "\n",
       "                 5             6             7             8             9   \\\n",
       "count  4.648090e+05  4.648090e+05  4.648090e+05  4.648090e+05  4.648090e+05   \n",
       "mean  -6.982996e-17  1.857801e-16  6.223855e-16 -5.474192e-17 -2.666012e-17   \n",
       "std    1.000001e+00  1.000001e+00  1.000001e+00  1.000001e+00  1.000001e+00   \n",
       "min   -1.506955e+00 -7.927321e+00 -1.128709e+01 -3.721306e+00 -1.495447e+00   \n",
       "25%   -7.988201e-01 -5.291777e-01 -5.203718e-01 -6.132725e-01 -7.223556e-01   \n",
       "50%   -2.273092e-01  2.181095e-01  1.367519e-01  1.355791e-02 -2.044446e-01   \n",
       "75%    6.277122e-01  7.038462e-01  6.927797e-01  6.665062e-01  4.297321e-01   \n",
       "max    3.057435e+00  1.563226e+00  1.552095e+00  2.912648e+00  3.919214e+00   \n",
       "\n",
       "       ...            44            45            46            47  \\\n",
       "count  ...  4.648090e+05  4.648090e+05  4.648090e+05  4.648090e+05   \n",
       "mean   ... -1.557722e-17 -6.359295e-18 -2.467284e-17 -1.207655e-17   \n",
       "std    ...  1.000001e+00  1.000001e+00  1.000001e+00  1.000001e+00   \n",
       "min    ... -2.155280e-01 -3.151673e-01 -2.906928e-01 -5.302059e-02   \n",
       "25%    ... -2.155280e-01 -3.151673e-01 -2.906928e-01 -5.302059e-02   \n",
       "50%    ... -2.155280e-01 -3.151673e-01 -2.906928e-01 -5.302059e-02   \n",
       "75%    ... -2.155280e-01 -3.151673e-01 -2.906928e-01 -5.302059e-02   \n",
       "max    ...  4.639769e+00  3.172918e+00  3.440058e+00  1.886060e+01   \n",
       "\n",
       "                 48            49            50            51            52  \\\n",
       "count  4.648090e+05  4.648090e+05  4.648090e+05  4.648090e+05  4.648090e+05   \n",
       "mean  -7.643384e-20 -6.764395e-18 -1.757978e-18  4.572272e-17  5.408459e-17   \n",
       "std    1.000001e+00  1.000001e+00  1.000001e+00  1.000001e+00  1.000001e+00   \n",
       "min   -5.676639e-02 -1.459576e-02 -2.301152e-02 -1.659398e-01 -1.562108e-01   \n",
       "25%   -5.676639e-02 -1.459576e-02 -2.301152e-02 -1.659398e-01 -1.562108e-01   \n",
       "50%   -5.676639e-02 -1.459576e-02 -2.301152e-02 -1.659398e-01 -1.562108e-01   \n",
       "75%   -5.676639e-02 -1.459576e-02 -2.301152e-02 -1.659398e-01 -1.562108e-01   \n",
       "max    1.761606e+01  6.851307e+01  4.345650e+01  6.026282e+00  6.401608e+00   \n",
       "\n",
       "                 53  \n",
       "count  4.648090e+05  \n",
       "mean  -4.390360e-17  \n",
       "std    1.000001e+00  \n",
       "min   -1.233124e-01  \n",
       "25%   -1.233124e-01  \n",
       "50%   -1.233124e-01  \n",
       "75%   -1.233124e-01  \n",
       "max    8.109483e+00  \n",
       "\n",
       "[8 rows x 54 columns]"
      ]
     },
     "execution_count": 14,
     "metadata": {},
     "output_type": "execute_result"
    }
   ],
   "source": [
    "covtype_X_train_df = pd.DataFrame(data=covtype_X_train_scale)\n",
    "covtype_X_train_df.describe()"
   ]
  },
  {
   "cell_type": "code",
   "execution_count": 15,
   "metadata": {
    "id": "yOdlTT1dOcss"
   },
   "outputs": [
    {
     "data": {
      "text/html": [
       "<div>\n",
       "<style scoped>\n",
       "    .dataframe tbody tr th:only-of-type {\n",
       "        vertical-align: middle;\n",
       "    }\n",
       "\n",
       "    .dataframe tbody tr th {\n",
       "        vertical-align: top;\n",
       "    }\n",
       "\n",
       "    .dataframe thead th {\n",
       "        text-align: right;\n",
       "    }\n",
       "</style>\n",
       "<table border=\"1\" class=\"dataframe\">\n",
       "  <thead>\n",
       "    <tr style=\"text-align: right;\">\n",
       "      <th></th>\n",
       "      <th>0</th>\n",
       "      <th>1</th>\n",
       "      <th>2</th>\n",
       "      <th>3</th>\n",
       "      <th>4</th>\n",
       "      <th>5</th>\n",
       "      <th>6</th>\n",
       "      <th>7</th>\n",
       "      <th>8</th>\n",
       "      <th>9</th>\n",
       "      <th>...</th>\n",
       "      <th>44</th>\n",
       "      <th>45</th>\n",
       "      <th>46</th>\n",
       "      <th>47</th>\n",
       "      <th>48</th>\n",
       "      <th>49</th>\n",
       "      <th>50</th>\n",
       "      <th>51</th>\n",
       "      <th>52</th>\n",
       "      <th>53</th>\n",
       "    </tr>\n",
       "  </thead>\n",
       "  <tbody>\n",
       "    <tr>\n",
       "      <th>count</th>\n",
       "      <td>116203.000000</td>\n",
       "      <td>116203.000000</td>\n",
       "      <td>116203.000000</td>\n",
       "      <td>116203.000000</td>\n",
       "      <td>116203.000000</td>\n",
       "      <td>116203.000000</td>\n",
       "      <td>116203.000000</td>\n",
       "      <td>116203.000000</td>\n",
       "      <td>116203.000000</td>\n",
       "      <td>116203.000000</td>\n",
       "      <td>...</td>\n",
       "      <td>116203.000000</td>\n",
       "      <td>116203.000000</td>\n",
       "      <td>116203.000000</td>\n",
       "      <td>116203.000000</td>\n",
       "      <td>116203.000000</td>\n",
       "      <td>116203.000000</td>\n",
       "      <td>116203.000000</td>\n",
       "      <td>116203.000000</td>\n",
       "      <td>116203.000000</td>\n",
       "      <td>116203.000000</td>\n",
       "    </tr>\n",
       "    <tr>\n",
       "      <th>mean</th>\n",
       "      <td>-0.001404</td>\n",
       "      <td>0.006346</td>\n",
       "      <td>-0.001977</td>\n",
       "      <td>-0.004203</td>\n",
       "      <td>-0.003212</td>\n",
       "      <td>0.002456</td>\n",
       "      <td>-0.003098</td>\n",
       "      <td>0.006092</td>\n",
       "      <td>0.006186</td>\n",
       "      <td>-0.001911</td>\n",
       "      <td>...</td>\n",
       "      <td>-0.005235</td>\n",
       "      <td>0.000643</td>\n",
       "      <td>-0.003766</td>\n",
       "      <td>-0.002889</td>\n",
       "      <td>0.003764</td>\n",
       "      <td>-0.002801</td>\n",
       "      <td>-0.003555</td>\n",
       "      <td>0.000159</td>\n",
       "      <td>-0.001920</td>\n",
       "      <td>0.003365</td>\n",
       "    </tr>\n",
       "    <tr>\n",
       "      <th>std</th>\n",
       "      <td>0.999082</td>\n",
       "      <td>0.999769</td>\n",
       "      <td>0.997284</td>\n",
       "      <td>0.999118</td>\n",
       "      <td>0.997265</td>\n",
       "      <td>1.000733</td>\n",
       "      <td>1.001194</td>\n",
       "      <td>0.996318</td>\n",
       "      <td>0.998241</td>\n",
       "      <td>0.998651</td>\n",
       "      <td>...</td>\n",
       "      <td>0.988343</td>\n",
       "      <td>1.000923</td>\n",
       "      <td>0.994049</td>\n",
       "      <td>0.972449</td>\n",
       "      <td>1.032513</td>\n",
       "      <td>0.898952</td>\n",
       "      <td>0.919565</td>\n",
       "      <td>1.000469</td>\n",
       "      <td>0.993989</td>\n",
       "      <td>1.013344</td>\n",
       "    </tr>\n",
       "    <tr>\n",
       "      <th>min</th>\n",
       "      <td>-3.922509</td>\n",
       "      <td>-1.389536</td>\n",
       "      <td>-1.882821</td>\n",
       "      <td>-1.268222</td>\n",
       "      <td>-3.556777</td>\n",
       "      <td>-1.506955</td>\n",
       "      <td>-6.208560</td>\n",
       "      <td>-11.287091</td>\n",
       "      <td>-3.721306</td>\n",
       "      <td>-1.495447</td>\n",
       "      <td>...</td>\n",
       "      <td>-0.215528</td>\n",
       "      <td>-0.315167</td>\n",
       "      <td>-0.290693</td>\n",
       "      <td>-0.053021</td>\n",
       "      <td>-0.056766</td>\n",
       "      <td>-0.014596</td>\n",
       "      <td>-0.023012</td>\n",
       "      <td>-0.165940</td>\n",
       "      <td>-0.156211</td>\n",
       "      <td>-0.123312</td>\n",
       "    </tr>\n",
       "    <tr>\n",
       "      <th>25%</th>\n",
       "      <td>-0.537231</td>\n",
       "      <td>-0.862366</td>\n",
       "      <td>-0.681588</td>\n",
       "      <td>-0.760193</td>\n",
       "      <td>-0.676467</td>\n",
       "      <td>-0.794972</td>\n",
       "      <td>-0.529178</td>\n",
       "      <td>-0.520372</td>\n",
       "      <td>-0.613272</td>\n",
       "      <td>-0.725375</td>\n",
       "      <td>...</td>\n",
       "      <td>-0.215528</td>\n",
       "      <td>-0.315167</td>\n",
       "      <td>-0.290693</td>\n",
       "      <td>-0.053021</td>\n",
       "      <td>-0.056766</td>\n",
       "      <td>-0.014596</td>\n",
       "      <td>-0.023012</td>\n",
       "      <td>-0.165940</td>\n",
       "      <td>-0.156211</td>\n",
       "      <td>-0.123312</td>\n",
       "    </tr>\n",
       "    <tr>\n",
       "      <th>50%</th>\n",
       "      <td>0.126970</td>\n",
       "      <td>-0.245846</td>\n",
       "      <td>-0.147707</td>\n",
       "      <td>-0.242757</td>\n",
       "      <td>-0.299283</td>\n",
       "      <td>-0.222819</td>\n",
       "      <td>0.218109</td>\n",
       "      <td>0.136752</td>\n",
       "      <td>0.013558</td>\n",
       "      <td>-0.204445</td>\n",
       "      <td>...</td>\n",
       "      <td>-0.215528</td>\n",
       "      <td>-0.315167</td>\n",
       "      <td>-0.290693</td>\n",
       "      <td>-0.053021</td>\n",
       "      <td>-0.056766</td>\n",
       "      <td>-0.014596</td>\n",
       "      <td>-0.023012</td>\n",
       "      <td>-0.165940</td>\n",
       "      <td>-0.156211</td>\n",
       "      <td>-0.123312</td>\n",
       "    </tr>\n",
       "    <tr>\n",
       "      <th>75%</th>\n",
       "      <td>0.726892</td>\n",
       "      <td>0.951453</td>\n",
       "      <td>0.519644</td>\n",
       "      <td>0.538101</td>\n",
       "      <td>0.386505</td>\n",
       "      <td>0.627712</td>\n",
       "      <td>0.703846</td>\n",
       "      <td>0.692780</td>\n",
       "      <td>0.692624</td>\n",
       "      <td>0.429732</td>\n",
       "      <td>...</td>\n",
       "      <td>-0.215528</td>\n",
       "      <td>-0.315167</td>\n",
       "      <td>-0.290693</td>\n",
       "      <td>-0.053021</td>\n",
       "      <td>-0.056766</td>\n",
       "      <td>-0.014596</td>\n",
       "      <td>-0.023012</td>\n",
       "      <td>-0.165940</td>\n",
       "      <td>-0.156211</td>\n",
       "      <td>-0.123312</td>\n",
       "    </tr>\n",
       "    <tr>\n",
       "      <th>max</th>\n",
       "      <td>3.205144</td>\n",
       "      <td>1.827090</td>\n",
       "      <td>6.926218</td>\n",
       "      <td>5.237364</td>\n",
       "      <td>9.473197</td>\n",
       "      <td>3.058077</td>\n",
       "      <td>1.563226</td>\n",
       "      <td>1.552095</td>\n",
       "      <td>2.912648</td>\n",
       "      <td>3.919969</td>\n",
       "      <td>...</td>\n",
       "      <td>4.639769</td>\n",
       "      <td>3.172918</td>\n",
       "      <td>3.440058</td>\n",
       "      <td>18.860599</td>\n",
       "      <td>17.616059</td>\n",
       "      <td>68.513067</td>\n",
       "      <td>43.456501</td>\n",
       "      <td>6.026282</td>\n",
       "      <td>6.401608</td>\n",
       "      <td>8.109483</td>\n",
       "    </tr>\n",
       "  </tbody>\n",
       "</table>\n",
       "<p>8 rows × 54 columns</p>\n",
       "</div>"
      ],
      "text/plain": [
       "                  0              1              2              3   \\\n",
       "count  116203.000000  116203.000000  116203.000000  116203.000000   \n",
       "mean       -0.001404       0.006346      -0.001977      -0.004203   \n",
       "std         0.999082       0.999769       0.997284       0.999118   \n",
       "min        -3.922509      -1.389536      -1.882821      -1.268222   \n",
       "25%        -0.537231      -0.862366      -0.681588      -0.760193   \n",
       "50%         0.126970      -0.245846      -0.147707      -0.242757   \n",
       "75%         0.726892       0.951453       0.519644       0.538101   \n",
       "max         3.205144       1.827090       6.926218       5.237364   \n",
       "\n",
       "                  4              5              6              7   \\\n",
       "count  116203.000000  116203.000000  116203.000000  116203.000000   \n",
       "mean       -0.003212       0.002456      -0.003098       0.006092   \n",
       "std         0.997265       1.000733       1.001194       0.996318   \n",
       "min        -3.556777      -1.506955      -6.208560     -11.287091   \n",
       "25%        -0.676467      -0.794972      -0.529178      -0.520372   \n",
       "50%        -0.299283      -0.222819       0.218109       0.136752   \n",
       "75%         0.386505       0.627712       0.703846       0.692780   \n",
       "max         9.473197       3.058077       1.563226       1.552095   \n",
       "\n",
       "                  8              9   ...             44             45  \\\n",
       "count  116203.000000  116203.000000  ...  116203.000000  116203.000000   \n",
       "mean        0.006186      -0.001911  ...      -0.005235       0.000643   \n",
       "std         0.998241       0.998651  ...       0.988343       1.000923   \n",
       "min        -3.721306      -1.495447  ...      -0.215528      -0.315167   \n",
       "25%        -0.613272      -0.725375  ...      -0.215528      -0.315167   \n",
       "50%         0.013558      -0.204445  ...      -0.215528      -0.315167   \n",
       "75%         0.692624       0.429732  ...      -0.215528      -0.315167   \n",
       "max         2.912648       3.919969  ...       4.639769       3.172918   \n",
       "\n",
       "                  46             47             48             49  \\\n",
       "count  116203.000000  116203.000000  116203.000000  116203.000000   \n",
       "mean       -0.003766      -0.002889       0.003764      -0.002801   \n",
       "std         0.994049       0.972449       1.032513       0.898952   \n",
       "min        -0.290693      -0.053021      -0.056766      -0.014596   \n",
       "25%        -0.290693      -0.053021      -0.056766      -0.014596   \n",
       "50%        -0.290693      -0.053021      -0.056766      -0.014596   \n",
       "75%        -0.290693      -0.053021      -0.056766      -0.014596   \n",
       "max         3.440058      18.860599      17.616059      68.513067   \n",
       "\n",
       "                  50             51             52             53  \n",
       "count  116203.000000  116203.000000  116203.000000  116203.000000  \n",
       "mean       -0.003555       0.000159      -0.001920       0.003365  \n",
       "std         0.919565       1.000469       0.993989       1.013344  \n",
       "min        -0.023012      -0.165940      -0.156211      -0.123312  \n",
       "25%        -0.023012      -0.165940      -0.156211      -0.123312  \n",
       "50%        -0.023012      -0.165940      -0.156211      -0.123312  \n",
       "75%        -0.023012      -0.165940      -0.156211      -0.123312  \n",
       "max        43.456501       6.026282       6.401608       8.109483  \n",
       "\n",
       "[8 rows x 54 columns]"
      ]
     },
     "execution_count": 15,
     "metadata": {},
     "output_type": "execute_result"
    }
   ],
   "source": [
    "covtype_X_test_df = pd.DataFrame(data=covtype_X_test_scale)\n",
    "covtype_X_test_df.describe()"
   ]
  },
  {
   "cell_type": "markdown",
   "metadata": {
    "id": "PA45idG9ayMV"
   },
   "source": [
    "## 20 Newsgroup 데이터\n",
    "* 뉴스 기사가 어느 그룹에 속하는지 분류\n",
    "* 뉴스 기사는 텍스트 데이터이기 때문에 특별한 전처리 과정이 필요"
   ]
  },
  {
   "cell_type": "code",
   "execution_count": 16,
   "metadata": {
    "id": "AO1QR0StXwgz"
   },
   "outputs": [
    {
     "name": "stdout",
     "output_type": "stream",
     "text": [
      ".. _20newsgroups_dataset:\n",
      "\n",
      "The 20 newsgroups text dataset\n",
      "------------------------------\n",
      "\n",
      "The 20 newsgroups dataset comprises around 18000 newsgroups posts on\n",
      "20 topics split in two subsets: one for training (or development)\n",
      "and the other one for testing (or for performance evaluation). The split\n",
      "between the train and test set is based upon a messages posted before\n",
      "and after a specific date.\n",
      "\n",
      "This module contains two loaders. The first one,\n",
      ":func:`sklearn.datasets.fetch_20newsgroups`,\n",
      "returns a list of the raw texts that can be fed to text feature\n",
      "extractors such as :class:`~sklearn.feature_extraction.text.CountVectorizer`\n",
      "with custom parameters so as to extract feature vectors.\n",
      "The second one, :func:`sklearn.datasets.fetch_20newsgroups_vectorized`,\n",
      "returns ready-to-use features, i.e., it is not necessary to use a feature\n",
      "extractor.\n",
      "\n",
      "**Data Set Characteristics:**\n",
      "\n",
      "    =================   ==========\n",
      "    Classes                     20\n",
      "    Samples total            18846\n",
      "    Dimensionality               1\n",
      "    Features                  text\n",
      "    =================   ==========\n",
      "\n",
      "Usage\n",
      "~~~~~\n",
      "\n",
      "The :func:`sklearn.datasets.fetch_20newsgroups` function is a data\n",
      "fetching / caching functions that downloads the data archive from\n",
      "the original `20 newsgroups website`_, extracts the archive contents\n",
      "in the ``~/scikit_learn_data/20news_home`` folder and calls the\n",
      ":func:`sklearn.datasets.load_files` on either the training or\n",
      "testing set folder, or both of them::\n",
      "\n",
      "  >>> from sklearn.datasets import fetch_20newsgroups\n",
      "  >>> newsgroups_train = fetch_20newsgroups(subset='train')\n",
      "\n",
      "  >>> from pprint import pprint\n",
      "  >>> pprint(list(newsgroups_train.target_names))\n",
      "  ['alt.atheism',\n",
      "   'comp.graphics',\n",
      "   'comp.os.ms-windows.misc',\n",
      "   'comp.sys.ibm.pc.hardware',\n",
      "   'comp.sys.mac.hardware',\n",
      "   'comp.windows.x',\n",
      "   'misc.forsale',\n",
      "   'rec.autos',\n",
      "   'rec.motorcycles',\n",
      "   'rec.sport.baseball',\n",
      "   'rec.sport.hockey',\n",
      "   'sci.crypt',\n",
      "   'sci.electronics',\n",
      "   'sci.med',\n",
      "   'sci.space',\n",
      "   'soc.religion.christian',\n",
      "   'talk.politics.guns',\n",
      "   'talk.politics.mideast',\n",
      "   'talk.politics.misc',\n",
      "   'talk.religion.misc']\n",
      "\n",
      "The real data lies in the ``filenames`` and ``target`` attributes. The target\n",
      "attribute is the integer index of the category::\n",
      "\n",
      "  >>> newsgroups_train.filenames.shape\n",
      "  (11314,)\n",
      "  >>> newsgroups_train.target.shape\n",
      "  (11314,)\n",
      "  >>> newsgroups_train.target[:10]\n",
      "  array([ 7,  4,  4,  1, 14, 16, 13,  3,  2,  4])\n",
      "\n",
      "It is possible to load only a sub-selection of the categories by passing the\n",
      "list of the categories to load to the\n",
      ":func:`sklearn.datasets.fetch_20newsgroups` function::\n",
      "\n",
      "  >>> cats = ['alt.atheism', 'sci.space']\n",
      "  >>> newsgroups_train = fetch_20newsgroups(subset='train', categories=cats)\n",
      "\n",
      "  >>> list(newsgroups_train.target_names)\n",
      "  ['alt.atheism', 'sci.space']\n",
      "  >>> newsgroups_train.filenames.shape\n",
      "  (1073,)\n",
      "  >>> newsgroups_train.target.shape\n",
      "  (1073,)\n",
      "  >>> newsgroups_train.target[:10]\n",
      "  array([0, 1, 1, 1, 0, 1, 1, 0, 0, 0])\n",
      "\n",
      "Converting text to vectors\n",
      "~~~~~~~~~~~~~~~~~~~~~~~~~~\n",
      "\n",
      "In order to feed predictive or clustering models with the text data,\n",
      "one first need to turn the text into vectors of numerical values suitable\n",
      "for statistical analysis. This can be achieved with the utilities of the\n",
      "``sklearn.feature_extraction.text`` as demonstrated in the following\n",
      "example that extract `TF-IDF`_ vectors of unigram tokens\n",
      "from a subset of 20news::\n",
      "\n",
      "  >>> from sklearn.feature_extraction.text import TfidfVectorizer\n",
      "  >>> categories = ['alt.atheism', 'talk.religion.misc',\n",
      "  ...               'comp.graphics', 'sci.space']\n",
      "  >>> newsgroups_train = fetch_20newsgroups(subset='train',\n",
      "  ...                                       categories=categories)\n",
      "  >>> vectorizer = TfidfVectorizer()\n",
      "  >>> vectors = vectorizer.fit_transform(newsgroups_train.data)\n",
      "  >>> vectors.shape\n",
      "  (2034, 34118)\n",
      "\n",
      "The extracted TF-IDF vectors are very sparse, with an average of 159 non-zero\n",
      "components by sample in a more than 30000-dimensional space\n",
      "(less than .5% non-zero features)::\n",
      "\n",
      "  >>> vectors.nnz / float(vectors.shape[0])\n",
      "  159.01327...\n",
      "\n",
      ":func:`sklearn.datasets.fetch_20newsgroups_vectorized` is a function which\n",
      "returns ready-to-use token counts features instead of file names.\n",
      "\n",
      ".. _`20 newsgroups website`: http://people.csail.mit.edu/jrennie/20Newsgroups/\n",
      ".. _`TF-IDF`: https://en.wikipedia.org/wiki/Tf-idf\n",
      "\n",
      "\n",
      "Filtering text for more realistic training\n",
      "~~~~~~~~~~~~~~~~~~~~~~~~~~~~~~~~~~~~~~~~~~\n",
      "\n",
      "It is easy for a classifier to overfit on particular things that appear in the\n",
      "20 Newsgroups data, such as newsgroup headers. Many classifiers achieve very\n",
      "high F-scores, but their results would not generalize to other documents that\n",
      "aren't from this window of time.\n",
      "\n",
      "For example, let's look at the results of a multinomial Naive Bayes classifier,\n",
      "which is fast to train and achieves a decent F-score::\n",
      "\n",
      "  >>> from sklearn.naive_bayes import MultinomialNB\n",
      "  >>> from sklearn import metrics\n",
      "  >>> newsgroups_test = fetch_20newsgroups(subset='test',\n",
      "  ...                                      categories=categories)\n",
      "  >>> vectors_test = vectorizer.transform(newsgroups_test.data)\n",
      "  >>> clf = MultinomialNB(alpha=.01)\n",
      "  >>> clf.fit(vectors, newsgroups_train.target)\n",
      "  MultinomialNB(alpha=0.01, class_prior=None, fit_prior=True)\n",
      "\n",
      "  >>> pred = clf.predict(vectors_test)\n",
      "  >>> metrics.f1_score(newsgroups_test.target, pred, average='macro')\n",
      "  0.88213...\n",
      "\n",
      "(The example :ref:`sphx_glr_auto_examples_text_plot_document_classification_20newsgroups.py` shuffles\n",
      "the training and test data, instead of segmenting by time, and in that case\n",
      "multinomial Naive Bayes gets a much higher F-score of 0.88. Are you suspicious\n",
      "yet of what's going on inside this classifier?)\n",
      "\n",
      "Let's take a look at what the most informative features are:\n",
      "\n",
      "  >>> import numpy as np\n",
      "  >>> def show_top10(classifier, vectorizer, categories):\n",
      "  ...     feature_names = vectorizer.get_feature_names_out()\n",
      "  ...     for i, category in enumerate(categories):\n",
      "  ...         top10 = np.argsort(classifier.coef_[i])[-10:]\n",
      "  ...         print(\"%s: %s\" % (category, \" \".join(feature_names[top10])))\n",
      "  ...\n",
      "  >>> show_top10(clf, vectorizer, newsgroups_train.target_names)\n",
      "  alt.atheism: edu it and in you that is of to the\n",
      "  comp.graphics: edu in graphics it is for and of to the\n",
      "  sci.space: edu it that is in and space to of the\n",
      "  talk.religion.misc: not it you in is that and to of the\n",
      "\n",
      "\n",
      "You can now see many things that these features have overfit to:\n",
      "\n",
      "- Almost every group is distinguished by whether headers such as\n",
      "  ``NNTP-Posting-Host:`` and ``Distribution:`` appear more or less often.\n",
      "- Another significant feature involves whether the sender is affiliated with\n",
      "  a university, as indicated either by their headers or their signature.\n",
      "- The word \"article\" is a significant feature, based on how often people quote\n",
      "  previous posts like this: \"In article [article ID], [name] <[e-mail address]>\n",
      "  wrote:\"\n",
      "- Other features match the names and e-mail addresses of particular people who\n",
      "  were posting at the time.\n",
      "\n",
      "With such an abundance of clues that distinguish newsgroups, the classifiers\n",
      "barely have to identify topics from text at all, and they all perform at the\n",
      "same high level.\n",
      "\n",
      "For this reason, the functions that load 20 Newsgroups data provide a\n",
      "parameter called **remove**, telling it what kinds of information to strip out\n",
      "of each file. **remove** should be a tuple containing any subset of\n",
      "``('headers', 'footers', 'quotes')``, telling it to remove headers, signature\n",
      "blocks, and quotation blocks respectively.\n",
      "\n",
      "  >>> newsgroups_test = fetch_20newsgroups(subset='test',\n",
      "  ...                                      remove=('headers', 'footers', 'quotes'),\n",
      "  ...                                      categories=categories)\n",
      "  >>> vectors_test = vectorizer.transform(newsgroups_test.data)\n",
      "  >>> pred = clf.predict(vectors_test)\n",
      "  >>> metrics.f1_score(pred, newsgroups_test.target, average='macro')\n",
      "  0.77310...\n",
      "\n",
      "This classifier lost over a lot of its F-score, just because we removed\n",
      "metadata that has little to do with topic classification.\n",
      "It loses even more if we also strip this metadata from the training data:\n",
      "\n",
      "  >>> newsgroups_train = fetch_20newsgroups(subset='train',\n",
      "  ...                                       remove=('headers', 'footers', 'quotes'),\n",
      "  ...                                       categories=categories)\n",
      "  >>> vectors = vectorizer.fit_transform(newsgroups_train.data)\n",
      "  >>> clf = MultinomialNB(alpha=.01)\n",
      "  >>> clf.fit(vectors, newsgroups_train.target)\n",
      "  MultinomialNB(alpha=0.01, class_prior=None, fit_prior=True)\n",
      "\n",
      "  >>> vectors_test = vectorizer.transform(newsgroups_test.data)\n",
      "  >>> pred = clf.predict(vectors_test)\n",
      "  >>> metrics.f1_score(newsgroups_test.target, pred, average='macro')\n",
      "  0.76995...\n",
      "\n",
      "Some other classifiers cope better with this harder version of the task. Try\n",
      "running :ref:`sphx_glr_auto_examples_model_selection_grid_search_text_feature_extraction.py` with and without\n",
      "the ``--filter`` option to compare the results.\n",
      "\n",
      ".. topic:: Data Considerations\n",
      "\n",
      "  The Cleveland Indians is a major league baseball team based in Cleveland,\n",
      "  Ohio, USA. In December 2020, it was reported that \"After several months of\n",
      "  discussion sparked by the death of George Floyd and a national reckoning over\n",
      "  race and colonialism, the Cleveland Indians have decided to change their\n",
      "  name.\" Team owner Paul Dolan \"did make it clear that the team will not make\n",
      "  its informal nickname -- the Tribe -- its new team name.\" \"It’s not going to\n",
      "  be a half-step away from the Indians,\" Dolan said.\"We will not have a Native\n",
      "  American-themed name.\"\n",
      "\n",
      "  https://www.mlb.com/news/cleveland-indians-team-name-change\n",
      "\n",
      ".. topic:: Recommendation\n",
      "\n",
      "  - When evaluating text classifiers on the 20 Newsgroups data, you\n",
      "    should strip newsgroup-related metadata. In scikit-learn, you can do this\n",
      "    by setting ``remove=('headers', 'footers', 'quotes')``. The F-score will be\n",
      "    lower because it is more realistic.\n",
      "  - This text dataset contains data which may be inappropriate for certain NLP\n",
      "    applications. An example is listed in the \"Data Considerations\" section\n",
      "    above. The challenge with using current text datasets in NLP for tasks such\n",
      "    as sentence completion, clustering, and other applications is that text\n",
      "    that is culturally biased and inflammatory will propagate biases. This\n",
      "    should be taken into consideration when using the dataset, reviewing the\n",
      "    output, and the bias should be documented.\n",
      "\n",
      ".. topic:: Examples\n",
      "\n",
      "   * :ref:`sphx_glr_auto_examples_model_selection_grid_search_text_feature_extraction.py`\n",
      "\n",
      "   * :ref:`sphx_glr_auto_examples_text_plot_document_classification_20newsgroups.py`\n",
      "\n"
     ]
    }
   ],
   "source": [
    "newsgroup =fetch_20newsgroups()\n",
    "print(newsgroup.DESCR)"
   ]
  },
  {
   "cell_type": "markdown",
   "metadata": {
    "id": "-zmqchNfbXJQ",
    "tags": []
   },
   "source": [
    "### 학습, 평가 데이터 분류"
   ]
  },
  {
   "cell_type": "code",
   "execution_count": 17,
   "metadata": {},
   "outputs": [],
   "source": [
    "newsgroup_train = fetch_20newsgroups(subset='train')\n",
    "newsgroup_test = fetch_20newsgroups(subset='test')"
   ]
  },
  {
   "cell_type": "code",
   "execution_count": 18,
   "metadata": {
    "id": "OhrpXCEgPNyB"
   },
   "outputs": [],
   "source": [
    "X_train, y_train = newsgroup_train.data, newsgroup_train.target\n",
    "X_test, y_test = newsgroup_test.data, newsgroup_test.target"
   ]
  },
  {
   "cell_type": "markdown",
   "metadata": {
    "id": "5rPb4mTPb7jA"
   },
   "source": [
    "### 벡터화\n",
    "* 텍스트 데이터는 기계학습 모델에 입력 할 수 없음\n",
    "* 벡터화는 텍스트 데이터를 실수 벡터로 변환해 기계학습 모델에 입력 할 수 있도록 하는 전처리 과정\n",
    "* Scikit-learn에서는 Count, Tf-idf, Hashing 세가지 방법을 지원"
   ]
  },
  {
   "cell_type": "markdown",
   "metadata": {
    "id": "uzzFAtzkrtio"
   },
   "source": [
    "#### CountVectorizer\n",
    "* 문서에 나온 단어의 수를 세서 벡터 생성"
   ]
  },
  {
   "cell_type": "code",
   "execution_count": 19,
   "metadata": {
    "id": "U__Bmbm4r4ZN"
   },
   "outputs": [],
   "source": [
    "count_vectorizer = CountVectorizer()"
   ]
  },
  {
   "cell_type": "code",
   "execution_count": 20,
   "metadata": {
    "id": "l5qcYH2fr7BM"
   },
   "outputs": [],
   "source": [
    "X_train_count = count_vectorizer.fit_transform(X_train)\n",
    "X_test_count = count_vectorizer.transform(X_test)"
   ]
  },
  {
   "cell_type": "markdown",
   "metadata": {
    "id": "W2C7-16Zsif2"
   },
   "source": [
    "데이터를 희소 행렬 형태로 표현"
   ]
  },
  {
   "cell_type": "code",
   "execution_count": 21,
   "metadata": {
    "id": "Nwmww2sOsEPV"
   },
   "outputs": [
    {
     "data": {
      "text/plain": [
       "<11314x130107 sparse matrix of type '<class 'numpy.int64'>'\n",
       "\twith 1787565 stored elements in Compressed Sparse Row format>"
      ]
     },
     "execution_count": 21,
     "metadata": {},
     "output_type": "execute_result"
    }
   ],
   "source": [
    "X_train_count"
   ]
  },
  {
   "cell_type": "code",
   "execution_count": 22,
   "metadata": {
    "id": "ie5eSVH3sH3I"
   },
   "outputs": [
    {
     "name": "stdout",
     "output_type": "stream",
     "text": [
      "  (0, 56979)\t3\n",
      "  (0, 75358)\t2\n",
      "  (0, 123162)\t2\n",
      "  (0, 118280)\t2\n",
      "  (0, 50527)\t2\n",
      "  (0, 124031)\t2\n",
      "  (0, 85354)\t1\n",
      "  (0, 114688)\t1\n",
      "  (0, 111322)\t1\n",
      "  (0, 123984)\t1\n",
      "  (0, 37780)\t5\n",
      "  (0, 68532)\t3\n",
      "  (0, 114731)\t5\n",
      "  (0, 87620)\t1\n",
      "  (0, 95162)\t1\n",
      "  (0, 64095)\t1\n",
      "  (0, 98949)\t1\n",
      "  (0, 90379)\t1\n",
      "  (0, 118983)\t1\n",
      "  (0, 89362)\t3\n",
      "  (0, 79666)\t1\n",
      "  (0, 40998)\t1\n",
      "  (0, 92081)\t1\n",
      "  (0, 76032)\t1\n",
      "  (0, 4605)\t1\n",
      "  :\t:\n",
      "  (0, 37565)\t1\n",
      "  (0, 113986)\t1\n",
      "  (0, 83256)\t1\n",
      "  (0, 86001)\t1\n",
      "  (0, 51730)\t1\n",
      "  (0, 109271)\t1\n",
      "  (0, 128026)\t1\n",
      "  (0, 96144)\t1\n",
      "  (0, 78784)\t1\n",
      "  (0, 63363)\t1\n",
      "  (0, 90252)\t1\n",
      "  (0, 123989)\t1\n",
      "  (0, 67156)\t1\n",
      "  (0, 128402)\t2\n",
      "  (0, 62221)\t1\n",
      "  (0, 57308)\t1\n",
      "  (0, 76722)\t1\n",
      "  (0, 94362)\t1\n",
      "  (0, 78955)\t1\n",
      "  (0, 114428)\t1\n",
      "  (0, 66098)\t1\n",
      "  (0, 35187)\t1\n",
      "  (0, 35983)\t1\n",
      "  (0, 128420)\t1\n",
      "  (0, 86580)\t1\n"
     ]
    }
   ],
   "source": [
    "for v in X_train_count[0]:\n",
    "    print(v)"
   ]
  },
  {
   "cell_type": "markdown",
   "metadata": {
    "id": "VuCz2fvdtLR2"
   },
   "source": [
    "#### HashingVectorizer\n",
    "* 각 단어를 해쉬 값으로 표현\n",
    "* 미리 정해진 크기의 벡터로 표현"
   ]
  },
  {
   "cell_type": "code",
   "execution_count": 23,
   "metadata": {
    "id": "0a6w_5b4u2iU"
   },
   "outputs": [],
   "source": [
    "hash_vectorizer = HashingVectorizer(n_features=1000)"
   ]
  },
  {
   "cell_type": "code",
   "execution_count": 24,
   "metadata": {
    "id": "Ru_bF-tuveCJ"
   },
   "outputs": [],
   "source": [
    "X_train_hash = hash_vectorizer.fit_transform(X_train)\n",
    "X_test_hash = hash_vectorizer.transform(X_test)"
   ]
  },
  {
   "cell_type": "code",
   "execution_count": 25,
   "metadata": {
    "id": "F4FICW1kvyR2"
   },
   "outputs": [
    {
     "data": {
      "text/plain": [
       "<11314x1000 sparse matrix of type '<class 'numpy.float64'>'\n",
       "\twith 1550687 stored elements in Compressed Sparse Row format>"
      ]
     },
     "execution_count": 25,
     "metadata": {},
     "output_type": "execute_result"
    }
   ],
   "source": [
    "X_train_hash"
   ]
  },
  {
   "cell_type": "code",
   "execution_count": 26,
   "metadata": {
    "id": "xN5aaCjov0Zb"
   },
   "outputs": [
    {
     "name": "stdout",
     "output_type": "stream",
     "text": [
      "  (0, 80)\t-0.0642824346533225\n",
      "  (0, 108)\t0.0642824346533225\n",
      "  (0, 111)\t-0.128564869306645\n",
      "  (0, 145)\t0.0642824346533225\n",
      "  (0, 158)\t0.0642824346533225\n",
      "  (0, 159)\t-0.0642824346533225\n",
      "  (0, 161)\t0.0642824346533225\n",
      "  (0, 165)\t-0.0642824346533225\n",
      "  (0, 171)\t0.0642824346533225\n",
      "  (0, 182)\t0.0642824346533225\n",
      "  (0, 195)\t-0.0642824346533225\n",
      "  (0, 196)\t0.19284730395996752\n",
      "  (0, 205)\t-0.0642824346533225\n",
      "  (0, 209)\t0.0642824346533225\n",
      "  (0, 234)\t0.0642824346533225\n",
      "  (0, 237)\t0.0642824346533225\n",
      "  (0, 248)\t0.0642824346533225\n",
      "  (0, 265)\t0.19284730395996752\n",
      "  (0, 274)\t0.0642824346533225\n",
      "  (0, 277)\t0.19284730395996752\n",
      "  (0, 284)\t-0.0642824346533225\n",
      "  (0, 286)\t-0.0642824346533225\n",
      "  (0, 296)\t0.0642824346533225\n",
      "  (0, 362)\t-0.0642824346533225\n",
      "  (0, 364)\t-0.0642824346533225\n",
      "  :\t:\n",
      "  (0, 739)\t0.0\n",
      "  (0, 761)\t-0.0642824346533225\n",
      "  (0, 766)\t0.0642824346533225\n",
      "  (0, 800)\t-0.0642824346533225\n",
      "  (0, 812)\t-0.0642824346533225\n",
      "  (0, 842)\t0.0642824346533225\n",
      "  (0, 848)\t-0.0642824346533225\n",
      "  (0, 851)\t0.0642824346533225\n",
      "  (0, 863)\t-0.0642824346533225\n",
      "  (0, 881)\t0.0642824346533225\n",
      "  (0, 892)\t0.0642824346533225\n",
      "  (0, 897)\t0.0\n",
      "  (0, 899)\t0.0642824346533225\n",
      "  (0, 906)\t-0.0642824346533225\n",
      "  (0, 918)\t0.128564869306645\n",
      "  (0, 926)\t-0.0642824346533225\n",
      "  (0, 935)\t0.0642824346533225\n",
      "  (0, 939)\t-0.0642824346533225\n",
      "  (0, 951)\t-0.0642824346533225\n",
      "  (0, 958)\t-0.38569460791993504\n",
      "  (0, 960)\t0.0642824346533225\n",
      "  (0, 968)\t-0.0642824346533225\n",
      "  (0, 987)\t-0.0642824346533225\n",
      "  (0, 996)\t0.0642824346533225\n",
      "  (0, 997)\t-0.128564869306645\n"
     ]
    }
   ],
   "source": [
    "print(X_train_hash[0])"
   ]
  },
  {
   "cell_type": "markdown",
   "metadata": {
    "id": "Jo_5elqewPmi"
   },
   "source": [
    "#### TfidfVectorizer\n",
    "* 문서에 나온 단어 빈도(term frequency)와 역문서 빈도(inverse document frequency)를 곱해서 구함\n",
    "* 각 빈도는 일반적으로 로그 스케일링 후 사용\n",
    "* $tf(t, d) = log(f(t, d) + 1)$\n",
    "* $idf(t, D) = \\frac{|D|}{|d \\in D : t \\in d| + 1}$\n",
    "* $tfidf(t, d, D) = tf(t, d) \\times idf(t, D)$"
   ]
  },
  {
   "cell_type": "code",
   "execution_count": 27,
   "metadata": {
    "id": "se6YLbOBb9yd"
   },
   "outputs": [],
   "source": [
    "# t -> term(단어빈도) frequency를 계산한후 로그스케일링  d-> documents의 frequency의 빈도수의 역수를 곱합\n",
    "tfidf_vectorizer = TfidfVectorizer()\n"
   ]
  },
  {
   "cell_type": "code",
   "execution_count": 28,
   "metadata": {
    "id": "BCB_vPEUcqSi"
   },
   "outputs": [],
   "source": [
    "X_train_tfidf = tfidf_vectorizer.fit_transform(X_train)\n",
    "X_test_tfidf = tfidf_vectorizer.transform(X_test)"
   ]
  },
  {
   "cell_type": "code",
   "execution_count": 29,
   "metadata": {
    "id": "31lIqMzz0b4C"
   },
   "outputs": [
    {
     "data": {
      "text/plain": [
       "<11314x130107 sparse matrix of type '<class 'numpy.float64'>'\n",
       "\twith 1787565 stored elements in Compressed Sparse Row format>"
      ]
     },
     "execution_count": 29,
     "metadata": {},
     "output_type": "execute_result"
    }
   ],
   "source": [
    "X_train_tfidf"
   ]
  },
  {
   "cell_type": "code",
   "execution_count": 30,
   "metadata": {
    "id": "1fgodSTr0gEd"
   },
   "outputs": [
    {
     "name": "stdout",
     "output_type": "stream",
     "text": [
      "  (0, 86580)\t0.13157118714240987\n",
      "  (0, 128420)\t0.04278499079283093\n",
      "  (0, 35983)\t0.03770448563619875\n",
      "  (0, 35187)\t0.09353930598317124\n",
      "  (0, 66098)\t0.09785515708314481\n",
      "  (0, 114428)\t0.05511105154696676\n",
      "  (0, 78955)\t0.05989856888061599\n",
      "  (0, 94362)\t0.055457031390147224\n",
      "  (0, 76722)\t0.06908779999621749\n",
      "  (0, 57308)\t0.1558717009157704\n",
      "  (0, 62221)\t0.02921527992427867\n",
      "  (0, 128402)\t0.05922294083277842\n",
      "  (0, 67156)\t0.07313443922740179\n",
      "  (0, 123989)\t0.08207027465330353\n",
      "  (0, 90252)\t0.031889368795417566\n",
      "  (0, 63363)\t0.08342748387969037\n",
      "  (0, 78784)\t0.0633940918806495\n",
      "  (0, 96144)\t0.10826904490745741\n",
      "  (0, 128026)\t0.060622095889758885\n",
      "  (0, 109271)\t0.10844724822064673\n",
      "  (0, 51730)\t0.09714744057976722\n",
      "  (0, 86001)\t0.07000411445838192\n",
      "  (0, 83256)\t0.08844382496462173\n",
      "  (0, 113986)\t0.17691750674853082\n",
      "  (0, 37565)\t0.03431760442478462\n",
      "  :\t:\n",
      "  (0, 4605)\t0.06332603952480323\n",
      "  (0, 76032)\t0.019219463052223086\n",
      "  (0, 92081)\t0.09913274493911223\n",
      "  (0, 40998)\t0.0780136819691811\n",
      "  (0, 79666)\t0.10936401252414274\n",
      "  (0, 89362)\t0.06521174306303763\n",
      "  (0, 118983)\t0.037085978050619146\n",
      "  (0, 90379)\t0.019928859956645867\n",
      "  (0, 98949)\t0.16068606055394932\n",
      "  (0, 64095)\t0.03542092427131355\n",
      "  (0, 95162)\t0.03447138409326312\n",
      "  (0, 87620)\t0.035671863140815795\n",
      "  (0, 114731)\t0.14447275512784058\n",
      "  (0, 68532)\t0.07325812342131596\n",
      "  (0, 37780)\t0.38133891259493113\n",
      "  (0, 123984)\t0.036854292634593756\n",
      "  (0, 111322)\t0.01915671802495043\n",
      "  (0, 114688)\t0.06214070986309586\n",
      "  (0, 85354)\t0.03696978508816316\n",
      "  (0, 124031)\t0.10798795154169122\n",
      "  (0, 50527)\t0.054614286588587246\n",
      "  (0, 118280)\t0.2118680720828169\n",
      "  (0, 123162)\t0.2597090245735688\n",
      "  (0, 75358)\t0.35383501349706165\n",
      "  (0, 56979)\t0.057470154074851294\n"
     ]
    }
   ],
   "source": [
    "for v in X_train_tfidf[0]:\n",
    "    print(v)"
   ]
  },
  {
   "cell_type": "markdown",
   "metadata": {
    "id": "Dw1V6JPISYNj"
   },
   "source": [
    "## 가우시안 나이브 베이즈\n",
    "\n",
    "* 입력 특성이 가우시안(정규) 분포를 갖는다고 가정"
   ]
  },
  {
   "cell_type": "code",
   "execution_count": 31,
   "metadata": {
    "id": "HxluuRDrfEE-"
   },
   "outputs": [
    {
     "data": {
      "text/plain": [
       "GaussianNB()"
      ]
     },
     "execution_count": 31,
     "metadata": {},
     "output_type": "execute_result"
    }
   ],
   "source": [
    "model = GaussianNB()\n",
    "model.fit(covtype_X_train_scale, covtype_y_train)\n"
   ]
  },
  {
   "cell_type": "code",
   "execution_count": 32,
   "metadata": {
    "id": "RHlxf5Uvur1s"
   },
   "outputs": [
    {
     "name": "stdout",
     "output_type": "stream",
     "text": [
      "Train Accuracy:0.0877521734734052\n",
      "Train F1 Score:[0.04021    0.01806052 0.33471679 0.13705456 0.04306353 0.07540597\n",
      " 0.23485823]\n"
     ]
    }
   ],
   "source": [
    "predict = model.predict(covtype_X_train_scale)\n",
    "acc = metrics.accuracy_score(covtype_y_train,predict)\n",
    "f1 = metrics.f1_score(covtype_y_train, predict, average=None)\n",
    "\n",
    "print('Train Accuracy:{}'.format(acc))\n",
    "print('Train F1 Score:{}'.format(f1))"
   ]
  },
  {
   "cell_type": "code",
   "execution_count": 33,
   "metadata": {
    "id": "PRkCzNTavChE"
   },
   "outputs": [
    {
     "name": "stdout",
     "output_type": "stream",
     "text": [
      "Test Accuracy:0.08895639527378811\n",
      "Test F1 Score:[0.04133091 0.01750908 0.3360646  0.14346413 0.04293985 0.08392226\n",
      " 0.23718146]\n"
     ]
    }
   ],
   "source": [
    "predict = model.predict(covtype_X_test_scale)\n",
    "acc = metrics.accuracy_score(covtype_y_test,predict)\n",
    "f1 = metrics.f1_score(covtype_y_test, predict, average=None)\n",
    "\n",
    "print('Test Accuracy:{}'.format(acc))\n",
    "print('Test F1 Score:{}'.format(f1))"
   ]
  },
  {
   "cell_type": "code",
   "execution_count": 34,
   "metadata": {
    "id": "c7LlOoOU4oos"
   },
   "outputs": [],
   "source": [
    "def make_meshgrid(x, y, h=0.2):\n",
    "    x_min, x_max = x.min()-1, x.max()+1\n",
    "    y_min, y_max = y.min()-1, y.max()+1\n",
    "    xx, yy = np.meshgrid(np.arange(x_min, x_max, h),\n",
    "                         np.arange(y_min, y_max, h))\n",
    "    return xx, yy\n",
    "\n",
    "def plot_contours(clf, xx, yy, **params):\n",
    "    Z = clf.predict(np.c_[xx.ravel(), yy.ravel()])\n",
    "    Z = Z.reshape(xx.shape)\n",
    "    out = plt.contourf(xx, yy, Z, **params)\n",
    "    return out\n"
   ]
  },
  {
   "cell_type": "code",
   "execution_count": 35,
   "metadata": {
    "id": "BQmypOJ07flk"
   },
   "outputs": [],
   "source": [
    "X, y = make_blobs(n_samples=1000)\n",
    "#텍스트나 미디어 파일 저장형식"
   ]
  },
  {
   "cell_type": "code",
   "execution_count": 36,
   "metadata": {
    "id": "i5cVrpkP43Uq"
   },
   "outputs": [
    {
     "data": {
      "image/png": "[encoded data removed]",
      "text/plain": [
       "<Figure size 432x288 with 1 Axes>"
      ]
     },
     "metadata": {},
     "output_type": "display_data"
    }
   ],
   "source": [
    "plt.scatter(X[:,0], X[:,1], c=y, cmap=plt.cm.coolwarm, s=20, edgecolors='k');"
   ]
  },
  {
   "cell_type": "code",
   "execution_count": 37,
   "metadata": {
    "id": "uWAIT1YZ5IPK"
   },
   "outputs": [
    {
     "data": {
      "text/plain": [
       "GaussianNB()"
      ]
     },
     "execution_count": 37,
     "metadata": {},
     "output_type": "execute_result"
    }
   ],
   "source": [
    "model = GaussianNB()\n",
    "model.fit(X, y)"
   ]
  },
  {
   "cell_type": "code",
   "execution_count": 38,
   "metadata": {
    "id": "yyh8EaLW8BcK"
   },
   "outputs": [
    {
     "data": {
      "image/png": "[encoded data removed]",
      "text/plain": [
       "<Figure size 432x288 with 1 Axes>"
      ]
     },
     "metadata": {},
     "output_type": "display_data"
    }
   ],
   "source": [
    "xx, yy = make_meshgrid(X[:, ], X[:,1])\n",
    "plot_contours(model, xx, yy, cmap=plt.cm.coolwarm, alpha=0.8)\n",
    "plt.scatter(X[:,0], X[:,1], c=y, cmap=plt.cm.coolwarm, s=20, edgecolors='k');"
   ]
  },
  {
   "cell_type": "code",
   "execution_count": 39,
   "metadata": {},
   "outputs": [
    {
     "data": {
      "image/png": "[encoded data removed]",
      "text/plain": [
       "<Figure size 432x288 with 1 Axes>"
      ]
     },
     "metadata": {},
     "output_type": "display_data"
    }
   ],
   "source": [
    "plt.scatter(covtype_X[:,0], covtype_X[:,1], c=covtype_Y, cmap=plt.cm.coolwarm, s=20, edgecolors='k');"
   ]
  },
  {
   "cell_type": "markdown",
   "metadata": {
    "id": "63VKVU7xVKh0"
   },
   "source": [
    "## 베르누이 나이브 베이즈\n",
    "\n",
    "* 입력 특성이 베르누이 분포에 의해 생성된 이진 값을 갖는 다고 가정"
   ]
  },
  {
   "cell_type": "markdown",
   "metadata": {
    "id": "ukxegxdakI06"
   },
   "source": [
    "### 학습 및 평가 (Count)"
   ]
  },
  {
   "cell_type": "code",
   "execution_count": 40,
   "metadata": {
    "id": "MY1gkbgZWPSy"
   },
   "outputs": [
    {
     "data": {
      "text/plain": [
       "BernoulliNB()"
      ]
     },
     "execution_count": 40,
     "metadata": {},
     "output_type": "execute_result"
    }
   ],
   "source": [
    "model = BernoulliNB()\n",
    "model.fit(X_train_count, y_train)"
   ]
  },
  {
   "cell_type": "code",
   "execution_count": 41,
   "metadata": {
    "id": "cFFYkHXkgLgC"
   },
   "outputs": [
    {
     "name": "stdout",
     "output_type": "stream",
     "text": [
      "Train Accuracy:0.7821283365741559\n",
      "Train F1 Score:[0.80096502 0.8538398  0.13858268 0.70686337 0.85220126 0.87944493\n",
      " 0.51627694 0.84532672 0.89064976 0.87179487 0.94561404 0.91331546\n",
      " 0.84627832 0.89825848 0.9047619  0.79242424 0.84693878 0.84489796\n",
      " 0.67329545 0.14742015]\n"
     ]
    }
   ],
   "source": [
    "predict = model.predict(X_train_count)\n",
    "acc = metrics.accuracy_score(y_train, predict)\n",
    "f1 = metrics.f1_score(y_train, predict, average=None)\n",
    "\n",
    "print('Train Accuracy:{}'.format(acc))\n",
    "print('Train F1 Score:{}'.format(f1))"
   ]
  },
  {
   "cell_type": "code",
   "execution_count": 42,
   "metadata": {
    "id": "rtT6NPFAjfto"
   },
   "outputs": [
    {
     "name": "stdout",
     "output_type": "stream",
     "text": [
      "Test Accuracy:0.6307753584705258\n",
      "Test F1 Score:[0.47086247 0.60643564 0.01       0.56014047 0.6953405  0.70381232\n",
      " 0.44829721 0.71878646 0.81797753 0.81893491 0.90287278 0.74794521\n",
      " 0.61647059 0.64174455 0.76967096 0.63555114 0.64285714 0.77971474\n",
      " 0.31382979 0.00793651]\n"
     ]
    }
   ],
   "source": [
    "predict = model.predict(X_test_count)\n",
    "acc = metrics.accuracy_score(y_test,predict)\n",
    "f1 = metrics.f1_score(y_test, predict, average=None)\n",
    "\n",
    "print('Test Accuracy:{}'.format(acc))\n",
    "print('Test F1 Score:{}'.format(f1))"
   ]
  },
  {
   "cell_type": "markdown",
   "metadata": {
    "id": "0TZnffru9JVK"
   },
   "source": [
    "### 학습 및 평가 (Hash)"
   ]
  },
  {
   "cell_type": "code",
   "execution_count": 43,
   "metadata": {
    "id": "MY1gkbgZWPSy"
   },
   "outputs": [
    {
     "data": {
      "text/plain": [
       "BernoulliNB()"
      ]
     },
     "execution_count": 43,
     "metadata": {},
     "output_type": "execute_result"
    }
   ],
   "source": [
    "model = BernoulliNB()\n",
    "model.fit(X_train_hash, y_train)"
   ]
  },
  {
   "cell_type": "code",
   "execution_count": 44,
   "metadata": {
    "id": "cFFYkHXkgLgC"
   },
   "outputs": [
    {
     "name": "stdout",
     "output_type": "stream",
     "text": [
      "Train Accuracy:0.5951917977726711\n",
      "Train F1 Score:[0.74226804 0.49415205 0.45039019 0.59878155 0.57327935 0.63929619\n",
      " 0.35390947 0.59851301 0.72695347 0.68123862 0.79809524 0.70532319\n",
      " 0.54703833 0.66862745 0.61889927 0.74707471 0.6518668  0.60485269\n",
      " 0.5324165  0.54576271]\n"
     ]
    }
   ],
   "source": [
    "predict = model.predict(X_train_hash)\n",
    "acc = metrics.accuracy_score(y_train, predict)\n",
    "f1 = metrics.f1_score(y_train, predict, average=None)\n",
    "\n",
    "print('Train Accuracy:{}'.format(acc))\n",
    "print('Train F1 Score:{}'.format(f1))"
   ]
  },
  {
   "cell_type": "code",
   "execution_count": 45,
   "metadata": {
    "id": "rtT6NPFAjfto"
   },
   "outputs": [
    {
     "name": "stdout",
     "output_type": "stream",
     "text": [
      "Test Accuracy:0.4430430164630908\n",
      "Test F1 Score:[0.46678636 0.33826638 0.29391892 0.45743329 0.41939121 0.46540881\n",
      " 0.34440068 0.46464646 0.62849873 0.53038674 0.63782051 0.55251799\n",
      " 0.32635983 0.34266886 0.46105919 0.61780105 0.46197991 0.54591837\n",
      " 0.27513228 0.3307888 ]\n"
     ]
    }
   ],
   "source": [
    "predict = model.predict(X_test_hash)\n",
    "acc = metrics.accuracy_score(y_test,predict)\n",
    "f1 = metrics.f1_score(y_test, predict, average=None)\n",
    "\n",
    "print('Test Accuracy:{}'.format(acc))\n",
    "print('Test F1 Score:{}'.format(f1))"
   ]
  },
  {
   "cell_type": "markdown",
   "metadata": {
    "id": "cTP0dYKlkOLR"
   },
   "source": [
    "### 학습 및 평가 (Tf-idf)"
   ]
  },
  {
   "cell_type": "code",
   "execution_count": 46,
   "metadata": {
    "id": "MY1gkbgZWPSy"
   },
   "outputs": [
    {
     "data": {
      "text/plain": [
       "BernoulliNB()"
      ]
     },
     "execution_count": 46,
     "metadata": {},
     "output_type": "execute_result"
    }
   ],
   "source": [
    "model = BernoulliNB()\n",
    "model.fit(X_train_tfidf, y_train)"
   ]
  },
  {
   "cell_type": "code",
   "execution_count": 47,
   "metadata": {
    "id": "cFFYkHXkgLgC"
   },
   "outputs": [
    {
     "name": "stdout",
     "output_type": "stream",
     "text": [
      "Train Accuracy:0.7821283365741559\n",
      "Train F1 Score:[0.80096502 0.8538398  0.13858268 0.70686337 0.85220126 0.87944493\n",
      " 0.51627694 0.84532672 0.89064976 0.87179487 0.94561404 0.91331546\n",
      " 0.84627832 0.89825848 0.9047619  0.79242424 0.84693878 0.84489796\n",
      " 0.67329545 0.14742015]\n"
     ]
    }
   ],
   "source": [
    "predict = model.predict(X_train_tfidf)\n",
    "acc = metrics.accuracy_score(y_train, predict)\n",
    "f1 = metrics.f1_score(y_train, predict, average=None)\n",
    "\n",
    "print('Train Accuracy:{}'.format(acc))\n",
    "print('Train F1 Score:{}'.format(f1))"
   ]
  },
  {
   "cell_type": "code",
   "execution_count": 48,
   "metadata": {
    "id": "rtT6NPFAjfto"
   },
   "outputs": [
    {
     "name": "stdout",
     "output_type": "stream",
     "text": [
      "Test Accuracy:0.6307753584705258\n",
      "Test F1 Score:[0.47086247 0.60643564 0.01       0.56014047 0.6953405  0.70381232\n",
      " 0.44829721 0.71878646 0.81797753 0.81893491 0.90287278 0.74794521\n",
      " 0.61647059 0.64174455 0.76967096 0.63555114 0.64285714 0.77971474\n",
      " 0.31382979 0.00793651]\n"
     ]
    }
   ],
   "source": [
    "predict = model.predict(X_test_tfidf)\n",
    "acc = metrics.accuracy_score(y_test,predict)\n",
    "f1 = metrics.f1_score(y_test, predict, average=None)\n",
    "\n",
    "print('Test Accuracy:{}'.format(acc))\n",
    "print('Test F1 Score:{}'.format(f1))"
   ]
  },
  {
   "cell_type": "markdown",
   "metadata": {
    "id": "rCwhaAT1924_"
   },
   "source": [
    "### 시각화"
   ]
  },
  {
   "cell_type": "code",
   "execution_count": 49,
   "metadata": {
    "id": "5yzCFaKy9-5u"
   },
   "outputs": [],
   "source": [
    "X, y = make_blobs(n_samples=1000)"
   ]
  },
  {
   "cell_type": "code",
   "execution_count": 50,
   "metadata": {
    "id": "Szx9XA-O9_qF"
   },
   "outputs": [
    {
     "data": {
      "image/png": "[encoded data removed]",
      "text/plain": [
       "<Figure size 432x288 with 1 Axes>"
      ]
     },
     "metadata": {},
     "output_type": "display_data"
    }
   ],
   "source": [
    "plt.scatter(X[:,0], X[:,1], c=y, cmap=plt.cm.coolwarm, s=20, edgecolors='k');"
   ]
  },
  {
   "cell_type": "code",
   "execution_count": 51,
   "metadata": {
    "id": "yQFM2BEU-Cv2"
   },
   "outputs": [
    {
     "data": {
      "text/plain": [
       "BernoulliNB()"
      ]
     },
     "execution_count": 51,
     "metadata": {},
     "output_type": "execute_result"
    }
   ],
   "source": [
    "model = BernoulliNB()\n",
    "model.fit(X, y)\n"
   ]
  },
  {
   "cell_type": "code",
   "execution_count": 52,
   "metadata": {
    "id": "fEpjHMVf-HfD"
   },
   "outputs": [
    {
     "data": {
      "image/png": "[encoded data removed]",
      "text/plain": [
       "<Figure size 432x288 with 1 Axes>"
      ]
     },
     "metadata": {},
     "output_type": "display_data"
    }
   ],
   "source": [
    "xx, yy = make_meshgrid(X[:,0], X[:,1])\n",
    "plot_contours(model, xx, yy, cmap=plt.cm.coolwarm, alpha=0.8)\n",
    "plt.scatter(X[:,0], X[:,1], c=y, cmap=plt.cm.coolwarm, s=20, edgecolors='k');\n",
    "            "
   ]
  },
  {
   "cell_type": "markdown",
   "metadata": {
    "id": "zEyFa-B5XGrP"
   },
   "source": [
    "## 다항 나이브 베이즈\n",
    "\n",
    "* 입력 특성이 다항분포에 의해 생성된 빈도수 값을 갖는 다고 가정"
   ]
  },
  {
   "cell_type": "markdown",
   "metadata": {
    "id": "75lWu6PQlXpi"
   },
   "source": [
    "### 학습 및 평가 (Count)"
   ]
  },
  {
   "cell_type": "code",
   "execution_count": 53,
   "metadata": {
    "id": "FRlaJMtNNLMC"
   },
   "outputs": [
    {
     "data": {
      "text/plain": [
       "MultinomialNB()"
      ]
     },
     "execution_count": 53,
     "metadata": {},
     "output_type": "execute_result"
    }
   ],
   "source": [
    "model = MultinomialNB()\n",
    "model.fit(X_train_count, y_train)\n"
   ]
  },
  {
   "cell_type": "code",
   "execution_count": 54,
   "metadata": {
    "id": "cFFYkHXkgLgC"
   },
   "outputs": [
    {
     "name": "stdout",
     "output_type": "stream",
     "text": [
      "Train Accuracy:0.9245182959165635\n",
      "Train F1 Score:[0.95228426 0.904      0.25073746 0.81402003 0.96669513 0.88350983\n",
      " 0.90710383 0.97014925 0.98567818 0.99325464 0.98423237 0.95399516\n",
      " 0.95703454 0.98319328 0.98584513 0.95352564 0.97307002 0.97467249\n",
      " 0.95157895 0.86526946]\n"
     ]
    }
   ],
   "source": [
    "predict = model.predict(X_train_count)\n",
    "acc = metrics.accuracy_score(y_train, predict)\n",
    "f1 = metrics.f1_score(y_train, predict, average=None)\n",
    "\n",
    "print('Train Accuracy:{}'.format(acc))\n",
    "print('Train F1 Score:{}'.format(f1))"
   ]
  },
  {
   "cell_type": "code",
   "execution_count": 55,
   "metadata": {
    "id": "rtT6NPFAjfto"
   },
   "outputs": [
    {
     "name": "stdout",
     "output_type": "stream",
     "text": [
      "Test Accuracy:0.7728359001593202\n",
      "Test F1 Score:[0.77901431 0.7008547  0.00501253 0.64516129 0.79178082 0.73370166\n",
      " 0.76550681 0.88779285 0.93951094 0.91390728 0.94594595 0.78459938\n",
      " 0.72299169 0.84635417 0.86029412 0.80846561 0.78665077 0.89281211\n",
      " 0.60465116 0.48695652]\n"
     ]
    }
   ],
   "source": [
    "predict = model.predict(X_test_count)\n",
    "acc = metrics.accuracy_score(y_test,predict)\n",
    "f1 = metrics.f1_score(y_test, predict, average=None)\n",
    "\n",
    "print('Test Accuracy:{}'.format(acc))\n",
    "print('Test F1 Score:{}'.format(f1))"
   ]
  },
  {
   "cell_type": "markdown",
   "metadata": {
    "id": "S77kYdhjly0t"
   },
   "source": [
    "### 학습 및 평가 (Tf-idf)"
   ]
  },
  {
   "cell_type": "code",
   "execution_count": 56,
   "metadata": {
    "id": "FRlaJMtNNLMC"
   },
   "outputs": [
    {
     "data": {
      "text/plain": [
       "MultinomialNB()"
      ]
     },
     "execution_count": 56,
     "metadata": {},
     "output_type": "execute_result"
    }
   ],
   "source": [
    "model = MultinomialNB()\n",
    "model.fit(X_train_tfidf, y_train)\n"
   ]
  },
  {
   "cell_type": "code",
   "execution_count": null,
   "metadata": {
    "id": "cFFYkHXkgLgC"
   },
   "outputs": [],
   "source": [
    "predict = model.predict(X_train_tfidf)\n",
    "acc = metrics.accuracy_score(y_train, predict)\n",
    "f1 = metrics.f1_score(y_train, predict, average=None)\n",
    "\n",
    "print('Train Accuracy:{}'.format(acc))\n",
    "print('Train F1 Score:{}'.format(f1))"
   ]
  },
  {
   "cell_type": "code",
   "execution_count": null,
   "metadata": {
    "id": "rtT6NPFAjfto"
   },
   "outputs": [],
   "source": [
    "predict = model.predict(X_test_tfidf)\n",
    "acc = metrics.accuracy_score(y_test,predict)\n",
    "f1 = metrics.f1_score(y_test, predict, average=None)\n",
    "\n",
    "print('Test Accuracy:{}'.format(acc))\n",
    "print('Test F1 Score:{}'.format(f1))"
   ]
  },
  {
   "cell_type": "markdown",
   "metadata": {
    "id": "m1b9hGlLAu49"
   },
   "source": [
    "### 시각화"
   ]
  },
  {
   "cell_type": "code",
   "execution_count": null,
   "metadata": {
    "id": "5yzCFaKy9-5u"
   },
   "outputs": [],
   "source": [
    "X, y = make_blobs(n_samples=1000)"
   ]
  },
  {
   "cell_type": "code",
   "execution_count": null,
   "metadata": {},
   "outputs": [],
   "source": [
    "scaler = MinMaxScaler()\n",
    "X = scaler.fit_transform(X)"
   ]
  },
  {
   "cell_type": "code",
   "execution_count": null,
   "metadata": {
    "id": "Szx9XA-O9_qF"
   },
   "outputs": [],
   "source": [
    "plt.scatter(X[:,0], X[:,1], c=y, cmap=plt.cm.coolwarm, s=20, edgecolors='k');"
   ]
  },
  {
   "cell_type": "code",
   "execution_count": null,
   "metadata": {
    "id": "yQFM2BEU-Cv2"
   },
   "outputs": [],
   "source": [
    "model = MultinomialNB()\n",
    "model.fit(X, y)\n"
   ]
  },
  {
   "cell_type": "code",
   "execution_count": null,
   "metadata": {
    "id": "fEpjHMVf-HfD"
   },
   "outputs": [],
   "source": [
    "xx, yy = make_meshgrid(X[:,0], X[:,1])\n",
    "plot_contours(model, xx, yy, cmap=plt.cm.coolwarm, alpha=0.8)\n",
    "plt.scatter(X[:,0], X[:,1], c=y, cmap=plt.cm.coolwarm, s=20, edgecolors='k');\n",
    "            "
   ]
  }
 ],
 "metadata": {
  "colab": {
   "collapsed_sections": [],
   "name": "Copy of _7 나이브 베이즈 분류(Naive Bayes Classification).ipynb",
   "provenance": [
    {
     "file_id": "1HjsftqRzYSVIipR_OJmnzfioPUwd28Tw",
     "timestamp": 1628040669720
    }
   ],
   "toc_visible": true
  },
  "kernelspec": {
   "display_name": "Python 3 (ipykernel)",
   "language": "python",
   "name": "python3"
  },
  "language_info": {
   "codemirror_mode": {
    "name": "ipython",
    "version": 3
   },
   "file_extension": ".py",
   "mimetype": "text/x-python",
   "name": "python",
   "nbconvert_exporter": "python",
   "pygments_lexer": "ipython3",
   "version": "3.9.7"
  }
 },
 "nbformat": 4,
 "nbformat_minor": 4
}
