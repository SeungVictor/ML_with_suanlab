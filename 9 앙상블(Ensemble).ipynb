{
 "cells": [
  {
   "cell_type": "markdown",
   "metadata": {
    "id": "b2MQEkXAYQeB"
   },
   "source": [
    "# 앙상블(Ensemble)\n",
    "\n",
    "* 일반화와 강건성(Robustness)을 향상시키기 위해 여러 모델의 예측 값을 결합하는 방법\n",
    "* 앙상블에는 크게 두가지 종류가 존재\n",
    "  * 평균 방법\n",
    "    * 여러개의 추정값을 독립적으로 구한뒤 평균을 취함\n",
    "    * 결합 추정값은 분산이 줄어들기 때문에 단일 추정값보다 좋은 성능을 보임\n",
    "  * 부스팅 방법\n",
    "    * 순차적으로 모델 생성\n",
    "    * 결합된 모델의 편향을 감소 시키기 위해 노력\n",
    "    * 부스팅 방법의 목표는 여러개의 약한 모델들을 결합해 하나의 강력한 앙상블 모델을 구축하는 것"
   ]
  },
  {
   "cell_type": "markdown",
   "metadata": {
    "id": "nT_iMqd0do5N"
   },
   "source": [
    "## Bagging meta-estimator\n",
    "\n",
    "* bagging은 bootstrap aggregating의 줄임말\n",
    "* 원래 훈련 데이터셋의 일부를 사용해 여러 모델을 훈련\n",
    "* 각각의 결과를 결합해 최종 결과를 생성\n",
    "* 분산을 줄이고 과적합을 막음\n",
    "* 강력하고 복잡한 모델에서 잘 동작"
   ]
  },
  {
   "cell_type": "code",
   "execution_count": 1,
   "metadata": {
    "id": "DeBq-DEl4Mxc"
   },
   "outputs": [],
   "source": [
    "from sklearn.datasets import load_iris, load_wine, load_breast_cancer\n",
    "from sklearn.datasets import load_boston, load_diabetes\n",
    "\n",
    "from sklearn.pipeline import make_pipeline, Pipeline # 개체도가져온것\n",
    "from sklearn.model_selection import train_test_split, cross_validate, GridSearchCV, cross_val_score\n",
    "from sklearn.preprocessing import StandardScaler, MinMaxScaler\n"
   ]
  },
  {
   "cell_type": "code",
   "execution_count": 2,
   "metadata": {
    "id": "sJK4QMLlYN3G"
   },
   "outputs": [],
   "source": [
    "import multiprocessing\n",
    "import pandas as pd\n",
    "import numpy as np\n",
    "import graphviz\n",
    "import matplotlib.pyplot as plt\n",
    "from matplotlib.colors import ListedColormap\n",
    "plt.style.use(['seaborn-whitegrid'])\n",
    "import seaborn as sns"
   ]
  },
  {
   "cell_type": "code",
   "execution_count": 3,
   "metadata": {
    "id": "Z9EBwVN94ZMN"
   },
   "outputs": [],
   "source": [
    "from sklearn.ensemble import BaggingClassifier\n",
    "from sklearn.neighbors import KNeighborsClassifier\n",
    "from sklearn.svm import SVC\n",
    "from sklearn.tree import DecisionTreeClassifier\n"
   ]
  },
  {
   "cell_type": "code",
   "execution_count": 4,
   "metadata": {},
   "outputs": [],
   "source": [
    "from sklearn.ensemble import BaggingRegressor\n",
    "from sklearn.neighbors import KNeighborsRegressor\n",
    "from sklearn.svm import SVR\n",
    "from sklearn.tree import DecisionTreeRegressor"
   ]
  },
  {
   "cell_type": "markdown",
   "metadata": {
    "id": "bnC_CfiDf3kC"
   },
   "source": [
    "### Bagging을 사용한 분류"
   ]
  },
  {
   "cell_type": "markdown",
   "metadata": {
    "id": "yw2FY84r4zQR"
   },
   "source": [
    "#### 데이터셋 불러오기"
   ]
  },
  {
   "cell_type": "code",
   "execution_count": 5,
   "metadata": {
    "id": "6DlynlPmf-3Y"
   },
   "outputs": [],
   "source": [
    "iris = load_iris()\n",
    "wine = load_wine()\n",
    "cancer = load_breast_cancer()"
   ]
  },
  {
   "cell_type": "markdown",
   "metadata": {
    "id": "9XzfsGdL4_YF"
   },
   "source": [
    "#### KNN"
   ]
  },
  {
   "cell_type": "markdown",
   "metadata": {
    "id": "h5TYJLtQ8k70"
   },
   "source": [
    "##### 붓꽃 데이터"
   ]
  },
  {
   "cell_type": "code",
   "execution_count": 6,
   "metadata": {
    "id": "vqMhwq26gIl9"
   },
   "outputs": [],
   "source": [
    "base_model = make_pipeline(\n",
    "    StandardScaler(),\n",
    "    KNeighborsClassifier()\n",
    ")\n",
    "\n",
    "\n",
    "bagging_model = BaggingClassifier(base_model, n_estimators=10,\n",
    "                                  max_samples=0.5,\n",
    "                                  max_features=0.5)"
   ]
  },
  {
   "cell_type": "code",
   "execution_count": 7,
   "metadata": {
    "colab": {
     "base_uri": "https://localhost:8080/",
     "height": 69
    },
    "executionInfo": {
     "elapsed": 848,
     "status": "ok",
     "timestamp": 1598197711343,
     "user": {
      "displayName": "Suan Lee",
      "photoUrl": "https://lh3.googleusercontent.com/a-/AOh14Ggrbbtm0GIFbgQl9jEH-C8dVBtk90Lcr33g5Dx5OJo=s64",
      "userId": "05284829446034665596"
     },
     "user_tz": -540
    },
    "id": "m-fGDZoD52eY",
    "outputId": "d4567e74-e3ee-4ca6-a8e2-7d3d00233931"
   },
   "outputs": [
    {
     "name": "stdout",
     "output_type": "stream",
     "text": [
      "avg time: 0.0004499912261962891 (+/- 0.00016858649041272231)\n",
      "avg score time: 0.0006659984588623047 (+/- 5.07990718136503e-05)\n",
      "avg test score: 0.96 (+/- 0.024944382578492935)\n"
     ]
    }
   ],
   "source": [
    "cross_val =cross_validate(estimator=base_model,\n",
    "                          X=iris.data, y=iris.target,\n",
    "                          cv=5)\n",
    "\n",
    "print('avg time: {} (+/- {})'.format((cross_val['fit_time'].mean()), cross_val['fit_time'].std()))\n",
    "print('avg score time: {} (+/- {})'.format(cross_val['score_time'].mean(), cross_val['score_time'].std()))\n",
    "print('avg test score: {} (+/- {})'.format(cross_val['test_score'].mean(), cross_val['test_score'].std()))"
   ]
  },
  {
   "cell_type": "code",
   "execution_count": 8,
   "metadata": {
    "colab": {
     "base_uri": "https://localhost:8080/",
     "height": 69
    },
    "executionInfo": {
     "elapsed": 878,
     "status": "ok",
     "timestamp": 1598197735303,
     "user": {
      "displayName": "Suan Lee",
      "photoUrl": "https://lh3.googleusercontent.com/a-/AOh14Ggrbbtm0GIFbgQl9jEH-C8dVBtk90Lcr33g5Dx5OJo=s64",
      "userId": "05284829446034665596"
     },
     "user_tz": -540
    },
    "id": "j8UhV67NgiC0",
    "outputId": "be7059c2-0555-448f-cf78-e545169e2c4f"
   },
   "outputs": [
    {
     "name": "stdout",
     "output_type": "stream",
     "text": [
      "avg time: 0.0075347900390625 (+/- 0.001111821390480921)\n",
      "avg score time: 0.0026380062103271485 (+/- 0.0002126780645022628)\n",
      "avg test score: 0.9400000000000001 (+/- 0.02494438257849294)\n"
     ]
    }
   ],
   "source": [
    "cross_val =cross_validate(estimator=bagging_model,\n",
    "                          X=iris.data, y=iris.target,\n",
    "                          cv=5)\n",
    "\n",
    "print('avg time: {} (+/- {})'.format((cross_val['fit_time'].mean()), cross_val['fit_time'].std()))\n",
    "print('avg score time: {} (+/- {})'.format(cross_val['score_time'].mean(), cross_val['score_time'].std()))\n",
    "print('avg test score: {} (+/- {})'.format(cross_val['test_score'].mean(), cross_val['test_score'].std()))"
   ]
  },
  {
   "cell_type": "markdown",
   "metadata": {
    "id": "aake5r8-_FLh"
   },
   "source": [
    "##### 와인 데이터"
   ]
  },
  {
   "cell_type": "code",
   "execution_count": 9,
   "metadata": {
    "id": "vqMhwq26gIl9"
   },
   "outputs": [],
   "source": [
    "base_model = make_pipeline(\n",
    "    StandardScaler(),\n",
    "    KNeighborsClassifier()\n",
    ")\n",
    "\n",
    "\n",
    "bagging_model = BaggingClassifier(base_model, n_estimators=10,\n",
    "                                  max_samples=0.5,\n",
    "                                  max_features=0.5)"
   ]
  },
  {
   "cell_type": "code",
   "execution_count": 10,
   "metadata": {
    "colab": {
     "base_uri": "https://localhost:8080/",
     "height": 69
    },
    "executionInfo": {
     "elapsed": 848,
     "status": "ok",
     "timestamp": 1598197711343,
     "user": {
      "displayName": "Suan Lee",
      "photoUrl": "https://lh3.googleusercontent.com/a-/AOh14Ggrbbtm0GIFbgQl9jEH-C8dVBtk90Lcr33g5Dx5OJo=s64",
      "userId": "05284829446034665596"
     },
     "user_tz": -540
    },
    "id": "m-fGDZoD52eY",
    "outputId": "d4567e74-e3ee-4ca6-a8e2-7d3d00233931"
   },
   "outputs": [
    {
     "name": "stdout",
     "output_type": "stream",
     "text": [
      "avg time: 0.0005139350891113281 (+/- 0.00024641252096432956)\n",
      "avg score time: 0.0007491588592529296 (+/- 6.395387180061934e-05)\n",
      "avg test score: 0.9493650793650794 (+/- 0.037910929811115976)\n"
     ]
    }
   ],
   "source": [
    "cross_val =cross_validate(estimator=base_model,\n",
    "                          X=wine.data, y=wine.target,\n",
    "                          cv=5)\n",
    "\n",
    "print('avg time: {} (+/- {})'.format((cross_val['fit_time'].mean()), cross_val['fit_time'].std()))\n",
    "print('avg score time: {} (+/- {})'.format(cross_val['score_time'].mean(), cross_val['score_time'].std()))\n",
    "print('avg test score: {} (+/- {})'.format(cross_val['test_score'].mean(), cross_val['test_score'].std()))"
   ]
  },
  {
   "cell_type": "code",
   "execution_count": 11,
   "metadata": {
    "colab": {
     "base_uri": "https://localhost:8080/",
     "height": 69
    },
    "executionInfo": {
     "elapsed": 878,
     "status": "ok",
     "timestamp": 1598197735303,
     "user": {
      "displayName": "Suan Lee",
      "photoUrl": "https://lh3.googleusercontent.com/a-/AOh14Ggrbbtm0GIFbgQl9jEH-C8dVBtk90Lcr33g5Dx5OJo=s64",
      "userId": "05284829446034665596"
     },
     "user_tz": -540
    },
    "id": "j8UhV67NgiC0",
    "outputId": "be7059c2-0555-448f-cf78-e545169e2c4f"
   },
   "outputs": [
    {
     "name": "stdout",
     "output_type": "stream",
     "text": [
      "avg time: 0.007269287109375 (+/- 0.0009473209778361397)\n",
      "avg score time: 0.00276336669921875 (+/- 0.0003609108788707082)\n",
      "avg test score: 0.9607936507936508 (+/- 0.013352216409405144)\n"
     ]
    }
   ],
   "source": [
    "cross_val =cross_validate(estimator=bagging_model,\n",
    "                          X=wine.data, y=wine.target,\n",
    "                          cv=5)\n",
    "\n",
    "print('avg time: {} (+/- {})'.format((cross_val['fit_time'].mean()), cross_val['fit_time'].std()))\n",
    "print('avg score time: {} (+/- {})'.format(cross_val['score_time'].mean(), cross_val['score_time'].std()))\n",
    "print('avg test score: {} (+/- {})'.format(cross_val['test_score'].mean(), cross_val['test_score'].std()))"
   ]
  },
  {
   "cell_type": "markdown",
   "metadata": {
    "id": "iPKP6KIy8nso",
    "tags": []
   },
   "source": [
    "##### 유방암 데이터"
   ]
  },
  {
   "cell_type": "code",
   "execution_count": 12,
   "metadata": {
    "id": "vqMhwq26gIl9"
   },
   "outputs": [],
   "source": [
    "base_model = make_pipeline(\n",
    "    StandardScaler(),\n",
    "    KNeighborsClassifier()\n",
    ")\n",
    "\n",
    "\n",
    "bagging_model = BaggingClassifier(base_model, n_estimators=10,\n",
    "                                  max_samples=0.5,\n",
    "                                  max_features=0.5)"
   ]
  },
  {
   "cell_type": "code",
   "execution_count": 13,
   "metadata": {
    "colab": {
     "base_uri": "https://localhost:8080/",
     "height": 69
    },
    "executionInfo": {
     "elapsed": 848,
     "status": "ok",
     "timestamp": 1598197711343,
     "user": {
      "displayName": "Suan Lee",
      "photoUrl": "https://lh3.googleusercontent.com/a-/AOh14Ggrbbtm0GIFbgQl9jEH-C8dVBtk90Lcr33g5Dx5OJo=s64",
      "userId": "05284829446034665596"
     },
     "user_tz": -540
    },
    "id": "m-fGDZoD52eY",
    "outputId": "d4567e74-e3ee-4ca6-a8e2-7d3d00233931"
   },
   "outputs": [
    {
     "name": "stdout",
     "output_type": "stream",
     "text": [
      "avg time: 0.0006314277648925781 (+/- 0.00011719601973965333)\n",
      "avg score time: 0.010446596145629882 (+/- 0.0042019870109625355)\n",
      "avg test score: 0.9648501785437045 (+/- 0.009609970350036127)\n"
     ]
    }
   ],
   "source": [
    "cross_val =cross_validate(estimator=base_model,\n",
    "                          X=cancer.data, y=cancer.target,\n",
    "                          cv=5)\n",
    "\n",
    "print('avg time: {} (+/- {})'.format((cross_val['fit_time'].mean()), cross_val['fit_time'].std()))\n",
    "print('avg score time: {} (+/- {})'.format(cross_val['score_time'].mean(), cross_val['score_time'].std()))\n",
    "print('avg test score: {} (+/- {})'.format(cross_val['test_score'].mean(), cross_val['test_score'].std()))"
   ]
  },
  {
   "cell_type": "code",
   "execution_count": 14,
   "metadata": {
    "colab": {
     "base_uri": "https://localhost:8080/",
     "height": 69
    },
    "executionInfo": {
     "elapsed": 878,
     "status": "ok",
     "timestamp": 1598197735303,
     "user": {
      "displayName": "Suan Lee",
      "photoUrl": "https://lh3.googleusercontent.com/a-/AOh14Ggrbbtm0GIFbgQl9jEH-C8dVBtk90Lcr33g5Dx5OJo=s64",
      "userId": "05284829446034665596"
     },
     "user_tz": -540
    },
    "id": "j8UhV67NgiC0",
    "outputId": "be7059c2-0555-448f-cf78-e545169e2c4f"
   },
   "outputs": [
    {
     "name": "stdout",
     "output_type": "stream",
     "text": [
      "avg time: 0.007856369018554688 (+/- 0.0006436889246694201)\n",
      "avg score time: 0.005776166915893555 (+/- 6.967241973530595e-05)\n",
      "avg test score: 0.9560782487191428 (+/- 0.013549838449231511)\n"
     ]
    }
   ],
   "source": [
    "cross_val =cross_validate(estimator=bagging_model,\n",
    "                          X=cancer.data, y=cancer.target,\n",
    "                          cv=5)\n",
    "\n",
    "print('avg time: {} (+/- {})'.format((cross_val['fit_time'].mean()), cross_val['fit_time'].std()))\n",
    "print('avg score time: {} (+/- {})'.format(cross_val['score_time'].mean(), cross_val['score_time'].std()))\n",
    "print('avg test score: {} (+/- {})'.format(cross_val['test_score'].mean(), cross_val['test_score'].std()))"
   ]
  },
  {
   "cell_type": "markdown",
   "metadata": {
    "id": "c6cXnxEZ90NR"
   },
   "source": [
    "#### SVC"
   ]
  },
  {
   "cell_type": "markdown",
   "metadata": {
    "id": "yFolvlY393Pv"
   },
   "source": [
    "##### 붓꽃 데이터"
   ]
  },
  {
   "cell_type": "code",
   "execution_count": 15,
   "metadata": {
    "id": "vqMhwq26gIl9"
   },
   "outputs": [],
   "source": [
    "base_model = make_pipeline(\n",
    "    StandardScaler(),\n",
    "    SVC()\n",
    ")\n",
    "\n",
    "\n",
    "bagging_model = BaggingClassifier(base_model, n_estimators=10,\n",
    "                                  max_samples=0.5,\n",
    "                                  max_features=0.5)"
   ]
  },
  {
   "cell_type": "code",
   "execution_count": 16,
   "metadata": {
    "colab": {
     "base_uri": "https://localhost:8080/",
     "height": 69
    },
    "executionInfo": {
     "elapsed": 848,
     "status": "ok",
     "timestamp": 1598197711343,
     "user": {
      "displayName": "Suan Lee",
      "photoUrl": "https://lh3.googleusercontent.com/a-/AOh14Ggrbbtm0GIFbgQl9jEH-C8dVBtk90Lcr33g5Dx5OJo=s64",
      "userId": "05284829446034665596"
     },
     "user_tz": -540
    },
    "id": "m-fGDZoD52eY",
    "outputId": "d4567e74-e3ee-4ca6-a8e2-7d3d00233931"
   },
   "outputs": [
    {
     "name": "stdout",
     "output_type": "stream",
     "text": [
      "avg time: 0.00056610107421875 (+/- 0.00014655794652984925)\n",
      "avg score time: 0.00021228790283203124 (+/- 6.764815340122953e-05)\n",
      "avg test score: 0.9666666666666666 (+/- 0.02108185106778919)\n"
     ]
    }
   ],
   "source": [
    "cross_val =cross_validate(estimator=base_model,\n",
    "                          X=iris.data, y=iris.target,\n",
    "                          cv=5)\n",
    "\n",
    "print('avg time: {} (+/- {})'.format((cross_val['fit_time'].mean()), cross_val['fit_time'].std()))\n",
    "print('avg score time: {} (+/- {})'.format(cross_val['score_time'].mean(), cross_val['score_time'].std()))\n",
    "print('avg test score: {} (+/- {})'.format(cross_val['test_score'].mean(), cross_val['test_score'].std()))"
   ]
  },
  {
   "cell_type": "code",
   "execution_count": 17,
   "metadata": {
    "colab": {
     "base_uri": "https://localhost:8080/",
     "height": 69
    },
    "executionInfo": {
     "elapsed": 878,
     "status": "ok",
     "timestamp": 1598197735303,
     "user": {
      "displayName": "Suan Lee",
      "photoUrl": "https://lh3.googleusercontent.com/a-/AOh14Ggrbbtm0GIFbgQl9jEH-C8dVBtk90Lcr33g5Dx5OJo=s64",
      "userId": "05284829446034665596"
     },
     "user_tz": -540
    },
    "id": "j8UhV67NgiC0",
    "outputId": "be7059c2-0555-448f-cf78-e545169e2c4f"
   },
   "outputs": [
    {
     "name": "stdout",
     "output_type": "stream",
     "text": [
      "avg time: 0.014281463623046876 (+/- 0.000825860915785939)\n",
      "avg score time: 0.004641962051391601 (+/- 0.0002123422523118737)\n",
      "avg test score: 0.9701443875174661 (+/- 0.018875225344533977)\n"
     ]
    }
   ],
   "source": [
    "cross_val =cross_validate(estimator=bagging_model,\n",
    "                          X=cancer.data, y=cancer.target,\n",
    "                          cv=5)\n",
    "\n",
    "print('avg time: {} (+/- {})'.format((cross_val['fit_time'].mean()), cross_val['fit_time'].std()))\n",
    "print('avg score time: {} (+/- {})'.format(cross_val['score_time'].mean(), cross_val['score_time'].std()))\n",
    "print('avg test score: {} (+/- {})'.format(cross_val['test_score'].mean(), cross_val['test_score'].std()))"
   ]
  },
  {
   "cell_type": "markdown",
   "metadata": {
    "id": "BAVcL_DG_HgP",
    "tags": []
   },
   "source": [
    "##### 와인 데이터"
   ]
  },
  {
   "cell_type": "code",
   "execution_count": 18,
   "metadata": {
    "id": "vqMhwq26gIl9"
   },
   "outputs": [],
   "source": [
    "base_model = make_pipeline(\n",
    "    StandardScaler(),\n",
    "    SVC()\n",
    ")\n",
    "\n",
    "\n",
    "bagging_model = BaggingClassifier(base_model, n_estimators=10,\n",
    "                                  max_samples=0.5,\n",
    "                                  max_features=0.5)"
   ]
  },
  {
   "cell_type": "code",
   "execution_count": 19,
   "metadata": {
    "colab": {
     "base_uri": "https://localhost:8080/",
     "height": 69
    },
    "executionInfo": {
     "elapsed": 848,
     "status": "ok",
     "timestamp": 1598197711343,
     "user": {
      "displayName": "Suan Lee",
      "photoUrl": "https://lh3.googleusercontent.com/a-/AOh14Ggrbbtm0GIFbgQl9jEH-C8dVBtk90Lcr33g5Dx5OJo=s64",
      "userId": "05284829446034665596"
     },
     "user_tz": -540
    },
    "id": "m-fGDZoD52eY",
    "outputId": "d4567e74-e3ee-4ca6-a8e2-7d3d00233931"
   },
   "outputs": [
    {
     "name": "stdout",
     "output_type": "stream",
     "text": [
      "avg time: 0.0007581710815429688 (+/- 0.00022193668263530643)\n",
      "avg score time: 0.00024218559265136718 (+/- 2.975035905627599e-05)\n",
      "avg test score: 0.9833333333333334 (+/- 0.022222222222222233)\n"
     ]
    }
   ],
   "source": [
    "cross_val =cross_validate(estimator=base_model,\n",
    "                          X=wine.data, y=wine.target,\n",
    "                          cv=5)\n",
    "\n",
    "print('avg time: {} (+/- {})'.format((cross_val['fit_time'].mean()), cross_val['fit_time'].std()))\n",
    "print('avg score time: {} (+/- {})'.format(cross_val['score_time'].mean(), cross_val['score_time'].std()))\n",
    "print('avg test score: {} (+/- {})'.format(cross_val['test_score'].mean(), cross_val['test_score'].std()))"
   ]
  },
  {
   "cell_type": "code",
   "execution_count": 20,
   "metadata": {
    "colab": {
     "base_uri": "https://localhost:8080/",
     "height": 69
    },
    "executionInfo": {
     "elapsed": 878,
     "status": "ok",
     "timestamp": 1598197735303,
     "user": {
      "displayName": "Suan Lee",
      "photoUrl": "https://lh3.googleusercontent.com/a-/AOh14Ggrbbtm0GIFbgQl9jEH-C8dVBtk90Lcr33g5Dx5OJo=s64",
      "userId": "05284829446034665596"
     },
     "user_tz": -540
    },
    "id": "j8UhV67NgiC0",
    "outputId": "be7059c2-0555-448f-cf78-e545169e2c4f"
   },
   "outputs": [
    {
     "name": "stdout",
     "output_type": "stream",
     "text": [
      "avg time: 0.010684823989868164 (+/- 0.0008755691585655815)\n",
      "avg score time: 0.0016037940979003907 (+/- 0.00015533590889905646)\n",
      "avg test score: 0.9665079365079364 (+/- 0.020746948644437477)\n"
     ]
    }
   ],
   "source": [
    "cross_val =cross_validate(estimator=bagging_model,\n",
    "                          X=wine.data, y=wine.target,\n",
    "                          cv=5)\n",
    "\n",
    "print('avg time: {} (+/- {})'.format((cross_val['fit_time'].mean()), cross_val['fit_time'].std()))\n",
    "print('avg score time: {} (+/- {})'.format(cross_val['score_time'].mean(), cross_val['score_time'].std()))\n",
    "print('avg test score: {} (+/- {})'.format(cross_val['test_score'].mean(), cross_val['test_score'].std()))"
   ]
  },
  {
   "cell_type": "markdown",
   "metadata": {
    "id": "59r3mE7H92wX"
   },
   "source": [
    "##### 유방암 데이터"
   ]
  },
  {
   "cell_type": "code",
   "execution_count": 21,
   "metadata": {
    "id": "vqMhwq26gIl9"
   },
   "outputs": [],
   "source": [
    "base_model = make_pipeline(\n",
    "    StandardScaler(),\n",
    "    SVC()\n",
    ")\n",
    "\n",
    "\n",
    "bagging_model = BaggingClassifier(base_model, n_estimators=10,\n",
    "                                  max_samples=0.5,\n",
    "                                  max_features=0.5)"
   ]
  },
  {
   "cell_type": "code",
   "execution_count": 22,
   "metadata": {
    "colab": {
     "base_uri": "https://localhost:8080/",
     "height": 69
    },
    "executionInfo": {
     "elapsed": 848,
     "status": "ok",
     "timestamp": 1598197711343,
     "user": {
      "displayName": "Suan Lee",
      "photoUrl": "https://lh3.googleusercontent.com/a-/AOh14Ggrbbtm0GIFbgQl9jEH-C8dVBtk90Lcr33g5Dx5OJo=s64",
      "userId": "05284829446034665596"
     },
     "user_tz": -540
    },
    "id": "m-fGDZoD52eY",
    "outputId": "d4567e74-e3ee-4ca6-a8e2-7d3d00233931"
   },
   "outputs": [
    {
     "name": "stdout",
     "output_type": "stream",
     "text": [
      "avg time: 0.001971912384033203 (+/- 5.991405288723663e-05)\n",
      "avg score time: 0.0008039474487304688 (+/- 1.9813143381420833e-05)\n",
      "avg test score: 0.9736376339077782 (+/- 0.014678541667933545)\n"
     ]
    }
   ],
   "source": [
    "cross_val =cross_validate(estimator=base_model,\n",
    "                          X=cancer.data, y=cancer.target,\n",
    "                          cv=5)\n",
    "\n",
    "print('avg time: {} (+/- {})'.format((cross_val['fit_time'].mean()), cross_val['fit_time'].std()))\n",
    "print('avg score time: {} (+/- {})'.format(cross_val['score_time'].mean(), cross_val['score_time'].std()))\n",
    "print('avg test score: {} (+/- {})'.format(cross_val['test_score'].mean(), cross_val['test_score'].std()))"
   ]
  },
  {
   "cell_type": "code",
   "execution_count": 23,
   "metadata": {
    "colab": {
     "base_uri": "https://localhost:8080/",
     "height": 69
    },
    "executionInfo": {
     "elapsed": 878,
     "status": "ok",
     "timestamp": 1598197735303,
     "user": {
      "displayName": "Suan Lee",
      "photoUrl": "https://lh3.googleusercontent.com/a-/AOh14Ggrbbtm0GIFbgQl9jEH-C8dVBtk90Lcr33g5Dx5OJo=s64",
      "userId": "05284829446034665596"
     },
     "user_tz": -540
    },
    "id": "j8UhV67NgiC0",
    "outputId": "be7059c2-0555-448f-cf78-e545169e2c4f"
   },
   "outputs": [
    {
     "name": "stdout",
     "output_type": "stream",
     "text": [
      "avg time: 0.014359521865844726 (+/- 0.0010435034404423166)\n",
      "avg score time: 0.004586172103881836 (+/- 0.0002760199558372774)\n",
      "avg test score: 0.9578171091445427 (+/- 0.00658685537401851)\n"
     ]
    }
   ],
   "source": [
    "cross_val =cross_validate(estimator=bagging_model,\n",
    "                          X=cancer.data, y=cancer.target,\n",
    "                          cv=5)\n",
    "\n",
    "print('avg time: {} (+/- {})'.format((cross_val['fit_time'].mean()), cross_val['fit_time'].std()))\n",
    "print('avg score time: {} (+/- {})'.format(cross_val['score_time'].mean(), cross_val['score_time'].std()))\n",
    "print('avg test score: {} (+/- {})'.format(cross_val['test_score'].mean(), cross_val['test_score'].std()))"
   ]
  },
  {
   "cell_type": "markdown",
   "metadata": {
    "id": "Gtpz-2Ly-gF2"
   },
   "source": [
    "#### Decision Tree"
   ]
  },
  {
   "cell_type": "markdown",
   "metadata": {
    "id": "3A4T9Bv--jF-"
   },
   "source": [
    "##### 붓꽃 데이터"
   ]
  },
  {
   "cell_type": "code",
   "execution_count": 24,
   "metadata": {
    "id": "vqMhwq26gIl9"
   },
   "outputs": [],
   "source": [
    "base_model = make_pipeline(\n",
    "    StandardScaler(),\n",
    "    DecisionTreeClassifier()\n",
    ")\n",
    "\n",
    "\n",
    "bagging_model = BaggingClassifier(base_model, n_estimators=10,\n",
    "                                  max_samples=0.5,\n",
    "                                  max_features=0.5)"
   ]
  },
  {
   "cell_type": "code",
   "execution_count": 25,
   "metadata": {
    "colab": {
     "base_uri": "https://localhost:8080/",
     "height": 69
    },
    "executionInfo": {
     "elapsed": 848,
     "status": "ok",
     "timestamp": 1598197711343,
     "user": {
      "displayName": "Suan Lee",
      "photoUrl": "https://lh3.googleusercontent.com/a-/AOh14Ggrbbtm0GIFbgQl9jEH-C8dVBtk90Lcr33g5Dx5OJo=s64",
      "userId": "05284829446034665596"
     },
     "user_tz": -540
    },
    "id": "m-fGDZoD52eY",
    "outputId": "d4567e74-e3ee-4ca6-a8e2-7d3d00233931"
   },
   "outputs": [
    {
     "name": "stdout",
     "output_type": "stream",
     "text": [
      "avg time: 0.00045461654663085936 (+/- 0.00017003516961785928)\n",
      "avg score time: 0.0001305103302001953 (+/- 2.269193838853944e-05)\n",
      "avg test score: 0.9600000000000002 (+/- 0.03265986323710903)\n"
     ]
    }
   ],
   "source": [
    "cross_val =cross_validate(estimator=base_model,\n",
    "                          X=iris.data, y=iris.target,\n",
    "                          cv=5)\n",
    "\n",
    "print('avg time: {} (+/- {})'.format((cross_val['fit_time'].mean()), cross_val['fit_time'].std()))\n",
    "print('avg score time: {} (+/- {})'.format(cross_val['score_time'].mean(), cross_val['score_time'].std()))\n",
    "print('avg test score: {} (+/- {})'.format(cross_val['test_score'].mean(), cross_val['test_score'].std()))"
   ]
  },
  {
   "cell_type": "code",
   "execution_count": 26,
   "metadata": {
    "colab": {
     "base_uri": "https://localhost:8080/",
     "height": 69
    },
    "executionInfo": {
     "elapsed": 878,
     "status": "ok",
     "timestamp": 1598197735303,
     "user": {
      "displayName": "Suan Lee",
      "photoUrl": "https://lh3.googleusercontent.com/a-/AOh14Ggrbbtm0GIFbgQl9jEH-C8dVBtk90Lcr33g5Dx5OJo=s64",
      "userId": "05284829446034665596"
     },
     "user_tz": -540
    },
    "id": "j8UhV67NgiC0",
    "outputId": "be7059c2-0555-448f-cf78-e545169e2c4f"
   },
   "outputs": [
    {
     "name": "stdout",
     "output_type": "stream",
     "text": [
      "avg time: 0.00931706428527832 (+/- 0.00062766415110317)\n",
      "avg score time: 0.00083160400390625 (+/- 7.333082681655773e-05)\n",
      "avg test score: 0.9533333333333334 (+/- 0.02666666666666666)\n"
     ]
    }
   ],
   "source": [
    "cross_val =cross_validate(estimator=bagging_model,\n",
    "                          X=iris.data, y=iris.target,\n",
    "                          cv=5)\n",
    "\n",
    "print('avg time: {} (+/- {})'.format((cross_val['fit_time'].mean()), cross_val['fit_time'].std()))\n",
    "print('avg score time: {} (+/- {})'.format(cross_val['score_time'].mean(), cross_val['score_time'].std()))\n",
    "print('avg test score: {} (+/- {})'.format(cross_val['test_score'].mean(), cross_val['test_score'].std()))"
   ]
  },
  {
   "cell_type": "markdown",
   "metadata": {
    "id": "Ninof3DO_IO3"
   },
   "source": [
    "##### 와인 데이터"
   ]
  },
  {
   "cell_type": "code",
   "execution_count": 27,
   "metadata": {
    "id": "vqMhwq26gIl9"
   },
   "outputs": [],
   "source": [
    "base_model = make_pipeline(\n",
    "    StandardScaler(),\n",
    "    DecisionTreeClassifier()\n",
    ")\n",
    "\n",
    "\n",
    "bagging_model = BaggingClassifier(base_model, n_estimators=10,\n",
    "                                  max_samples=0.5,\n",
    "                                  max_features=0.5)"
   ]
  },
  {
   "cell_type": "code",
   "execution_count": 28,
   "metadata": {
    "colab": {
     "base_uri": "https://localhost:8080/",
     "height": 69
    },
    "executionInfo": {
     "elapsed": 848,
     "status": "ok",
     "timestamp": 1598197711343,
     "user": {
      "displayName": "Suan Lee",
      "photoUrl": "https://lh3.googleusercontent.com/a-/AOh14Ggrbbtm0GIFbgQl9jEH-C8dVBtk90Lcr33g5Dx5OJo=s64",
      "userId": "05284829446034665596"
     },
     "user_tz": -540
    },
    "id": "m-fGDZoD52eY",
    "outputId": "d4567e74-e3ee-4ca6-a8e2-7d3d00233931"
   },
   "outputs": [
    {
     "name": "stdout",
     "output_type": "stream",
     "text": [
      "avg time: 0.0008074283599853515 (+/- 0.00025667899295546084)\n",
      "avg score time: 0.00014338493347167968 (+/- 1.9434024733228446e-05)\n",
      "avg test score: 0.8819047619047617 (+/- 0.045193238690994494)\n"
     ]
    }
   ],
   "source": [
    "cross_val =cross_validate(estimator=base_model,\n",
    "                          X=wine.data, y=wine.target,\n",
    "                          cv=5)\n",
    "\n",
    "print('avg time: {} (+/- {})'.format((cross_val['fit_time'].mean()), cross_val['fit_time'].std()))\n",
    "print('avg score time: {} (+/- {})'.format(cross_val['score_time'].mean(), cross_val['score_time'].std()))\n",
    "print('avg test score: {} (+/- {})'.format(cross_val['test_score'].mean(), cross_val['test_score'].std()))"
   ]
  },
  {
   "cell_type": "code",
   "execution_count": 29,
   "metadata": {
    "colab": {
     "base_uri": "https://localhost:8080/",
     "height": 69
    },
    "executionInfo": {
     "elapsed": 878,
     "status": "ok",
     "timestamp": 1598197735303,
     "user": {
      "displayName": "Suan Lee",
      "photoUrl": "https://lh3.googleusercontent.com/a-/AOh14Ggrbbtm0GIFbgQl9jEH-C8dVBtk90Lcr33g5Dx5OJo=s64",
      "userId": "05284829446034665596"
     },
     "user_tz": -540
    },
    "id": "j8UhV67NgiC0",
    "outputId": "be7059c2-0555-448f-cf78-e545169e2c4f"
   },
   "outputs": [
    {
     "name": "stdout",
     "output_type": "stream",
     "text": [
      "avg time: 0.009949588775634765 (+/- 0.0004241890561766656)\n",
      "avg score time: 0.0008258342742919922 (+/- 2.5068849126048186e-05)\n",
      "avg test score: 0.9498412698412698 (+/- 0.04771788684147456)\n"
     ]
    }
   ],
   "source": [
    "cross_val =cross_validate(estimator=bagging_model,\n",
    "                          X=wine.data, y=wine.target,\n",
    "                          cv=5)\n",
    "\n",
    "print('avg time: {} (+/- {})'.format((cross_val['fit_time'].mean()), cross_val['fit_time'].std()))\n",
    "print('avg score time: {} (+/- {})'.format(cross_val['score_time'].mean(), cross_val['score_time'].std()))\n",
    "print('avg test score: {} (+/- {})'.format(cross_val['test_score'].mean(), cross_val['test_score'].std()))"
   ]
  },
  {
   "cell_type": "markdown",
   "metadata": {
    "id": "uVlALN6t-i3T"
   },
   "source": [
    "##### 유방암 데이터"
   ]
  },
  {
   "cell_type": "code",
   "execution_count": 30,
   "metadata": {
    "id": "vqMhwq26gIl9"
   },
   "outputs": [],
   "source": [
    "base_model = make_pipeline(\n",
    "    StandardScaler(),\n",
    "    DecisionTreeClassifier()\n",
    ")\n",
    "\n",
    "\n",
    "bagging_model = BaggingClassifier(base_model, n_estimators=10,\n",
    "                                  max_samples=0.5,\n",
    "                                  max_features=0.5)"
   ]
  },
  {
   "cell_type": "code",
   "execution_count": 31,
   "metadata": {
    "colab": {
     "base_uri": "https://localhost:8080/",
     "height": 69
    },
    "executionInfo": {
     "elapsed": 848,
     "status": "ok",
     "timestamp": 1598197711343,
     "user": {
      "displayName": "Suan Lee",
      "photoUrl": "https://lh3.googleusercontent.com/a-/AOh14Ggrbbtm0GIFbgQl9jEH-C8dVBtk90Lcr33g5Dx5OJo=s64",
      "userId": "05284829446034665596"
     },
     "user_tz": -540
    },
    "id": "m-fGDZoD52eY",
    "outputId": "d4567e74-e3ee-4ca6-a8e2-7d3d00233931"
   },
   "outputs": [
    {
     "name": "stdout",
     "output_type": "stream",
     "text": [
      "avg time: 0.0042416095733642575 (+/- 0.00042724501873630426)\n",
      "avg score time: 0.0002384185791015625 (+/- 4.075521361102595e-05)\n",
      "avg test score: 0.924406148113647 (+/- 0.016389220150794942)\n"
     ]
    }
   ],
   "source": [
    "cross_val =cross_validate(estimator=base_model,\n",
    "                          X=cancer.data, y=cancer.target,\n",
    "                          cv=5)\n",
    "\n",
    "print('avg time: {} (+/- {})'.format((cross_val['fit_time'].mean()), cross_val['fit_time'].std()))\n",
    "print('avg score time: {} (+/- {})'.format(cross_val['score_time'].mean(), cross_val['score_time'].std()))\n",
    "print('avg test score: {} (+/- {})'.format(cross_val['test_score'].mean(), cross_val['test_score'].std()))"
   ]
  },
  {
   "cell_type": "code",
   "execution_count": 32,
   "metadata": {
    "colab": {
     "base_uri": "https://localhost:8080/",
     "height": 69
    },
    "executionInfo": {
     "elapsed": 878,
     "status": "ok",
     "timestamp": 1598197735303,
     "user": {
      "displayName": "Suan Lee",
      "photoUrl": "https://lh3.googleusercontent.com/a-/AOh14Ggrbbtm0GIFbgQl9jEH-C8dVBtk90Lcr33g5Dx5OJo=s64",
      "userId": "05284829446034665596"
     },
     "user_tz": -540
    },
    "id": "j8UhV67NgiC0",
    "outputId": "be7059c2-0555-448f-cf78-e545169e2c4f"
   },
   "outputs": [
    {
     "name": "stdout",
     "output_type": "stream",
     "text": [
      "avg time: 0.015692853927612306 (+/- 0.0011967829720470036)\n",
      "avg score time: 0.0012201309204101563 (+/- 0.0006981897412582256)\n",
      "avg test score: 0.9561092997981679 (+/- 0.017497331246480095)\n"
     ]
    }
   ],
   "source": [
    "cross_val =cross_validate(estimator=bagging_model,\n",
    "                          X=cancer.data, y=cancer.target,\n",
    "                          cv=5)\n",
    "\n",
    "print('avg time: {} (+/- {})'.format((cross_val['fit_time'].mean()), cross_val['fit_time'].std()))\n",
    "print('avg score time: {} (+/- {})'.format(cross_val['score_time'].mean(), cross_val['score_time'].std()))\n",
    "print('avg test score: {} (+/- {})'.format(cross_val['test_score'].mean(), cross_val['test_score'].std()))"
   ]
  },
  {
   "cell_type": "markdown",
   "metadata": {
    "id": "G8m4pTeC_Y7Q"
   },
   "source": [
    "### Bagging을 사용한 회귀"
   ]
  },
  {
   "cell_type": "markdown",
   "metadata": {
    "id": "47h6mi6D_cu3"
   },
   "source": [
    "#### 데이터셋 불러오기"
   ]
  },
  {
   "cell_type": "code",
   "execution_count": 33,
   "metadata": {
    "id": "UN7-vRcK_pKZ"
   },
   "outputs": [
    {
     "name": "stderr",
     "output_type": "stream",
     "text": [
      "/opt/homebrew/Caskroom/miniforge/base/envs/ps/lib/python3.9/site-packages/sklearn/utils/deprecation.py:87: FutureWarning: Function load_boston is deprecated; `load_boston` is deprecated in 1.0 and will be removed in 1.2.\n",
      "\n",
      "    The Boston housing prices dataset has an ethical problem. You can refer to\n",
      "    the documentation of this function for further details.\n",
      "\n",
      "    The scikit-learn maintainers therefore strongly discourage the use of this\n",
      "    dataset unless the purpose of the code is to study and educate about\n",
      "    ethical issues in data science and machine learning.\n",
      "\n",
      "    In this case special case, you can fetch the dataset from the original\n",
      "    source::\n",
      "\n",
      "        import pandas as pd\n",
      "        import numpy as np\n",
      "\n",
      "\n",
      "        data_url = \"http://lib.stat.cmu.edu/datasets/boston\"\n",
      "        raw_df = pd.read_csv(data_url, sep=\"\\s+\", skiprows=22, header=None)\n",
      "        data = np.hstack([raw_df.values[::2, :], raw_df.values[1::2, :2]])\n",
      "        target = raw_df.values[1::2, 2]\n",
      "\n",
      "    Alternative datasets include the California housing dataset (i.e.\n",
      "    func:`~sklearn.datasets.fetch_california_housing`) and the Ames housing\n",
      "    dataset. You can load the datasets as follows:\n",
      "\n",
      "        from sklearn.datasets import fetch_california_housing\n",
      "        housing = fetch_california_housing()\n",
      "\n",
      "    for the California housing dataset and:\n",
      "\n",
      "        from sklearn.datasets import fetch_openml\n",
      "        housing = fetch_openml(name=\"house_prices\", as_frame=True)\n",
      "\n",
      "    for the Ames housing dataset.\n",
      "    \n",
      "  warnings.warn(msg, category=FutureWarning)\n"
     ]
    }
   ],
   "source": [
    "boston = load_boston()\n",
    "diabetes = load_diabetes()\n"
   ]
  },
  {
   "cell_type": "markdown",
   "metadata": {
    "id": "lBSK7rhp_gMV"
   },
   "source": [
    "#### KNN"
   ]
  },
  {
   "cell_type": "markdown",
   "metadata": {
    "id": "Ze7yqMOL_t34"
   },
   "source": [
    "##### 보스턴 주택 가격 데이터"
   ]
  },
  {
   "cell_type": "code",
   "execution_count": 34,
   "metadata": {
    "id": "vqMhwq26gIl9"
   },
   "outputs": [],
   "source": [
    "base_model = make_pipeline(\n",
    "    StandardScaler(),\n",
    "    KNeighborsRegressor()\n",
    ")\n",
    "\n",
    "\n",
    "bagging_model = BaggingRegressor(base_model, n_estimators=10,\n",
    "                                  max_samples=0.5,\n",
    "                                  max_features=0.5)"
   ]
  },
  {
   "cell_type": "code",
   "execution_count": 35,
   "metadata": {
    "colab": {
     "base_uri": "https://localhost:8080/",
     "height": 69
    },
    "executionInfo": {
     "elapsed": 848,
     "status": "ok",
     "timestamp": 1598197711343,
     "user": {
      "displayName": "Suan Lee",
      "photoUrl": "https://lh3.googleusercontent.com/a-/AOh14Ggrbbtm0GIFbgQl9jEH-C8dVBtk90Lcr33g5Dx5OJo=s64",
      "userId": "05284829446034665596"
     },
     "user_tz": -540
    },
    "id": "m-fGDZoD52eY",
    "outputId": "d4567e74-e3ee-4ca6-a8e2-7d3d00233931"
   },
   "outputs": [
    {
     "name": "stdout",
     "output_type": "stream",
     "text": [
      "avg time: 0.0006270885467529296 (+/- 0.0003801507618605279)\n",
      "avg score time: 0.0007044792175292969 (+/- 0.00012892449337473954)\n",
      "avg test score: 0.47357748833823543 (+/- 0.13243123464477455)\n"
     ]
    }
   ],
   "source": [
    "cross_val =cross_validate(estimator=base_model,\n",
    "                          X=boston.data, y=boston.target,\n",
    "                          cv=5)\n",
    "\n",
    "print('avg time: {} (+/- {})'.format((cross_val['fit_time'].mean()), cross_val['fit_time'].std()))\n",
    "print('avg score time: {} (+/- {})'.format(cross_val['score_time'].mean(), cross_val['score_time'].std()))\n",
    "print('avg test score: {} (+/- {})'.format(cross_val['test_score'].mean(), cross_val['test_score'].std()))"
   ]
  },
  {
   "cell_type": "code",
   "execution_count": 36,
   "metadata": {
    "colab": {
     "base_uri": "https://localhost:8080/",
     "height": 69
    },
    "executionInfo": {
     "elapsed": 878,
     "status": "ok",
     "timestamp": 1598197735303,
     "user": {
      "displayName": "Suan Lee",
      "photoUrl": "https://lh3.googleusercontent.com/a-/AOh14Ggrbbtm0GIFbgQl9jEH-C8dVBtk90Lcr33g5Dx5OJo=s64",
      "userId": "05284829446034665596"
     },
     "user_tz": -540
    },
    "id": "j8UhV67NgiC0",
    "outputId": "be7059c2-0555-448f-cf78-e545169e2c4f"
   },
   "outputs": [
    {
     "name": "stdout",
     "output_type": "stream",
     "text": [
      "avg time: 0.007216787338256836 (+/- 0.0011489581911762778)\n",
      "avg score time: 0.0035225391387939454 (+/- 0.000256594603878292)\n",
      "avg test score: 0.46020137769307057 (+/- 0.16020838608383328)\n"
     ]
    }
   ],
   "source": [
    "cross_val =cross_validate(estimator=bagging_model,\n",
    "                          X=boston.data, y=boston.target,\n",
    "                          cv=5)\n",
    "\n",
    "print('avg time: {} (+/- {})'.format((cross_val['fit_time'].mean()), cross_val['fit_time'].std()))\n",
    "print('avg score time: {} (+/- {})'.format(cross_val['score_time'].mean(), cross_val['score_time'].std()))\n",
    "print('avg test score: {} (+/- {})'.format(cross_val['test_score'].mean(), cross_val['test_score'].std()))"
   ]
  },
  {
   "cell_type": "markdown",
   "metadata": {
    "id": "vsCxrkMO_td0"
   },
   "source": [
    "##### 당뇨병 데이터"
   ]
  },
  {
   "cell_type": "code",
   "execution_count": 37,
   "metadata": {
    "id": "vqMhwq26gIl9"
   },
   "outputs": [],
   "source": [
    "base_model = make_pipeline(\n",
    "    StandardScaler(),\n",
    "    KNeighborsRegressor()\n",
    ")\n",
    "\n",
    "\n",
    "bagging_model = BaggingRegressor(base_model, n_estimators=10,\n",
    "                                  max_samples=0.5,\n",
    "                                  max_features=0.5)"
   ]
  },
  {
   "cell_type": "code",
   "execution_count": 38,
   "metadata": {
    "colab": {
     "base_uri": "https://localhost:8080/",
     "height": 69
    },
    "executionInfo": {
     "elapsed": 848,
     "status": "ok",
     "timestamp": 1598197711343,
     "user": {
      "displayName": "Suan Lee",
      "photoUrl": "https://lh3.googleusercontent.com/a-/AOh14Ggrbbtm0GIFbgQl9jEH-C8dVBtk90Lcr33g5Dx5OJo=s64",
      "userId": "05284829446034665596"
     },
     "user_tz": -540
    },
    "id": "m-fGDZoD52eY",
    "outputId": "d4567e74-e3ee-4ca6-a8e2-7d3d00233931"
   },
   "outputs": [
    {
     "name": "stdout",
     "output_type": "stream",
     "text": [
      "avg time: 0.0005524158477783203 (+/- 0.00021455351386139097)\n",
      "avg score time: 0.0006405830383300782 (+/- 9.179584689338182e-05)\n",
      "avg test score: 0.3689720650295623 (+/- 0.044659049060165365)\n"
     ]
    }
   ],
   "source": [
    "cross_val =cross_validate(estimator=base_model,\n",
    "                          X=diabetes.data, y=diabetes.target,\n",
    "                          cv=5)\n",
    "\n",
    "print('avg time: {} (+/- {})'.format((cross_val['fit_time'].mean()), cross_val['fit_time'].std()))\n",
    "print('avg score time: {} (+/- {})'.format(cross_val['score_time'].mean(), cross_val['score_time'].std()))\n",
    "print('avg test score: {} (+/- {})'.format(cross_val['test_score'].mean(), cross_val['test_score'].std()))"
   ]
  },
  {
   "cell_type": "code",
   "execution_count": 39,
   "metadata": {
    "colab": {
     "base_uri": "https://localhost:8080/",
     "height": 69
    },
    "executionInfo": {
     "elapsed": 878,
     "status": "ok",
     "timestamp": 1598197735303,
     "user": {
      "displayName": "Suan Lee",
      "photoUrl": "https://lh3.googleusercontent.com/a-/AOh14Ggrbbtm0GIFbgQl9jEH-C8dVBtk90Lcr33g5Dx5OJo=s64",
      "userId": "05284829446034665596"
     },
     "user_tz": -540
    },
    "id": "j8UhV67NgiC0",
    "outputId": "be7059c2-0555-448f-cf78-e545169e2c4f"
   },
   "outputs": [
    {
     "name": "stdout",
     "output_type": "stream",
     "text": [
      "avg time: 0.00744476318359375 (+/- 0.0012564805932969727)\n",
      "avg score time: 0.003193950653076172 (+/- 0.00014655996336858954)\n",
      "avg test score: 0.4186131727866165 (+/- 0.046716392731289476)\n"
     ]
    }
   ],
   "source": [
    "cross_val =cross_validate(estimator=bagging_model,\n",
    "                          X=diabetes.data, y=diabetes.target,\n",
    "                          cv=5)\n",
    "\n",
    "print('avg time: {} (+/- {})'.format((cross_val['fit_time'].mean()), cross_val['fit_time'].std()))\n",
    "print('avg score time: {} (+/- {})'.format(cross_val['score_time'].mean(), cross_val['score_time'].std()))\n",
    "print('avg test score: {} (+/- {})'.format(cross_val['test_score'].mean(), cross_val['test_score'].std()))"
   ]
  },
  {
   "cell_type": "markdown",
   "metadata": {
    "id": "UNWloxDa_fvn"
   },
   "source": [
    "#### SVR"
   ]
  },
  {
   "cell_type": "markdown",
   "metadata": {
    "id": "NRDHG3iX_ygt"
   },
   "source": [
    "##### 보스턴 주택 가격 데이터"
   ]
  },
  {
   "cell_type": "code",
   "execution_count": 40,
   "metadata": {
    "id": "vqMhwq26gIl9"
   },
   "outputs": [],
   "source": [
    "base_model = make_pipeline(\n",
    "    StandardScaler(),\n",
    "    SVR()\n",
    ")\n",
    "\n",
    "\n",
    "bagging_model = BaggingRegressor(base_model, n_estimators=10,\n",
    "                                  max_samples=0.5,\n",
    "                                  max_features=0.5)"
   ]
  },
  {
   "cell_type": "code",
   "execution_count": 41,
   "metadata": {
    "colab": {
     "base_uri": "https://localhost:8080/",
     "height": 69
    },
    "executionInfo": {
     "elapsed": 848,
     "status": "ok",
     "timestamp": 1598197711343,
     "user": {
      "displayName": "Suan Lee",
      "photoUrl": "https://lh3.googleusercontent.com/a-/AOh14Ggrbbtm0GIFbgQl9jEH-C8dVBtk90Lcr33g5Dx5OJo=s64",
      "userId": "05284829446034665596"
     },
     "user_tz": -540
    },
    "id": "m-fGDZoD52eY",
    "outputId": "d4567e74-e3ee-4ca6-a8e2-7d3d00233931"
   },
   "outputs": [
    {
     "name": "stdout",
     "output_type": "stream",
     "text": [
      "avg time: 0.004180383682250976 (+/- 0.0002933117338390181)\n",
      "avg score time: 0.0018538475036621095 (+/- 7.585707396853418e-05)\n",
      "avg test score: 0.17631266230186604 (+/- 0.522491491512898)\n"
     ]
    }
   ],
   "source": [
    "cross_val =cross_validate(estimator=base_model,\n",
    "                          X=boston.data, y=boston.target,\n",
    "                          cv=5)\n",
    "\n",
    "print('avg time: {} (+/- {})'.format((cross_val['fit_time'].mean()), cross_val['fit_time'].std()))\n",
    "print('avg score time: {} (+/- {})'.format(cross_val['score_time'].mean(), cross_val['score_time'].std()))\n",
    "print('avg test score: {} (+/- {})'.format(cross_val['test_score'].mean(), cross_val['test_score'].std()))"
   ]
  },
  {
   "cell_type": "code",
   "execution_count": 42,
   "metadata": {
    "colab": {
     "base_uri": "https://localhost:8080/",
     "height": 69
    },
    "executionInfo": {
     "elapsed": 878,
     "status": "ok",
     "timestamp": 1598197735303,
     "user": {
      "displayName": "Suan Lee",
      "photoUrl": "https://lh3.googleusercontent.com/a-/AOh14Ggrbbtm0GIFbgQl9jEH-C8dVBtk90Lcr33g5Dx5OJo=s64",
      "userId": "05284829446034665596"
     },
     "user_tz": -540
    },
    "id": "j8UhV67NgiC0",
    "outputId": "be7059c2-0555-448f-cf78-e545169e2c4f"
   },
   "outputs": [
    {
     "name": "stdout",
     "output_type": "stream",
     "text": [
      "avg time: 0.01615433692932129 (+/- 0.0014596643903472479)\n",
      "avg score time: 0.008034992218017577 (+/- 0.00036681416742842743)\n",
      "avg test score: 0.176905347037198 (+/- 0.33563320929014584)\n"
     ]
    }
   ],
   "source": [
    "cross_val =cross_validate(estimator=bagging_model,\n",
    "                          X=boston.data, y=boston.target,\n",
    "                          cv=5)\n",
    "\n",
    "print('avg time: {} (+/- {})'.format((cross_val['fit_time'].mean()), cross_val['fit_time'].std()))\n",
    "print('avg score time: {} (+/- {})'.format(cross_val['score_time'].mean(), cross_val['score_time'].std()))\n",
    "print('avg test score: {} (+/- {})'.format(cross_val['test_score'].mean(), cross_val['test_score'].std()))"
   ]
  },
  {
   "cell_type": "markdown",
   "metadata": {
    "id": "dB98AXg7_004"
   },
   "source": [
    "##### 당뇨병 데이터"
   ]
  },
  {
   "cell_type": "code",
   "execution_count": 43,
   "metadata": {
    "id": "vqMhwq26gIl9"
   },
   "outputs": [],
   "source": [
    "base_model = make_pipeline(\n",
    "    StandardScaler(),\n",
    "    SVR()\n",
    ")\n",
    "\n",
    "\n",
    "bagging_model = BaggingRegressor(base_model, n_estimators=10,\n",
    "                                  max_samples=0.5,\n",
    "                                  max_features=0.5)"
   ]
  },
  {
   "cell_type": "code",
   "execution_count": 44,
   "metadata": {
    "colab": {
     "base_uri": "https://localhost:8080/",
     "height": 69
    },
    "executionInfo": {
     "elapsed": 848,
     "status": "ok",
     "timestamp": 1598197711343,
     "user": {
      "displayName": "Suan Lee",
      "photoUrl": "https://lh3.googleusercontent.com/a-/AOh14Ggrbbtm0GIFbgQl9jEH-C8dVBtk90Lcr33g5Dx5OJo=s64",
      "userId": "05284829446034665596"
     },
     "user_tz": -540
    },
    "id": "m-fGDZoD52eY",
    "outputId": "d4567e74-e3ee-4ca6-a8e2-7d3d00233931"
   },
   "outputs": [
    {
     "name": "stdout",
     "output_type": "stream",
     "text": [
      "avg time: 0.00290985107421875 (+/- 0.00031883948975000456)\n",
      "avg score time: 0.0013763904571533203 (+/- 6.733474224011935e-05)\n",
      "avg test score: 0.14659936199629436 (+/- 0.02190798003342926)\n"
     ]
    }
   ],
   "source": [
    "cross_val =cross_validate(estimator=base_model,\n",
    "                          X=diabetes.data, y=diabetes.target,\n",
    "                          cv=5)\n",
    "\n",
    "print('avg time: {} (+/- {})'.format((cross_val['fit_time'].mean()), cross_val['fit_time'].std()))\n",
    "print('avg score time: {} (+/- {})'.format(cross_val['score_time'].mean(), cross_val['score_time'].std()))\n",
    "print('avg test score: {} (+/- {})'.format(cross_val['test_score'].mean(), cross_val['test_score'].std()))"
   ]
  },
  {
   "cell_type": "code",
   "execution_count": 45,
   "metadata": {
    "colab": {
     "base_uri": "https://localhost:8080/",
     "height": 69
    },
    "executionInfo": {
     "elapsed": 878,
     "status": "ok",
     "timestamp": 1598197735303,
     "user": {
      "displayName": "Suan Lee",
      "photoUrl": "https://lh3.googleusercontent.com/a-/AOh14Ggrbbtm0GIFbgQl9jEH-C8dVBtk90Lcr33g5Dx5OJo=s64",
      "userId": "05284829446034665596"
     },
     "user_tz": -540
    },
    "id": "j8UhV67NgiC0",
    "outputId": "be7059c2-0555-448f-cf78-e545169e2c4f"
   },
   "outputs": [
    {
     "name": "stdout",
     "output_type": "stream",
     "text": [
      "avg time: 0.012865734100341798 (+/- 0.0007068819278023115)\n",
      "avg score time: 0.006644344329833985 (+/- 0.0005182225036246725)\n",
      "avg test score: 0.057184765380603284 (+/- 0.03335455827405013)\n"
     ]
    }
   ],
   "source": [
    "cross_val =cross_validate(estimator=bagging_model,\n",
    "                          X=diabetes.data, y=diabetes.target,\n",
    "                          cv=5)\n",
    "\n",
    "print('avg time: {} (+/- {})'.format((cross_val['fit_time'].mean()), cross_val['fit_time'].std()))\n",
    "print('avg score time: {} (+/- {})'.format(cross_val['score_time'].mean(), cross_val['score_time'].std()))\n",
    "print('avg test score: {} (+/- {})'.format(cross_val['test_score'].mean(), cross_val['test_score'].std()))"
   ]
  },
  {
   "cell_type": "markdown",
   "metadata": {
    "id": "Ffge42tG_fFc"
   },
   "source": [
    "#### Decision Tree"
   ]
  },
  {
   "cell_type": "markdown",
   "metadata": {
    "id": "MWWTfD6T_44c",
    "tags": []
   },
   "source": [
    "##### 보스턴 주택 가격 데이터"
   ]
  },
  {
   "cell_type": "code",
   "execution_count": 46,
   "metadata": {
    "id": "vqMhwq26gIl9"
   },
   "outputs": [],
   "source": [
    "base_model = make_pipeline(\n",
    "    StandardScaler(),\n",
    "    DecisionTreeRegressor()\n",
    ")\n",
    "\n",
    "\n",
    "bagging_model = BaggingRegressor(base_model, n_estimators=10,\n",
    "                                  max_samples=0.5,\n",
    "                                  max_features=0.5)"
   ]
  },
  {
   "cell_type": "code",
   "execution_count": 47,
   "metadata": {
    "colab": {
     "base_uri": "https://localhost:8080/",
     "height": 69
    },
    "executionInfo": {
     "elapsed": 848,
     "status": "ok",
     "timestamp": 1598197711343,
     "user": {
      "displayName": "Suan Lee",
      "photoUrl": "https://lh3.googleusercontent.com/a-/AOh14Ggrbbtm0GIFbgQl9jEH-C8dVBtk90Lcr33g5Dx5OJo=s64",
      "userId": "05284829446034665596"
     },
     "user_tz": -540
    },
    "id": "m-fGDZoD52eY",
    "outputId": "d4567e74-e3ee-4ca6-a8e2-7d3d00233931"
   },
   "outputs": [
    {
     "name": "stdout",
     "output_type": "stream",
     "text": [
      "avg time: 0.0023341655731201174 (+/- 0.0004387573885237046)\n",
      "avg score time: 0.0002478122711181641 (+/- 3.8764720120972154e-05)\n",
      "avg test score: 0.25575543590925287 (+/- 0.5539398340901199)\n"
     ]
    }
   ],
   "source": [
    "cross_val =cross_validate(estimator=base_model,\n",
    "                          X=boston.data, y=boston.target,\n",
    "                          cv=5)\n",
    "\n",
    "print('avg time: {} (+/- {})'.format((cross_val['fit_time'].mean()), cross_val['fit_time'].std()))\n",
    "print('avg score time: {} (+/- {})'.format(cross_val['score_time'].mean(), cross_val['score_time'].std()))\n",
    "print('avg test score: {} (+/- {})'.format(cross_val['test_score'].mean(), cross_val['test_score'].std()))"
   ]
  },
  {
   "cell_type": "code",
   "execution_count": 48,
   "metadata": {
    "colab": {
     "base_uri": "https://localhost:8080/",
     "height": 69
    },
    "executionInfo": {
     "elapsed": 878,
     "status": "ok",
     "timestamp": 1598197735303,
     "user": {
      "displayName": "Suan Lee",
      "photoUrl": "https://lh3.googleusercontent.com/a-/AOh14Ggrbbtm0GIFbgQl9jEH-C8dVBtk90Lcr33g5Dx5OJo=s64",
      "userId": "05284829446034665596"
     },
     "user_tz": -540
    },
    "id": "j8UhV67NgiC0",
    "outputId": "be7059c2-0555-448f-cf78-e545169e2c4f"
   },
   "outputs": [
    {
     "name": "stdout",
     "output_type": "stream",
     "text": [
      "avg time: 0.012369823455810548 (+/- 0.0007985318614233416)\n",
      "avg score time: 0.0008939743041992187 (+/- 0.0001620013525607587)\n",
      "avg test score: 0.2696857035755674 (+/- 0.43506281434429434)\n"
     ]
    }
   ],
   "source": [
    "cross_val =cross_validate(estimator=bagging_model,\n",
    "                          X=boston.data, y=boston.target,\n",
    "                          cv=5)\n",
    "\n",
    "print('avg time: {} (+/- {})'.format((cross_val['fit_time'].mean()), cross_val['fit_time'].std()))\n",
    "print('avg score time: {} (+/- {})'.format(cross_val['score_time'].mean(), cross_val['score_time'].std()))\n",
    "print('avg test score: {} (+/- {})'.format(cross_val['test_score'].mean(), cross_val['test_score'].std()))"
   ]
  },
  {
   "cell_type": "markdown",
   "metadata": {
    "id": "djcuGIS-_4kG",
    "tags": []
   },
   "source": [
    "##### 당뇨병 데이터"
   ]
  },
  {
   "cell_type": "code",
   "execution_count": 49,
   "metadata": {
    "id": "vqMhwq26gIl9"
   },
   "outputs": [],
   "source": [
    "base_model = make_pipeline(\n",
    "    StandardScaler(),\n",
    "    DecisionTreeRegressor()\n",
    ")\n",
    "\n",
    "\n",
    "bagging_model = BaggingRegressor(base_model, n_estimators=10,\n",
    "                                  max_samples=0.5,\n",
    "                                  max_features=0.5)"
   ]
  },
  {
   "cell_type": "code",
   "execution_count": 50,
   "metadata": {
    "colab": {
     "base_uri": "https://localhost:8080/",
     "height": 69
    },
    "executionInfo": {
     "elapsed": 848,
     "status": "ok",
     "timestamp": 1598197711343,
     "user": {
      "displayName": "Suan Lee",
      "photoUrl": "https://lh3.googleusercontent.com/a-/AOh14Ggrbbtm0GIFbgQl9jEH-C8dVBtk90Lcr33g5Dx5OJo=s64",
      "userId": "05284829446034665596"
     },
     "user_tz": -540
    },
    "id": "m-fGDZoD52eY",
    "outputId": "d4567e74-e3ee-4ca6-a8e2-7d3d00233931"
   },
   "outputs": [
    {
     "name": "stdout",
     "output_type": "stream",
     "text": [
      "avg time: 0.0018152236938476563 (+/- 0.0004775019684276096)\n",
      "avg score time: 0.0002284526824951172 (+/- 3.148692636606727e-05)\n",
      "avg test score: -0.1796539645888096 (+/- 0.1601538215092092)\n"
     ]
    }
   ],
   "source": [
    "cross_val =cross_validate(estimator=base_model,\n",
    "                          X=diabetes.data, y=diabetes.target,\n",
    "                          cv=5)\n",
    "\n",
    "print('avg time: {} (+/- {})'.format((cross_val['fit_time'].mean()), cross_val['fit_time'].std()))\n",
    "print('avg score time: {} (+/- {})'.format(cross_val['score_time'].mean(), cross_val['score_time'].std()))\n",
    "print('avg test score: {} (+/- {})'.format(cross_val['test_score'].mean(), cross_val['test_score'].std()))"
   ]
  },
  {
   "cell_type": "code",
   "execution_count": 51,
   "metadata": {
    "colab": {
     "base_uri": "https://localhost:8080/",
     "height": 69
    },
    "executionInfo": {
     "elapsed": 878,
     "status": "ok",
     "timestamp": 1598197735303,
     "user": {
      "displayName": "Suan Lee",
      "photoUrl": "https://lh3.googleusercontent.com/a-/AOh14Ggrbbtm0GIFbgQl9jEH-C8dVBtk90Lcr33g5Dx5OJo=s64",
      "userId": "05284829446034665596"
     },
     "user_tz": -540
    },
    "id": "j8UhV67NgiC0",
    "outputId": "be7059c2-0555-448f-cf78-e545169e2c4f"
   },
   "outputs": [
    {
     "name": "stdout",
     "output_type": "stream",
     "text": [
      "avg time: 0.018549156188964844 (+/- 0.014716600962625889)\n",
      "avg score time: 0.0008181095123291016 (+/- 6.726997848837786e-05)\n",
      "avg test score: 0.3584037326402691 (+/- 0.060868104506023306)\n"
     ]
    }
   ],
   "source": [
    "cross_val =cross_validate(estimator=bagging_model,\n",
    "                          X=diabetes.data, y=diabetes.target,\n",
    "                          cv=5)\n",
    "\n",
    "print('avg time: {} (+/- {})'.format((cross_val['fit_time'].mean()), cross_val['fit_time'].std()))\n",
    "print('avg score time: {} (+/- {})'.format(cross_val['score_time'].mean(), cross_val['score_time'].std()))\n",
    "print('avg test score: {} (+/- {})'.format(cross_val['test_score'].mean(), cross_val['test_score'].std()))"
   ]
  },
  {
   "cell_type": "markdown",
   "metadata": {
    "id": "Hve567xWbywt"
   },
   "source": [
    "## Forests of randomized trees\n",
    "\n",
    "* `sklearn.ensemble` 모듈에는 무작위 결정 트리를 기반으로하는 두 개의 평균화 알고리즘이 존재\n",
    "  * Random Forest\n",
    "  * Extra-Trees\n",
    "* 모델 구성에 임의성을 추가해 다양한 모델 집합이 생성\n",
    "* 앙상블 모델의 예측은 각 모델의 평균"
   ]
  },
  {
   "cell_type": "code",
   "execution_count": 52,
   "metadata": {
    "id": "9dLhSVb7CMIV"
   },
   "outputs": [],
   "source": [
    "from sklearn.ensemble import RandomForestClassifier, ExtraTreesClassifier\n",
    "from sklearn.ensemble import RandomForestRegressor, ExtraTreesRegressor"
   ]
  },
  {
   "cell_type": "markdown",
   "metadata": {
    "id": "oDLPV0rHk_kG"
   },
   "source": [
    "### Random Forests 분류"
   ]
  },
  {
   "cell_type": "code",
   "execution_count": 53,
   "metadata": {
    "id": "rpQvJshtlc-r"
   },
   "outputs": [],
   "source": [
    "model = make_pipeline(\n",
    "    StandardScaler(),\n",
    "    RandomForestClassifier()\n",
    ")\n"
   ]
  },
  {
   "cell_type": "code",
   "execution_count": 54,
   "metadata": {
    "colab": {
     "base_uri": "https://localhost:8080/",
     "height": 69
    },
    "executionInfo": {
     "elapsed": 848,
     "status": "ok",
     "timestamp": 1598197711343,
     "user": {
      "displayName": "Suan Lee",
      "photoUrl": "https://lh3.googleusercontent.com/a-/AOh14Ggrbbtm0GIFbgQl9jEH-C8dVBtk90Lcr33g5Dx5OJo=s64",
      "userId": "05284829446034665596"
     },
     "user_tz": -540
    },
    "id": "m-fGDZoD52eY",
    "outputId": "d4567e74-e3ee-4ca6-a8e2-7d3d00233931"
   },
   "outputs": [
    {
     "name": "stdout",
     "output_type": "stream",
     "text": [
      "avg time: 0.04429941177368164 (+/- 0.0009954618433227235)\n",
      "avg score time: 0.0030329227447509766 (+/- 7.097333068415078e-05)\n",
      "avg test score: 0.9666666666666668 (+/- 0.02108185106778919)\n"
     ]
    }
   ],
   "source": [
    "cross_val =cross_validate(estimator=model,\n",
    "                          X=iris.data, y=iris.target,\n",
    "                          cv=5)\n",
    "\n",
    "print('avg time: {} (+/- {})'.format((cross_val['fit_time'].mean()), cross_val['fit_time'].std()))\n",
    "print('avg score time: {} (+/- {})'.format(cross_val['score_time'].mean(), cross_val['score_time'].std()))\n",
    "print('avg test score: {} (+/- {})'.format(cross_val['test_score'].mean(), cross_val['test_score'].std()))"
   ]
  },
  {
   "cell_type": "code",
   "execution_count": 55,
   "metadata": {
    "colab": {
     "base_uri": "https://localhost:8080/",
     "height": 69
    },
    "executionInfo": {
     "elapsed": 848,
     "status": "ok",
     "timestamp": 1598197711343,
     "user": {
      "displayName": "Suan Lee",
      "photoUrl": "https://lh3.googleusercontent.com/a-/AOh14Ggrbbtm0GIFbgQl9jEH-C8dVBtk90Lcr33g5Dx5OJo=s64",
      "userId": "05284829446034665596"
     },
     "user_tz": -540
    },
    "id": "m-fGDZoD52eY",
    "outputId": "d4567e74-e3ee-4ca6-a8e2-7d3d00233931"
   },
   "outputs": [
    {
     "name": "stdout",
     "output_type": "stream",
     "text": [
      "avg time: 0.04764952659606934 (+/- 0.002326242472397799)\n",
      "avg score time: 0.0030664920806884764 (+/- 0.00011337081963921293)\n",
      "avg test score: 0.9722222222222221 (+/- 0.024845199749997673)\n"
     ]
    }
   ],
   "source": [
    "cross_val =cross_validate(estimator=model,\n",
    "                          X=wine.data, y=wine.target,\n",
    "                          cv=5)\n",
    "\n",
    "print('avg time: {} (+/- {})'.format((cross_val['fit_time'].mean()), cross_val['fit_time'].std()))\n",
    "print('avg score time: {} (+/- {})'.format(cross_val['score_time'].mean(), cross_val['score_time'].std()))\n",
    "print('avg test score: {} (+/- {})'.format(cross_val['test_score'].mean(), cross_val['test_score'].std()))"
   ]
  },
  {
   "cell_type": "code",
   "execution_count": 56,
   "metadata": {
    "colab": {
     "base_uri": "https://localhost:8080/",
     "height": 69
    },
    "executionInfo": {
     "elapsed": 848,
     "status": "ok",
     "timestamp": 1598197711343,
     "user": {
      "displayName": "Suan Lee",
      "photoUrl": "https://lh3.googleusercontent.com/a-/AOh14Ggrbbtm0GIFbgQl9jEH-C8dVBtk90Lcr33g5Dx5OJo=s64",
      "userId": "05284829446034665596"
     },
     "user_tz": -540
    },
    "id": "m-fGDZoD52eY",
    "outputId": "d4567e74-e3ee-4ca6-a8e2-7d3d00233931"
   },
   "outputs": [
    {
     "name": "stdout",
     "output_type": "stream",
     "text": [
      "avg time: 0.07810068130493164 (+/- 0.0015304931595715905)\n",
      "avg score time: 0.0033597469329833983 (+/- 0.00010309098055087923)\n",
      "avg test score: 0.9666200900481291 (+/- 0.016990431463137324)\n"
     ]
    }
   ],
   "source": [
    "cross_val =cross_validate(estimator=model,\n",
    "                          X=cancer.data, y=cancer.target,\n",
    "                          cv=5)\n",
    "\n",
    "print('avg time: {} (+/- {})'.format((cross_val['fit_time'].mean()), cross_val['fit_time'].std()))\n",
    "print('avg score time: {} (+/- {})'.format(cross_val['score_time'].mean(), cross_val['score_time'].std()))\n",
    "print('avg test score: {} (+/- {})'.format(cross_val['test_score'].mean(), cross_val['test_score'].std()))"
   ]
  },
  {
   "cell_type": "markdown",
   "metadata": {
    "id": "a3earvlLl2RE"
   },
   "source": [
    "### Random Forests 회귀"
   ]
  },
  {
   "cell_type": "code",
   "execution_count": 57,
   "metadata": {
    "id": "rpQvJshtlc-r"
   },
   "outputs": [],
   "source": [
    "model = make_pipeline(\n",
    "    StandardScaler(),\n",
    "    RandomForestRegressor()\n",
    ")\n"
   ]
  },
  {
   "cell_type": "code",
   "execution_count": 58,
   "metadata": {
    "colab": {
     "base_uri": "https://localhost:8080/",
     "height": 69
    },
    "executionInfo": {
     "elapsed": 848,
     "status": "ok",
     "timestamp": 1598197711343,
     "user": {
      "displayName": "Suan Lee",
      "photoUrl": "https://lh3.googleusercontent.com/a-/AOh14Ggrbbtm0GIFbgQl9jEH-C8dVBtk90Lcr33g5Dx5OJo=s64",
      "userId": "05284829446034665596"
     },
     "user_tz": -540
    },
    "id": "m-fGDZoD52eY",
    "outputId": "d4567e74-e3ee-4ca6-a8e2-7d3d00233931"
   },
   "outputs": [
    {
     "name": "stdout",
     "output_type": "stream",
     "text": [
      "avg time: 0.13423118591308594 (+/- 0.0027406877386924513)\n",
      "avg score time: 0.0034180641174316405 (+/- 8.787781527670632e-05)\n",
      "avg test score: 0.6391744505088702 (+/- 0.19330498816218517)\n"
     ]
    }
   ],
   "source": [
    "cross_val =cross_validate(estimator=model,\n",
    "                          X=boston.data, y=boston.target,\n",
    "                          cv=5)\n",
    "\n",
    "print('avg time: {} (+/- {})'.format((cross_val['fit_time'].mean()), cross_val['fit_time'].std()))\n",
    "print('avg score time: {} (+/- {})'.format(cross_val['score_time'].mean(), cross_val['score_time'].std()))\n",
    "print('avg test score: {} (+/- {})'.format(cross_val['test_score'].mean(), cross_val['test_score'].std()))"
   ]
  },
  {
   "cell_type": "code",
   "execution_count": 59,
   "metadata": {
    "colab": {
     "base_uri": "https://localhost:8080/",
     "height": 69
    },
    "executionInfo": {
     "elapsed": 848,
     "status": "ok",
     "timestamp": 1598197711343,
     "user": {
      "displayName": "Suan Lee",
      "photoUrl": "https://lh3.googleusercontent.com/a-/AOh14Ggrbbtm0GIFbgQl9jEH-C8dVBtk90Lcr33g5Dx5OJo=s64",
      "userId": "05284829446034665596"
     },
     "user_tz": -540
    },
    "id": "m-fGDZoD52eY",
    "outputId": "d4567e74-e3ee-4ca6-a8e2-7d3d00233931"
   },
   "outputs": [
    {
     "name": "stdout",
     "output_type": "stream",
     "text": [
      "avg time: 0.10706019401550293 (+/- 0.0036317174559429024)\n",
      "avg score time: 0.0034246444702148438 (+/- 9.252398117537053e-05)\n",
      "avg test score: 0.4102385030829986 (+/- 0.05292396759894403)\n"
     ]
    }
   ],
   "source": [
    "cross_val =cross_validate(estimator=model,\n",
    "                          X=diabetes.data, y=diabetes.target,\n",
    "                          cv=5)\n",
    "\n",
    "print('avg time: {} (+/- {})'.format((cross_val['fit_time'].mean()), cross_val['fit_time'].std()))\n",
    "print('avg score time: {} (+/- {})'.format(cross_val['score_time'].mean(), cross_val['score_time'].std()))\n",
    "print('avg test score: {} (+/- {})'.format(cross_val['test_score'].mean(), cross_val['test_score'].std()))"
   ]
  },
  {
   "cell_type": "markdown",
   "metadata": {
    "id": "EBHcDHNvmot4"
   },
   "source": [
    "### Extremely Randomized Trees 분류"
   ]
  },
  {
   "cell_type": "code",
   "execution_count": 60,
   "metadata": {
    "id": "rpQvJshtlc-r"
   },
   "outputs": [],
   "source": [
    "model = make_pipeline(\n",
    "    StandardScaler(),\n",
    "    ExtraTreesClassifier()\n",
    ")\n"
   ]
  },
  {
   "cell_type": "code",
   "execution_count": 61,
   "metadata": {
    "colab": {
     "base_uri": "https://localhost:8080/",
     "height": 69
    },
    "executionInfo": {
     "elapsed": 848,
     "status": "ok",
     "timestamp": 1598197711343,
     "user": {
      "displayName": "Suan Lee",
      "photoUrl": "https://lh3.googleusercontent.com/a-/AOh14Ggrbbtm0GIFbgQl9jEH-C8dVBtk90Lcr33g5Dx5OJo=s64",
      "userId": "05284829446034665596"
     },
     "user_tz": -540
    },
    "id": "m-fGDZoD52eY",
    "outputId": "d4567e74-e3ee-4ca6-a8e2-7d3d00233931"
   },
   "outputs": [
    {
     "name": "stdout",
     "output_type": "stream",
     "text": [
      "avg time: 0.031853103637695314 (+/- 0.0016988245092470341)\n",
      "avg score time: 0.0031131744384765626 (+/- 0.00019669787665362878)\n",
      "avg test score: 0.9533333333333334 (+/- 0.03399346342395189)\n"
     ]
    }
   ],
   "source": [
    "cross_val =cross_validate(estimator=model,\n",
    "                          X=iris.data, y=iris.target,\n",
    "                          cv=5)\n",
    "\n",
    "print('avg time: {} (+/- {})'.format((cross_val['fit_time'].mean()), cross_val['fit_time'].std()))\n",
    "print('avg score time: {} (+/- {})'.format(cross_val['score_time'].mean(), cross_val['score_time'].std()))\n",
    "print('avg test score: {} (+/- {})'.format(cross_val['test_score'].mean(), cross_val['test_score'].std()))"
   ]
  },
  {
   "cell_type": "code",
   "execution_count": 62,
   "metadata": {
    "colab": {
     "base_uri": "https://localhost:8080/",
     "height": 69
    },
    "executionInfo": {
     "elapsed": 848,
     "status": "ok",
     "timestamp": 1598197711343,
     "user": {
      "displayName": "Suan Lee",
      "photoUrl": "https://lh3.googleusercontent.com/a-/AOh14Ggrbbtm0GIFbgQl9jEH-C8dVBtk90Lcr33g5Dx5OJo=s64",
      "userId": "05284829446034665596"
     },
     "user_tz": -540
    },
    "id": "m-fGDZoD52eY",
    "outputId": "d4567e74-e3ee-4ca6-a8e2-7d3d00233931"
   },
   "outputs": [
    {
     "name": "stdout",
     "output_type": "stream",
     "text": [
      "avg time: 0.033249950408935545 (+/- 0.0015821112973347616)\n",
      "avg score time: 0.003127431869506836 (+/- 0.00014696068612016306)\n",
      "avg test score: 0.9776190476190475 (+/- 0.020831783767013237)\n"
     ]
    }
   ],
   "source": [
    "cross_val =cross_validate(estimator=model,\n",
    "                          X=wine.data, y=wine.target,\n",
    "                          cv=5)\n",
    "\n",
    "print('avg time: {} (+/- {})'.format((cross_val['fit_time'].mean()), cross_val['fit_time'].std()))\n",
    "print('avg score time: {} (+/- {})'.format(cross_val['score_time'].mean(), cross_val['score_time'].std()))\n",
    "print('avg test score: {} (+/- {})'.format(cross_val['test_score'].mean(), cross_val['test_score'].std()))"
   ]
  },
  {
   "cell_type": "code",
   "execution_count": 63,
   "metadata": {
    "colab": {
     "base_uri": "https://localhost:8080/",
     "height": 69
    },
    "executionInfo": {
     "elapsed": 848,
     "status": "ok",
     "timestamp": 1598197711343,
     "user": {
      "displayName": "Suan Lee",
      "photoUrl": "https://lh3.googleusercontent.com/a-/AOh14Ggrbbtm0GIFbgQl9jEH-C8dVBtk90Lcr33g5Dx5OJo=s64",
      "userId": "05284829446034665596"
     },
     "user_tz": -540
    },
    "id": "m-fGDZoD52eY",
    "outputId": "d4567e74-e3ee-4ca6-a8e2-7d3d00233931"
   },
   "outputs": [
    {
     "name": "stdout",
     "output_type": "stream",
     "text": [
      "avg time: 0.042931556701660156 (+/- 0.0015163429128297115)\n",
      "avg score time: 0.003701448440551758 (+/- 8.293197586965238e-05)\n",
      "avg test score: 0.9648501785437043 (+/- 0.014678771565898205)\n"
     ]
    }
   ],
   "source": [
    "cross_val =cross_validate(estimator=model,\n",
    "                          X=cancer.data, y=cancer.target,\n",
    "                          cv=5)\n",
    "\n",
    "print('avg time: {} (+/- {})'.format((cross_val['fit_time'].mean()), cross_val['fit_time'].std()))\n",
    "print('avg score time: {} (+/- {})'.format(cross_val['score_time'].mean(), cross_val['score_time'].std()))\n",
    "print('avg test score: {} (+/- {})'.format(cross_val['test_score'].mean(), cross_val['test_score'].std()))"
   ]
  },
  {
   "cell_type": "markdown",
   "metadata": {
    "id": "JspHMW4YnDON",
    "tags": []
   },
   "source": [
    "### Extremely Randomized Trees 회귀"
   ]
  },
  {
   "cell_type": "code",
   "execution_count": 64,
   "metadata": {
    "id": "rpQvJshtlc-r"
   },
   "outputs": [],
   "source": [
    "model = make_pipeline(\n",
    "    StandardScaler(),\n",
    "    ExtraTreesRegressor()\n",
    ")\n"
   ]
  },
  {
   "cell_type": "code",
   "execution_count": 65,
   "metadata": {
    "colab": {
     "base_uri": "https://localhost:8080/",
     "height": 69
    },
    "executionInfo": {
     "elapsed": 848,
     "status": "ok",
     "timestamp": 1598197711343,
     "user": {
      "displayName": "Suan Lee",
      "photoUrl": "https://lh3.googleusercontent.com/a-/AOh14Ggrbbtm0GIFbgQl9jEH-C8dVBtk90Lcr33g5Dx5OJo=s64",
      "userId": "05284829446034665596"
     },
     "user_tz": -540
    },
    "id": "m-fGDZoD52eY",
    "outputId": "d4567e74-e3ee-4ca6-a8e2-7d3d00233931"
   },
   "outputs": [
    {
     "name": "stdout",
     "output_type": "stream",
     "text": [
      "avg time: 0.08162398338317871 (+/- 0.0021722489707902094)\n",
      "avg score time: 0.0035760879516601564 (+/- 0.00017703509226059551)\n",
      "avg test score: 0.5998206741143194 (+/- 0.309743643582669)\n"
     ]
    }
   ],
   "source": [
    "cross_val =cross_validate(estimator=model,\n",
    "                          X=boston.data, y=boston.target,\n",
    "                          cv=5)\n",
    "\n",
    "print('avg time: {} (+/- {})'.format((cross_val['fit_time'].mean()), cross_val['fit_time'].std()))\n",
    "print('avg score time: {} (+/- {})'.format(cross_val['score_time'].mean(), cross_val['score_time'].std()))\n",
    "print('avg test score: {} (+/- {})'.format(cross_val['test_score'].mean(), cross_val['test_score'].std()))"
   ]
  },
  {
   "cell_type": "code",
   "execution_count": 66,
   "metadata": {
    "colab": {
     "base_uri": "https://localhost:8080/",
     "height": 69
    },
    "executionInfo": {
     "elapsed": 848,
     "status": "ok",
     "timestamp": 1598197711343,
     "user": {
      "displayName": "Suan Lee",
      "photoUrl": "https://lh3.googleusercontent.com/a-/AOh14Ggrbbtm0GIFbgQl9jEH-C8dVBtk90Lcr33g5Dx5OJo=s64",
      "userId": "05284829446034665596"
     },
     "user_tz": -540
    },
    "id": "m-fGDZoD52eY",
    "outputId": "d4567e74-e3ee-4ca6-a8e2-7d3d00233931"
   },
   "outputs": [
    {
     "name": "stdout",
     "output_type": "stream",
     "text": [
      "avg time: 0.06958160400390626 (+/- 0.002411632443861441)\n",
      "avg score time: 0.0037149906158447264 (+/- 0.0002280796616919582)\n",
      "avg test score: 0.4383397280916947 (+/- 0.037135141612373156)\n"
     ]
    }
   ],
   "source": [
    "cross_val =cross_validate(estimator=model,\n",
    "                          X=diabetes.data, y=diabetes.target,\n",
    "                          cv=5)\n",
    "\n",
    "print('avg time: {} (+/- {})'.format((cross_val['fit_time'].mean()), cross_val['fit_time'].std()))\n",
    "print('avg score time: {} (+/- {})'.format(cross_val['score_time'].mean(), cross_val['score_time'].std()))\n",
    "print('avg test score: {} (+/- {})'.format(cross_val['test_score'].mean(), cross_val['test_score'].std()))"
   ]
  },
  {
   "cell_type": "markdown",
   "metadata": {
    "id": "L4_4LPoirXV2"
   },
   "source": [
    "### Random Forest, Extra Tree 시각화\n",
    "\n",
    "* 결정 트리, Random Forest, Extra Tree의 결정 경계와 회귀식 시각화"
   ]
  },
  {
   "cell_type": "code",
   "execution_count": 67,
   "metadata": {
    "id": "RH-wTt7PzpB_"
   },
   "outputs": [],
   "source": [
    "n_classes = 3\n",
    "n_estimators = 30\n",
    "plot_colors = 'ryb'\n",
    "plot_step = 0.02\n",
    "cmap = plt.cm.RdYlBu\n",
    "plot_step_coarser = 0.5\n",
    "RANDOM_SEED =13 "
   ]
  },
  {
   "cell_type": "code",
   "execution_count": 68,
   "metadata": {
    "id": "J-rQtFGZz3r7"
   },
   "outputs": [],
   "source": [
    "plot_idx = 1\n",
    "models = [DecisionTreeClassifier(max_depth=4),\n",
    "          RandomForestClassifier(n_estimators=n_estimators),\n",
    "          ExtraTreesClassifier(n_estimators=n_estimators)]"
   ]
  },
  {
   "cell_type": "code",
   "execution_count": 69,
   "metadata": {
    "id": "V7F-qnp60DO1"
   },
   "outputs": [
    {
     "data": {
      "image/png": "[encoded data removed]",
      "text/plain": [
       "<Figure size 1152x576 with 9 Axes>"
      ]
     },
     "metadata": {},
     "output_type": "display_data"
    }
   ],
   "source": [
    "# meshgrid 그려서 3x3 plot\n",
    "\n",
    "plt.figure(figsize=(16, 8))\n",
    "\n",
    "# iris feature중 몇 가지만 pair로 지정해서 비교\n",
    "for pair in ([0, 1], [0, 2], [2, 3]):\n",
    "    \n",
    "    for model in models:\n",
    "        X = iris.data[:, pair]\n",
    "        y = iris.target\n",
    "        \n",
    "        idx = np.arange(X.shape[0])\n",
    "        np.random.seed(RANDOM_SEED)\n",
    "        np.random.shuffle(idx)\n",
    "        X = X[idx]\n",
    "        y = y[idx]\n",
    "        #idx랜덤생성해서 지정\n",
    "        \n",
    "        # mean std var 계산해서 X 정규화\n",
    "        mean = X.mean(axis=0)\n",
    "        std = X.std(axis=0)\n",
    "        X = (X - mean) / std\n",
    "        \n",
    "        #만든 X, y로 fit\n",
    "        model.fit(X, y)\n",
    "        \n",
    "        model_title = str(type(model)).split(\".\")[-1][:-2][:-len(\"Classifier\")]\n",
    "        #각 모델명을 타이틀로 사용\n",
    "        \n",
    "        plt.subplot(3, 3, plot_idx)\n",
    "        \n",
    "        # 만약 인덱스가 model의 len보다 작거나 같으면 플롯타이틀을 모델타이틀로 띄워주는것 \n",
    "        if plot_idx <= len(models):\n",
    "            plt.title(model_title, fontsize= 9)\n",
    "        \n",
    "        #classifier meshgrid 띄워야하므로 min max계산\n",
    "        x_min, x_max= X[:, 0].min()-1, X[:, 0].max()+1\n",
    "        y_min, y_max= X[:, 1].min()-1, X[:, 1].max()+1\n",
    "        xx, yy = np.meshgrid(np.arange(x_min, x_max, plot_step),\n",
    "                             np.arange(y_min, y_max, plot_step))\n",
    "        \n",
    "        #만약에 instance 모델이 Decision classfier일경우 다시 정의해줘야함\n",
    "        if isinstance(model, DecisionTreeClassifier):\n",
    "            Z = model.predict(np.c_[xx.ravel(), yy.ravel()])\n",
    "            Z = Z.reshape(xx.shape)\n",
    "            cs = plt.contourf(xx, yy, Z, cmap=cmap)\n",
    "        \n",
    "        else:\n",
    "            estimator_alpha = 1.0 / len(model.estimators_)\n",
    "            for tree in model.estimators_:\n",
    "                    Z = model.predict(np.c_[xx.ravel(), yy.ravel()])\n",
    "                    Z = Z.reshape(xx.shape)\n",
    "                    cs = plt.contourf(xx, yy, Z, alpha=estimator_alpha, cmap=cmap)\n",
    "                \n",
    "        xx_coarser, yy_coarser = np.meshgrid(np.arange(x_min, x_max, plot_step_coarser),\n",
    "                                             np.arange(y_min, y_max, plot_step_coarser))\n",
    "        Z_points_coarser = model.predict(np.c_[xx_coarser.ravel(),\n",
    "                                               yy_coarser.ravel()]).reshape(xx_coarser.shape)\n",
    "        cs_points = plt.scatter(xx_coarser, yy_coarser, s=15,\n",
    "                                c=Z_points_coarser, cmap=cmap,\n",
    "                                edgecolors='none')\n",
    "        \n",
    "        plt.scatter(X[:, 0], X[:, 1], c=y,\n",
    "                    cmap=ListedColormap(['r', 'y', 'b']),\n",
    "                    edgecolors='k', s=20)\n",
    "        \n",
    "        plot_idx += 1\n",
    "\n",
    "plt.suptitle(\"Classifiers\", fontsize=12)\n",
    "plt.axis('tight')\n",
    "plt.tight_layout(h_pad=0.2, w_pad=0.2, pad=2.5)\n",
    "plt.show();\n",
    "        \n",
    "                                 \n",
    "        \n",
    "        "
   ]
  },
  {
   "cell_type": "code",
   "execution_count": 70,
   "metadata": {},
   "outputs": [],
   "source": [
    "plot_idx = 1\n",
    "models = [DecisionTreeRegressor(max_depth=4),\n",
    "          RandomForestRegressor(n_estimators=n_estimators),\n",
    "          ExtraTreesRegressor(n_estimators=n_estimators)]"
   ]
  },
  {
   "cell_type": "code",
   "execution_count": 71,
   "metadata": {},
   "outputs": [
    {
     "data": {
      "image/png": "[encoded data removed]",
      "text/plain": [
       "<Figure size 1152x576 with 9 Axes>"
      ]
     },
     "metadata": {},
     "output_type": "display_data"
    }
   ],
   "source": [
    "plt.figure(figsize=(16,8))\n",
    "\n",
    "for pair in (0, 1, 2):\n",
    "    \n",
    "    for model in models:\n",
    "        \n",
    "        X = boston.data[:, pair]\n",
    "        y = boston.target\n",
    "        \n",
    "        idx = np.arange(X.shape[0])\n",
    "        np.random.seed(RANDOM_SEED)\n",
    "        np.random.shuffle(idx)\n",
    "        X = X[idx]\n",
    "        y = y[idx]\n",
    "        \n",
    "        mean = X.mean(axis=0)\n",
    "        std = X.std(axis=0)\n",
    "        X = (X - mean) / std\n",
    "\n",
    "        model.fit(X.reshape(-1,1), y)\n",
    "        # X를 백터형태로 전환 \n",
    "        \n",
    "        model_title = str(type(model)).split(\".\")[-1][:-2][:-len(\"Regressor\")]\n",
    "        #각 모델명을 타이틀로 사용\n",
    "        \n",
    "        plt.subplot(3, 3, plot_idx)\n",
    "        \n",
    "        # 만약 인덱스가 model의 len보다 작거나 같으면 플롯타이틀을 모델타이틀로 띄워주는것 \n",
    "        if plot_idx <= len(models):\n",
    "            plt.title(model_title, fontsize= 9)\n",
    "        \n",
    "        #min max계산\n",
    "        x_min, x_max= X.min()-1, X.max()+1\n",
    "        y_min, y_max= y.min()-1, y.max()+1\n",
    "        xx, yy = np.arange(x_min-1, x_max+1, plot_step), np.arange(y_min-1, y_max+1, plot_step)\n",
    "        \n",
    "        #만약에 instance 모델이 Decision일경우 다시 정의해줘야함\n",
    "        if isinstance(model, DecisionTreeRegressor):\n",
    "            Z = model.predict(xx.reshape(-1,1))\n",
    "            cs = plt.plot(xx, Z)\n",
    "        \n",
    "        else:\n",
    "            estimator_alpha = 1 / len(model.estimators_)\n",
    "            for tree in model.estimators_:\n",
    "                    Z = tree.predict(xx.reshape(-1,1))\n",
    "                    cs = plt.plot(xx, Z, alpha=estimator_alpha)\n",
    "               \n",
    "            \n",
    "        plt.scatter(X, y, edgecolors='k', s=20)\n",
    "        \n",
    "        plot_idx += 1\n",
    "\n",
    "plt.suptitle(\"Regressors\", fontsize=12)\n",
    "plt.axis('tight')\n",
    "plt.tight_layout(h_pad=0.2, w_pad=0.2, pad=2.5)\n",
    "plt.show();\n"
   ]
  },
  {
   "cell_type": "markdown",
   "metadata": {
    "id": "KBBCR19i3JNP"
   },
   "source": [
    "## AdaBoost\n",
    "\n",
    "* 대표적인 부스팅 알고리즘\n",
    "* 일련의 약한 모델들을 학습\n",
    "* 수정된 버전의 데이터를 반복 학습 (가중치가 적용된)\n",
    "* 가중치 투표(또는 합)을 통해 각 모델의 예측 값을 결합\n",
    "* 첫 단계에서는 원본 데이터를 학습하고 연속적인 반복마다 개별 샘플에 대한 가중치가 수정되고 다시 모델이 학습\n",
    "  * 잘못 예측된 샘플은 가중치 증가, 올바르게 예측된 샘플은 가중치 감소\n",
    "  * 각각의 약한 모델들은 예측하기 어려운 샘플에 집중하게 됨\n",
    "\n",
    "![AdaBoost](https://scikit-learn.org/stable/_images/sphx_glr_plot_adaboost_hastie_10_2_001.png)"
   ]
  },
  {
   "cell_type": "code",
   "execution_count": 72,
   "metadata": {
    "id": "5QjTkuxWrm2a"
   },
   "outputs": [],
   "source": [
    "from sklearn.ensemble import AdaBoostClassifier, AdaBoostRegressor"
   ]
  },
  {
   "cell_type": "markdown",
   "metadata": {
    "id": "Za_gsbAZ6o5j"
   },
   "source": [
    "### AdaBoost 분류"
   ]
  },
  {
   "cell_type": "code",
   "execution_count": 73,
   "metadata": {
    "id": "4RHbd5Xs6K49"
   },
   "outputs": [],
   "source": [
    "model = make_pipeline(StandardScaler(),\n",
    "                      AdaBoostClassifier()\n",
    "                     )"
   ]
  },
  {
   "cell_type": "code",
   "execution_count": 74,
   "metadata": {
    "colab": {
     "base_uri": "https://localhost:8080/",
     "height": 69
    },
    "executionInfo": {
     "elapsed": 1375,
     "status": "ok",
     "timestamp": 1598202882967,
     "user": {
      "displayName": "Suan Lee",
      "photoUrl": "https://lh3.googleusercontent.com/a-/AOh14Ggrbbtm0GIFbgQl9jEH-C8dVBtk90Lcr33g5Dx5OJo=s64",
      "userId": "05284829446034665596"
     },
     "user_tz": -540
    },
    "id": "SQ0bYdUqHt23",
    "outputId": "ab921a0c-e2ae-4b47-9a6f-8816dda6c5b6"
   },
   "outputs": [
    {
     "name": "stdout",
     "output_type": "stream",
     "text": [
      "avg time: 0.02328777313232422 (+/- 0.0019103803025163001)\n",
      "avg score time: 0.002196598052978516 (+/- 0.00014223369047428877)\n",
      "avg test score: 0.9466666666666667 (+/- 0.03399346342395189)\n"
     ]
    }
   ],
   "source": [
    "cross_val =cross_validate(estimator=model,\n",
    "                          X=iris.data, y=iris.target,\n",
    "                          cv=5)\n",
    "\n",
    "print('avg time: {} (+/- {})'.format((cross_val['fit_time'].mean()), cross_val['fit_time'].std()))\n",
    "print('avg score time: {} (+/- {})'.format(cross_val['score_time'].mean(), cross_val['score_time'].std()))\n",
    "print('avg test score: {} (+/- {})'.format(cross_val['test_score'].mean(), cross_val['test_score'].std()))"
   ]
  },
  {
   "cell_type": "code",
   "execution_count": 75,
   "metadata": {
    "colab": {
     "base_uri": "https://localhost:8080/",
     "height": 69
    },
    "executionInfo": {
     "elapsed": 1195,
     "status": "ok",
     "timestamp": 1598202894309,
     "user": {
      "displayName": "Suan Lee",
      "photoUrl": "https://lh3.googleusercontent.com/a-/AOh14Ggrbbtm0GIFbgQl9jEH-C8dVBtk90Lcr33g5Dx5OJo=s64",
      "userId": "05284829446034665596"
     },
     "user_tz": -540
    },
    "id": "_7NzxxKr_UBY",
    "outputId": "9f02c595-0ffb-403c-f038-a88d68461bb4"
   },
   "outputs": [
    {
     "name": "stdout",
     "output_type": "stream",
     "text": [
      "avg time: 0.026372623443603516 (+/- 0.0008775313833101826)\n",
      "avg score time: 0.0021564483642578123 (+/- 4.472376681163082e-05)\n",
      "avg test score: 0.8085714285714285 (+/- 0.16822356718459935)\n"
     ]
    }
   ],
   "source": [
    "cross_val =cross_validate(estimator=model,\n",
    "                          X=wine.data, y=wine.target,\n",
    "                          cv=5)\n",
    "\n",
    "print('avg time: {} (+/- {})'.format((cross_val['fit_time'].mean()), cross_val['fit_time'].std()))\n",
    "print('avg score time: {} (+/- {})'.format(cross_val['score_time'].mean(), cross_val['score_time'].std()))\n",
    "print('avg test score: {} (+/- {})'.format(cross_val['test_score'].mean(), cross_val['test_score'].std()))"
   ]
  },
  {
   "cell_type": "code",
   "execution_count": 76,
   "metadata": {
    "colab": {
     "base_uri": "https://localhost:8080/",
     "height": 69
    },
    "executionInfo": {
     "elapsed": 1437,
     "status": "ok",
     "timestamp": 1598202905723,
     "user": {
      "displayName": "Suan Lee",
      "photoUrl": "https://lh3.googleusercontent.com/a-/AOh14Ggrbbtm0GIFbgQl9jEH-C8dVBtk90Lcr33g5Dx5OJo=s64",
      "userId": "05284829446034665596"
     },
     "user_tz": -540
    },
    "id": "yk2jId1LH6Xl",
    "outputId": "239e8737-e432-42fc-f57e-c6ed9519273e"
   },
   "outputs": [
    {
     "name": "stdout",
     "output_type": "stream",
     "text": [
      "avg time: 0.07174167633056641 (+/- 0.005463913915440761)\n",
      "avg score time: 0.0024236202239990234 (+/- 0.0001049437881583595)\n",
      "avg test score: 0.9701133364384411 (+/- 0.019709915473893072)\n"
     ]
    }
   ],
   "source": [
    "cross_val =cross_validate(estimator=model,\n",
    "                          X=cancer.data, y=cancer.target,\n",
    "                          cv=5)\n",
    "\n",
    "print('avg time: {} (+/- {})'.format((cross_val['fit_time'].mean()), cross_val['fit_time'].std()))\n",
    "print('avg score time: {} (+/- {})'.format(cross_val['score_time'].mean(), cross_val['score_time'].std()))\n",
    "print('avg test score: {} (+/- {})'.format(cross_val['test_score'].mean(), cross_val['test_score'].std()))"
   ]
  },
  {
   "cell_type": "markdown",
   "metadata": {
    "id": "NFx-ob7q6zK1"
   },
   "source": [
    "### AdaBoost 회귀"
   ]
  },
  {
   "cell_type": "code",
   "execution_count": 77,
   "metadata": {
    "id": "xd3DBHFi68tC"
   },
   "outputs": [],
   "source": [
    "model = make_pipeline(StandardScaler(),\n",
    "                      AdaBoostRegressor()\n",
    "                     )"
   ]
  },
  {
   "cell_type": "code",
   "execution_count": 78,
   "metadata": {
    "colab": {
     "base_uri": "https://localhost:8080/",
     "height": 69
    },
    "executionInfo": {
     "elapsed": 1231,
     "status": "ok",
     "timestamp": 1598202956919,
     "user": {
      "displayName": "Suan Lee",
      "photoUrl": "https://lh3.googleusercontent.com/a-/AOh14Ggrbbtm0GIFbgQl9jEH-C8dVBtk90Lcr33g5Dx5OJo=s64",
      "userId": "05284829446034665596"
     },
     "user_tz": -540
    },
    "id": "W45kcSVKIJnq",
    "outputId": "ad55d70f-cfae-4ad7-d287-759b43e6f499"
   },
   "outputs": [
    {
     "name": "stdout",
     "output_type": "stream",
     "text": [
      "avg time: 0.03981075286865234 (+/- 0.0017766731409794858)\n",
      "avg score time: 0.0016193866729736328 (+/- 0.00014534207778057014)\n",
      "avg test score: 0.5985744583807469 (+/- 0.20937548598257683)\n"
     ]
    }
   ],
   "source": [
    "cross_val =cross_validate(estimator=model,\n",
    "                          X=boston.data, y=boston.target,\n",
    "                          cv=5)\n",
    "\n",
    "print('avg time: {} (+/- {})'.format((cross_val['fit_time'].mean()), cross_val['fit_time'].std()))\n",
    "print('avg score time: {} (+/- {})'.format(cross_val['score_time'].mean(), cross_val['score_time'].std()))\n",
    "print('avg test score: {} (+/- {})'.format(cross_val['test_score'].mean(), cross_val['test_score'].std()))"
   ]
  },
  {
   "cell_type": "code",
   "execution_count": 79,
   "metadata": {
    "colab": {
     "base_uri": "https://localhost:8080/",
     "height": 69
    },
    "executionInfo": {
     "elapsed": 1230,
     "status": "ok",
     "timestamp": 1598202970090,
     "user": {
      "displayName": "Suan Lee",
      "photoUrl": "https://lh3.googleusercontent.com/a-/AOh14Ggrbbtm0GIFbgQl9jEH-C8dVBtk90Lcr33g5Dx5OJo=s64",
      "userId": "05284829446034665596"
     },
     "user_tz": -540
    },
    "id": "ka-BHFVWIMnQ",
    "outputId": "f8c4153c-ab9c-4d89-ead1-a844010f2c79"
   },
   "outputs": [
    {
     "name": "stdout",
     "output_type": "stream",
     "text": [
      "avg time: 0.03830089569091797 (+/- 0.009522655293799826)\n",
      "avg score time: 0.0017731189727783203 (+/- 0.0005541816140941349)\n",
      "avg test score: 0.41312084500745616 (+/- 0.04091835944493939)\n"
     ]
    }
   ],
   "source": [
    "cross_val =cross_validate(estimator=model,\n",
    "                          X=diabetes.data, y=diabetes.target,\n",
    "                          cv=5)\n",
    "\n",
    "print('avg time: {} (+/- {})'.format((cross_val['fit_time'].mean()), cross_val['fit_time'].std()))\n",
    "print('avg score time: {} (+/- {})'.format(cross_val['score_time'].mean(), cross_val['score_time'].std()))\n",
    "print('avg test score: {} (+/- {})'.format(cross_val['test_score'].mean(), cross_val['test_score'].std()))"
   ]
  },
  {
   "cell_type": "markdown",
   "metadata": {
    "id": "YeG2y1JB7T6z"
   },
   "source": [
    "## Gradient Tree Boosting\n",
    "\n",
    "* 임의의 차별화 가능한 손실함수로 일반화한 부스팅 알고리즘\n",
    "* 웹 검색, 분류 및 회귀 등 다양한 분야에서 모두 사용 가능"
   ]
  },
  {
   "cell_type": "code",
   "execution_count": 80,
   "metadata": {
    "id": "0K_scQYk7DRm"
   },
   "outputs": [],
   "source": [
    "from sklearn.ensemble import GradientBoostingClassifier, GradientBoostingRegressor"
   ]
  },
  {
   "cell_type": "markdown",
   "metadata": {
    "id": "UnXayCIq-ANR"
   },
   "source": [
    "### Gradient Tree Boosting 분류"
   ]
  },
  {
   "cell_type": "code",
   "execution_count": 81,
   "metadata": {
    "id": "US57OYu39_IS"
   },
   "outputs": [],
   "source": [
    "model = make_pipeline(StandardScaler(),\n",
    "                      GradientBoostingClassifier()\n",
    "                     )"
   ]
  },
  {
   "cell_type": "code",
   "execution_count": 82,
   "metadata": {
    "colab": {
     "base_uri": "https://localhost:8080/",
     "height": 69
    },
    "executionInfo": {
     "elapsed": 1767,
     "status": "ok",
     "timestamp": 1598203052982,
     "user": {
      "displayName": "Suan Lee",
      "photoUrl": "https://lh3.googleusercontent.com/a-/AOh14Ggrbbtm0GIFbgQl9jEH-C8dVBtk90Lcr33g5Dx5OJo=s64",
      "userId": "05284829446034665596"
     },
     "user_tz": -540
    },
    "id": "i5m3pir6Ia02",
    "outputId": "9e12841d-9a0b-4367-c2d5-ad7bccecc32d"
   },
   "outputs": [
    {
     "name": "stdout",
     "output_type": "stream",
     "text": [
      "avg time: 0.06826472282409668 (+/- 0.01277770720687377)\n",
      "avg score time: 0.0003842353820800781 (+/- 3.132772953369186e-05)\n",
      "avg test score: 0.9666666666666668 (+/- 0.02108185106778919)\n"
     ]
    }
   ],
   "source": [
    "cross_val =cross_validate(estimator=model,\n",
    "                          X=iris.data, y=iris.target,\n",
    "                          cv=5)\n",
    "\n",
    "print('avg time: {} (+/- {})'.format((cross_val['fit_time'].mean()), cross_val['fit_time'].std()))\n",
    "print('avg score time: {} (+/- {})'.format(cross_val['score_time'].mean(), cross_val['score_time'].std()))\n",
    "print('avg test score: {} (+/- {})'.format(cross_val['test_score'].mean(), cross_val['test_score'].std()))"
   ]
  },
  {
   "cell_type": "code",
   "execution_count": 83,
   "metadata": {
    "colab": {
     "base_uri": "https://localhost:8080/",
     "height": 69
    },
    "executionInfo": {
     "elapsed": 1973,
     "status": "ok",
     "timestamp": 1598203061150,
     "user": {
      "displayName": "Suan Lee",
      "photoUrl": "https://lh3.googleusercontent.com/a-/AOh14Ggrbbtm0GIFbgQl9jEH-C8dVBtk90Lcr33g5Dx5OJo=s64",
      "userId": "05284829446034665596"
     },
     "user_tz": -540
    },
    "id": "MmkKzQKU_WHg",
    "outputId": "8e740557-7625-468f-995e-c19cb3ebfef2"
   },
   "outputs": [
    {
     "name": "stdout",
     "output_type": "stream",
     "text": [
      "avg time: 0.11715798377990723 (+/- 0.0036612170729246676)\n",
      "avg score time: 0.00036182403564453123 (+/- 1.8796458691046582e-05)\n",
      "avg test score: 0.9330158730158731 (+/- 0.04127777701479872)\n"
     ]
    }
   ],
   "source": [
    "cross_val =cross_validate(estimator=model,\n",
    "                          X=wine.data, y=wine.target,\n",
    "                          cv=5)\n",
    "\n",
    "print('avg time: {} (+/- {})'.format((cross_val['fit_time'].mean()), cross_val['fit_time'].std()))\n",
    "print('avg score time: {} (+/- {})'.format(cross_val['score_time'].mean(), cross_val['score_time'].std()))\n",
    "print('avg test score: {} (+/- {})'.format(cross_val['test_score'].mean(), cross_val['test_score'].std()))"
   ]
  },
  {
   "cell_type": "code",
   "execution_count": 84,
   "metadata": {
    "colab": {
     "base_uri": "https://localhost:8080/",
     "height": 69
    },
    "executionInfo": {
     "elapsed": 2980,
     "status": "ok",
     "timestamp": 1598203087781,
     "user": {
      "displayName": "Suan Lee",
      "photoUrl": "https://lh3.googleusercontent.com/a-/AOh14Ggrbbtm0GIFbgQl9jEH-C8dVBtk90Lcr33g5Dx5OJo=s64",
      "userId": "05284829446034665596"
     },
     "user_tz": -540
    },
    "id": "VBitsXUmIe9B",
    "outputId": "c6fa8383-4274-4fdd-f68a-3996649fd1ac"
   },
   "outputs": [
    {
     "name": "stdout",
     "output_type": "stream",
     "text": [
      "avg time: 0.2128736972808838 (+/- 0.002994956193018338)\n",
      "avg score time: 0.00040073394775390624 (+/- 3.0325643647657574e-05)\n",
      "avg test score: 0.9596180717279925 (+/- 0.02453263202329889)\n"
     ]
    }
   ],
   "source": [
    "cross_val =cross_validate(estimator=model,\n",
    "                          X=cancer.data, y=cancer.target,\n",
    "                          cv=5)\n",
    "\n",
    "print('avg time: {} (+/- {})'.format((cross_val['fit_time'].mean()), cross_val['fit_time'].std()))\n",
    "print('avg score time: {} (+/- {})'.format(cross_val['score_time'].mean(), cross_val['score_time'].std()))\n",
    "print('avg test score: {} (+/- {})'.format(cross_val['test_score'].mean(), cross_val['test_score'].std()))"
   ]
  },
  {
   "cell_type": "markdown",
   "metadata": {
    "id": "-DeP90dJ-Sy2"
   },
   "source": [
    "### Gradient Tree Boosting 회귀"
   ]
  },
  {
   "cell_type": "code",
   "execution_count": 85,
   "metadata": {
    "id": "Cy3cq6VL-Q1v"
   },
   "outputs": [],
   "source": [
    "model = make_pipeline(StandardScaler(),\n",
    "                      GradientBoostingRegressor()\n",
    "                     )"
   ]
  },
  {
   "cell_type": "code",
   "execution_count": 86,
   "metadata": {
    "colab": {
     "base_uri": "https://localhost:8080/",
     "height": 69
    },
    "executionInfo": {
     "elapsed": 1228,
     "status": "ok",
     "timestamp": 1598203114003,
     "user": {
      "displayName": "Suan Lee",
      "photoUrl": "https://lh3.googleusercontent.com/a-/AOh14Ggrbbtm0GIFbgQl9jEH-C8dVBtk90Lcr33g5Dx5OJo=s64",
      "userId": "05284829446034665596"
     },
     "user_tz": -540
    },
    "id": "ZYw5ymXCIowr",
    "outputId": "4375c812-149e-45cb-ea0b-756ca6905afc"
   },
   "outputs": [
    {
     "name": "stdout",
     "output_type": "stream",
     "text": [
      "avg time: 0.05733132362365723 (+/- 0.002895335203190763)\n",
      "avg score time: 0.00037078857421875 (+/- 3.780491775788623e-05)\n",
      "avg test score: 0.6752372690883461 (+/- 0.16121836382662494)\n"
     ]
    }
   ],
   "source": [
    "cross_val =cross_validate(estimator=model,\n",
    "                          X=boston.data, y=boston.target,\n",
    "                          cv=5)\n",
    "\n",
    "print('avg time: {} (+/- {})'.format((cross_val['fit_time'].mean()), cross_val['fit_time'].std()))\n",
    "print('avg score time: {} (+/- {})'.format(cross_val['score_time'].mean(), cross_val['score_time'].std()))\n",
    "print('avg test score: {} (+/- {})'.format(cross_val['test_score'].mean(), cross_val['test_score'].std()))"
   ]
  },
  {
   "cell_type": "code",
   "execution_count": 87,
   "metadata": {
    "colab": {
     "base_uri": "https://localhost:8080/",
     "height": 69
    },
    "executionInfo": {
     "elapsed": 1224,
     "status": "ok",
     "timestamp": 1598203136317,
     "user": {
      "displayName": "Suan Lee",
      "photoUrl": "https://lh3.googleusercontent.com/a-/AOh14Ggrbbtm0GIFbgQl9jEH-C8dVBtk90Lcr33g5Dx5OJo=s64",
      "userId": "05284829446034665596"
     },
     "user_tz": -540
    },
    "id": "S6gdorDUIsYv",
    "outputId": "a6e95858-a0ea-43e3-ceed-454562bee243"
   },
   "outputs": [
    {
     "name": "stdout",
     "output_type": "stream",
     "text": [
      "avg time: 0.04278340339660645 (+/- 0.0016171526949490696)\n",
      "avg score time: 0.00036306381225585936 (+/- 2.7639038194800568e-05)\n",
      "avg test score: 0.4029450867301339 (+/- 0.0688801507855847)\n"
     ]
    }
   ],
   "source": [
    "cross_val =cross_validate(estimator=model,\n",
    "                          X=diabetes.data, y=diabetes.target,\n",
    "                          cv=5)\n",
    "\n",
    "print('avg time: {} (+/- {})'.format((cross_val['fit_time'].mean()), cross_val['fit_time'].std()))\n",
    "print('avg score time: {} (+/- {})'.format(cross_val['score_time'].mean(), cross_val['score_time'].std()))\n",
    "print('avg test score: {} (+/- {})'.format(cross_val['test_score'].mean(), cross_val['test_score'].std()))"
   ]
  },
  {
   "cell_type": "markdown",
   "metadata": {
    "id": "u7RRhGKEBVdq"
   },
   "source": [
    "## 투표 기반 분류 (Voting Classifier)\n",
    "\n",
    "* 서로 다른 모델들의 결과를 투표를 통해 결합\n",
    "* 두가지 방법으로 투표 가능\n",
    "  * 가장 많이 예측된 클래스를 정답으로 채택 (hard voting)\n",
    "  * 예측된 확률의 가중치 평균 (soft voting)"
   ]
  },
  {
   "cell_type": "code",
   "execution_count": 88,
   "metadata": {
    "id": "a5eAt-Yy-iBz"
   },
   "outputs": [],
   "source": [
    "from sklearn.svm import SVC\n",
    "from sklearn.naive_bayes import GaussianNB\n",
    "from sklearn.ensemble import RandomForestClassifier\n",
    "from sklearn.ensemble import VotingClassifier"
   ]
  },
  {
   "cell_type": "code",
   "execution_count": 89,
   "metadata": {
    "id": "toBoZ5I_EEy3"
   },
   "outputs": [],
   "source": [
    "model1 = SVC()\n",
    "model2 = GaussianNB()\n",
    "model3 = RandomForestClassifier()\n",
    "vote_model = VotingClassifier(\n",
    "    estimators=[('svc', model1), ('naive', model2), ('forest', model3)],\n",
    "    voting='hard'\n",
    ")\n",
    "\n",
    "\n"
   ]
  },
  {
   "cell_type": "code",
   "execution_count": 90,
   "metadata": {
    "colab": {
     "base_uri": "https://localhost:8080/",
     "height": 87
    },
    "executionInfo": {
     "elapsed": 2398,
     "status": "ok",
     "timestamp": 1598203484300,
     "user": {
      "displayName": "Suan Lee",
      "photoUrl": "https://lh3.googleusercontent.com/a-/AOh14Ggrbbtm0GIFbgQl9jEH-C8dVBtk90Lcr33g5Dx5OJo=s64",
      "userId": "05284829446034665596"
     },
     "user_tz": -540
    },
    "id": "jvwefdFDEYvz",
    "outputId": "598cbee9-7a8c-46bf-8eec-8de7f8aad2cc"
   },
   "outputs": [
    {
     "name": "stdout",
     "output_type": "stream",
     "text": [
      "Accuracy : 0.97 (+/- 0.02) [SVC]\n",
      "Accuracy : 0.95 (+/- 0.03) [GaussianNB]\n",
      "Accuracy : 0.97 (+/- 0.02) [RandomForestClassifier]\n",
      "Accuracy : 0.97 (+/- 0.02) [VotingClassifier]\n"
     ]
    }
   ],
   "source": [
    "for model in (model1, model2, model3, vote_model):\n",
    "    model_name = str(type(model)).split('.')[-1][:-2]\n",
    "    scores = cross_val_score(model, iris.data, iris.target, cv=5)\n",
    "    print('Accuracy : %0.2f (+/- %0.2f) [%s]' % (scores.mean(), scores.std(), model_name))"
   ]
  },
  {
   "cell_type": "code",
   "execution_count": 91,
   "metadata": {
    "id": "YNhj3WNzFCAb"
   },
   "outputs": [],
   "source": [
    "model1 = SVC(probability=True)\n",
    "model2 = GaussianNB()\n",
    "model3 = RandomForestClassifier()\n",
    "vote_model = VotingClassifier(\n",
    "    estimators=[('svc', model1), ('naive', model2), ('forest', model3)],\n",
    "    voting='soft', weights=[2, 1, 2]\n",
    ")\n"
   ]
  },
  {
   "cell_type": "code",
   "execution_count": 92,
   "metadata": {
    "colab": {
     "base_uri": "https://localhost:8080/",
     "height": 87
    },
    "executionInfo": {
     "elapsed": 2054,
     "status": "ok",
     "timestamp": 1598203556296,
     "user": {
      "displayName": "Suan Lee",
      "photoUrl": "https://lh3.googleusercontent.com/a-/AOh14Ggrbbtm0GIFbgQl9jEH-C8dVBtk90Lcr33g5Dx5OJo=s64",
      "userId": "05284829446034665596"
     },
     "user_tz": -540
    },
    "id": "g89TYHdZOKL8",
    "outputId": "5e42f758-7c6c-4f07-d412-cfa58dbb74ae"
   },
   "outputs": [
    {
     "name": "stdout",
     "output_type": "stream",
     "text": [
      "Accuracy : 0.97 (+/- 0.02) [SVC]\n",
      "Accuracy : 0.95 (+/- 0.03) [GaussianNB]\n",
      "Accuracy : 0.95 (+/- 0.03) [RandomForestClassifier]\n",
      "Accuracy : 0.96 (+/- 0.02) [VotingClassifier]\n"
     ]
    }
   ],
   "source": [
    "for model in (model1, model2, model3, vote_model):\n",
    "    model_name = str(type(model)).split('.')[-1][:-2]\n",
    "    scores = cross_val_score(model, iris.data, iris.target, cv=5)\n",
    "    print('Accuracy : %0.2f (+/- %0.2f) [%s]' % (scores.mean(), scores.std(), model_name))"
   ]
  },
  {
   "cell_type": "markdown",
   "metadata": {
    "id": "cjNwB2zaPItX"
   },
   "source": [
    "### 결정 경계 시각화"
   ]
  },
  {
   "cell_type": "code",
   "execution_count": 93,
   "metadata": {
    "id": "nn8lgvWYPner"
   },
   "outputs": [],
   "source": [
    "from sklearn.tree import DecisionTreeClassifier\n",
    "from sklearn.neighbors import KNeighborsClassifier\n",
    "from sklearn.ensemble import VotingClassifier\n",
    "from itertools import product"
   ]
  },
  {
   "cell_type": "code",
   "execution_count": 94,
   "metadata": {
    "id": "SB_Bx4hKPs9-"
   },
   "outputs": [],
   "source": [
    "X = iris.data[:, [0,2]]\n",
    "y = iris.target"
   ]
  },
  {
   "cell_type": "code",
   "execution_count": 95,
   "metadata": {
    "id": "FEpQ0g-0Pwn8"
   },
   "outputs": [],
   "source": [
    "model1 = DecisionTreeClassifier(max_depth=4)\n",
    "model2 = KNeighborsClassifier(n_neighbors=7)\n",
    "model3 = SVC(gamma=0.1, kernel='rbf', probability=True)\n",
    "vote_model = VotingClassifier(estimators=[('dt', model1), ('knn', model2), ('svc', model3)],\n",
    "                                                           voting='soft', weights=[2, 1, 2])\n",
    "model1 = model1.fit(X,y)\n",
    "model2 = model1.fit(X,y)\n",
    "model3 = model1.fit(X,y)\n",
    "vote_model = vote_model.fit(X,y)\n",
    "                                          \n",
    "                                                           \n",
    "                    "
   ]
  },
  {
   "cell_type": "code",
   "execution_count": 96,
   "metadata": {
    "id": "z1o_9XWKQthC"
   },
   "outputs": [],
   "source": [
    "#classifier 이므로 meshgrid그려야함 \n",
    "\n",
    "x_min, x_max= X[:, 0].min()-1, X[:, 0].max()+1\n",
    "y_min, y_max= X[:, 1].min()-1, X[:, 1].max()+1\n",
    "xx, yy = np.meshgrid(np.arange(x_min, x_max, 0.1),\n",
    "                     np.arange(y_min, y_max, 0.1))"
   ]
  },
  {
   "cell_type": "code",
   "execution_count": 97,
   "metadata": {
    "colab": {
     "base_uri": "https://localhost:8080/",
     "height": 494
    },
    "executionInfo": {
     "elapsed": 2351,
     "status": "ok",
     "timestamp": 1598204070494,
     "user": {
      "displayName": "Suan Lee",
      "photoUrl": "https://lh3.googleusercontent.com/a-/AOh14Ggrbbtm0GIFbgQl9jEH-C8dVBtk90Lcr33g5Dx5OJo=s64",
      "userId": "05284829446034665596"
     },
     "user_tz": -540
    },
    "id": "umDuzyVDOML5",
    "outputId": "3ddb2381-8133-4a31-d19a-b2269491646a"
   },
   "outputs": [
    {
     "data": {
      "image/png": "[encoded data removed]",
      "text/plain": [
       "<Figure size 864x576 with 4 Axes>"
      ]
     },
     "metadata": {},
     "output_type": "display_data"
    }
   ],
   "source": [
    "f, axarr = plt.subplots(2, 2, sharex= 'col', sharey='row', figsize=(12, 8))\n",
    "\n",
    "\n",
    "# zip으로 서브플롯의 경우의수를 구하는것임\n",
    "for idx, model, tt in zip(product([0,1], [0,1]),\n",
    "                          [model1, model2, model3, vote_model],\n",
    "                          ['Decision Tree (depth=4)', 'KNN (k =7)',\n",
    "                           'Kernel SVM', 'Soft Voting']):\n",
    "    Z = model.predict(np.c_[xx.ravel(), yy.ravel()])\n",
    "    Z = Z.reshape(xx.shape)\n",
    "    \n",
    "    axarr[idx[0], idx[1]].contourf(xx, yy, Z, alpha=0.4)\n",
    "    axarr[idx[0], idx[1]].scatter(X[:, 0], X[:, 1], c=y, s=20, edgecolor='k')\n",
    "    axarr[idx[0], idx[1]].set_title(tt)\n",
    "\n",
    "plt.show()\n",
    "                          \n",
    "                          "
   ]
  },
  {
   "cell_type": "markdown",
   "metadata": {
    "id": "0m5WCAyLSOdK"
   },
   "source": [
    "## 투표 기반 회귀 (Voting Regressor)\n",
    "\n",
    "* 서로 다른 모델의 예측 값의 평균을 사용"
   ]
  },
  {
   "cell_type": "code",
   "execution_count": 98,
   "metadata": {
    "id": "uMQxrXDAPNuf"
   },
   "outputs": [],
   "source": [
    "from sklearn.linear_model import LinearRegression\n",
    "from sklearn.ensemble import GradientBoostingRegressor, RandomForestRegressor, VotingRegressor\n"
   ]
  },
  {
   "cell_type": "code",
   "execution_count": 99,
   "metadata": {
    "id": "eKyebVgqUHdN"
   },
   "outputs": [],
   "source": [
    "model1 = LinearRegression()\n",
    "model2 = GradientBoostingRegressor()\n",
    "model3 = RandomForestRegressor()\n",
    "vote_model = VotingRegressor(\n",
    "    estimators=[('linear', model1), ('gbr', model2), ('rfr', model3)], weights=[1, 1, 1])\n"
   ]
  },
  {
   "cell_type": "code",
   "execution_count": 100,
   "metadata": {
    "colab": {
     "base_uri": "https://localhost:8080/",
     "height": 87
    },
    "executionInfo": {
     "elapsed": 5310,
     "status": "ok",
     "timestamp": 1598205198427,
     "user": {
      "displayName": "Suan Lee",
      "photoUrl": "https://lh3.googleusercontent.com/a-/AOh14Ggrbbtm0GIFbgQl9jEH-C8dVBtk90Lcr33g5Dx5OJo=s64",
      "userId": "05284829446034665596"
     },
     "user_tz": -540
    },
    "id": "aYMKZc96UGoA",
    "outputId": "2157352f-32f6-407d-f68b-ae7c0733aaf8"
   },
   "outputs": [
    {
     "name": "stdout",
     "output_type": "stream",
     "text": [
      "R2 : 0.35 (+/- 0.38) [LinearRegression]\n",
      "R2 : 0.68 (+/- 0.15) [GradientBoostingRegressor]\n",
      "R2 : 0.63 (+/- 0.20) [RandomForestRegressor]\n",
      "R2 : 0.66 (+/- 0.20) [VotingRegressor]\n"
     ]
    }
   ],
   "source": [
    "for model in (model1, model2, model3, vote_model):\n",
    "    model_name = str(type(model)).split('.')[-1][:-2]\n",
    "    scores = cross_val_score(model, boston.data, boston.target, cv=5)\n",
    "    print('R2 : %0.2f (+/- %0.2f) [%s]' % (scores.mean(), scores.std(), model_name))"
   ]
  },
  {
   "cell_type": "markdown",
   "metadata": {
    "id": "ArvS3YLlMgvM"
   },
   "source": [
    "### 회귀식 시각화"
   ]
  },
  {
   "cell_type": "code",
   "execution_count": 101,
   "metadata": {
    "id": "NDby8qq_NpI6"
   },
   "outputs": [],
   "source": [
    "X = boston.data[:, 0].reshape(-1,1)\n",
    "y = boston.target"
   ]
  },
  {
   "cell_type": "code",
   "execution_count": 102,
   "metadata": {
    "id": "afUEA95cMfik"
   },
   "outputs": [],
   "source": [
    "model1 = LinearRegression()\n",
    "model2 = GradientBoostingRegressor()\n",
    "model3 = RandomForestRegressor()\n",
    "vote_model = VotingRegressor(\n",
    "    estimators=[('linear', model1), ('gbr', model2), ('rfr', model3)], weights=[1, 1, 1])\n",
    "\n",
    "model1 = model1.fit(X,y)\n",
    "model2 = model2.fit(X,y)\n",
    "model3 = model3.fit(X,y)\n",
    "vote_model = vote_model.fit(X,y)"
   ]
  },
  {
   "cell_type": "code",
   "execution_count": 103,
   "metadata": {
    "id": "jsy4R-0PMwER"
   },
   "outputs": [],
   "source": [
    "x_min, x_max= X.min()-1, X.max()+1\n",
    "xx = np.arange(x_min, x_max, 0.1)"
   ]
  },
  {
   "cell_type": "code",
   "execution_count": 104,
   "metadata": {
    "colab": {
     "base_uri": "https://localhost:8080/",
     "height": 494
    },
    "executionInfo": {
     "elapsed": 1743,
     "status": "ok",
     "timestamp": 1598205419459,
     "user": {
      "displayName": "Suan Lee",
      "photoUrl": "https://lh3.googleusercontent.com/a-/AOh14Ggrbbtm0GIFbgQl9jEH-C8dVBtk90Lcr33g5Dx5OJo=s64",
      "userId": "05284829446034665596"
     },
     "user_tz": -540
    },
    "id": "TjgHFKa8M8O9",
    "outputId": "bbe0ce63-8ca9-47d9-cf2e-aa942d5ca2a6"
   },
   "outputs": [
    {
     "data": {
      "image/png": "[encoded data removed]",
      "text/plain": [
       "<Figure size 864x576 with 4 Axes>"
      ]
     },
     "metadata": {},
     "output_type": "display_data"
    }
   ],
   "source": [
    "f, axarr = plt.subplots(2, 2, sharex='col', sharey='row', figsize=(12, 8))\n",
    "\n",
    "for idx, model, tt in zip(product([0, 1], [0, 1]),\n",
    "                          [model1, model2, model3, vote_model],\n",
    "                          ['Linear Regression', 'Gradient Boosting', 'Random Forest', 'Voting']):\n",
    "    Z = model.predict(xx.reshape(-1, 1))\n",
    "    \n",
    "    axarr[idx[0], idx[1]].plot(xx, Z, c='r')\n",
    "    axarr[idx[0], idx[1]].scatter(X, y, s=20, edgecolor='k')\n",
    "    axarr[idx[0], idx[1]].set_title(tt)\n",
    "    \n",
    "plt.show();"
   ]
  },
  {
   "cell_type": "markdown",
   "metadata": {
    "id": "kWWPpi2hVaGe"
   },
   "source": [
    "## 스택 일반화 (Stacked Generalization)\n",
    "\n",
    "* 각 모델의 예측 값을 최종 모델의 입력으로 사용\n",
    "* 모델의 편향을 줄이는데 효과적"
   ]
  },
  {
   "cell_type": "markdown",
   "metadata": {
    "id": "EfJBCBFSXaa3"
   },
   "source": [
    "### 스택 회귀"
   ]
  },
  {
   "cell_type": "code",
   "execution_count": 105,
   "metadata": {
    "id": "Ai4cpbSpUanA"
   },
   "outputs": [],
   "source": [
    "from sklearn.linear_model import Ridge, Lasso\n",
    "from sklearn.svm import SVR\n",
    "from sklearn.ensemble import GradientBoostingRegressor\n",
    "from sklearn.ensemble import StackingRegressor"
   ]
  },
  {
   "cell_type": "code",
   "execution_count": 106,
   "metadata": {
    "id": "22wwT8jDXf6D"
   },
   "outputs": [],
   "source": [
    "estimators = [('ridge', Ridge()),\n",
    "              ('lasso', Lasso()),\n",
    "              ('svr', SVR())]\n",
    "\n",
    "              "
   ]
  },
  {
   "cell_type": "code",
   "execution_count": 107,
   "metadata": {
    "id": "GcWHiyQ7YAsh"
   },
   "outputs": [],
   "source": [
    "reg = make_pipeline(\n",
    "    StandardScaler(),\n",
    "    StackingRegressor(\n",
    "        estimators=estimators,\n",
    "        final_estimator=GradientBoostingRegressor()\n",
    "    )\n",
    ")   "
   ]
  },
  {
   "cell_type": "code",
   "execution_count": 108,
   "metadata": {
    "colab": {
     "base_uri": "https://localhost:8080/",
     "height": 69
    },
    "executionInfo": {
     "elapsed": 1680,
     "status": "ok",
     "timestamp": 1598205649640,
     "user": {
      "displayName": "Suan Lee",
      "photoUrl": "https://lh3.googleusercontent.com/a-/AOh14Ggrbbtm0GIFbgQl9jEH-C8dVBtk90Lcr33g5Dx5OJo=s64",
      "userId": "05284829446034665596"
     },
     "user_tz": -540
    },
    "id": "IJskro0HYKOe",
    "outputId": "37c0bccf-8326-464b-d9ef-5e39b8575fbf"
   },
   "outputs": [
    {
     "name": "stdout",
     "output_type": "stream",
     "text": [
      "avg time: 0.07021012306213378 (+/- 0.04138505412708121)\n",
      "avg score time: 0.0019177913665771485 (+/- 0.00010415507668258016)\n",
      "avg test score: 0.32371156113153127 (+/- 0.3334673542435467)\n"
     ]
    }
   ],
   "source": [
    "cross_val =cross_validate(estimator=reg,\n",
    "                          X=boston.data, y=boston.target,\n",
    "                          cv=5)\n",
    "\n",
    "print('avg time: {} (+/- {})'.format((cross_val['fit_time'].mean()), cross_val['fit_time'].std()))\n",
    "print('avg score time: {} (+/- {})'.format(cross_val['score_time'].mean(), cross_val['score_time'].std()))\n",
    "print('avg test score: {} (+/- {})'.format(cross_val['test_score'].mean(), cross_val['test_score'].std()))"
   ]
  },
  {
   "cell_type": "markdown",
   "metadata": {
    "id": "Is4akp2ePaax"
   },
   "source": [
    "#### 회귀식 시각화"
   ]
  },
  {
   "cell_type": "code",
   "execution_count": 109,
   "metadata": {
    "id": "NDby8qq_NpI6"
   },
   "outputs": [],
   "source": [
    "X = boston.data[:, 0].reshape(-1,1)\n",
    "y = boston.target"
   ]
  },
  {
   "cell_type": "code",
   "execution_count": 110,
   "metadata": {
    "id": "afUEA95cMfik"
   },
   "outputs": [],
   "source": [
    "model1 = Ridge()\n",
    "model2 = Lasso()\n",
    "model3 = SVR()\n",
    "\n",
    "reg =StackingRegressor(\n",
    "        estimators=estimators,\n",
    "        final_estimator=GradientBoostingRegressor())\n",
    "\n",
    "\n",
    "\n",
    "model1 = model1.fit(X,y)\n",
    "model2 = model2.fit(X,y)\n",
    "model3 = model3.fit(X,y)\n",
    "reg = reg.fit(X,y)"
   ]
  },
  {
   "cell_type": "code",
   "execution_count": 111,
   "metadata": {
    "id": "jsy4R-0PMwER"
   },
   "outputs": [],
   "source": [
    "x_min, x_max= X.min()-1, X.max()+1\n",
    "xx = np.arange(x_min, x_max, 0.1)"
   ]
  },
  {
   "cell_type": "code",
   "execution_count": 112,
   "metadata": {
    "colab": {
     "base_uri": "https://localhost:8080/",
     "height": 494
    },
    "executionInfo": {
     "elapsed": 1743,
     "status": "ok",
     "timestamp": 1598205419459,
     "user": {
      "displayName": "Suan Lee",
      "photoUrl": "https://lh3.googleusercontent.com/a-/AOh14Ggrbbtm0GIFbgQl9jEH-C8dVBtk90Lcr33g5Dx5OJo=s64",
      "userId": "05284829446034665596"
     },
     "user_tz": -540
    },
    "id": "TjgHFKa8M8O9",
    "outputId": "bbe0ce63-8ca9-47d9-cf2e-aa942d5ca2a6"
   },
   "outputs": [
    {
     "data": {
      "image/png": "[encoded data removed]",
      "text/plain": [
       "<Figure size 864x576 with 4 Axes>"
      ]
     },
     "metadata": {},
     "output_type": "display_data"
    }
   ],
   "source": [
    "f, axarr = plt.subplots(2, 2, sharex='col', sharey='row', figsize=(12, 8))\n",
    "\n",
    "for idx, model, tt in zip(product([0, 1], [0, 1]),\n",
    "                          [model1, model2, model3, vote_model],\n",
    "                          ['Ridge', 'Lasso', 'SVR', 'Stack']):\n",
    "    Z = model.predict(xx.reshape(-1, 1))\n",
    "    \n",
    "    axarr[idx[0], idx[1]].plot(xx, Z, c='r')\n",
    "    axarr[idx[0], idx[1]].scatter(X, y, s=20, edgecolor='k')\n",
    "    axarr[idx[0], idx[1]].set_title(tt)\n",
    "    \n",
    "plt.show();\n",
    "\n",
    "# stack -> ridge, lasso, svr을 인풋으로 사용해서 gradient boosting 한것 "
   ]
  },
  {
   "cell_type": "markdown",
   "metadata": {
    "id": "qcDf7iN1ZybO"
   },
   "source": [
    "### 스택 분류"
   ]
  },
  {
   "cell_type": "code",
   "execution_count": 113,
   "metadata": {
    "id": "_5HNrFRtZxqZ"
   },
   "outputs": [],
   "source": [
    "from sklearn.linear_model import LogisticRegression\n",
    "from sklearn.svm import SVC\n",
    "from sklearn.naive_bayes import GaussianNB\n",
    "from sklearn.ensemble import RandomForestClassifier, StackingClassifier"
   ]
  },
  {
   "cell_type": "code",
   "execution_count": 114,
   "metadata": {
    "id": "IZn3h6vDaJ8i"
   },
   "outputs": [],
   "source": [
    "estimators = [('logistic', LogisticRegression(max_iter=10000)),\n",
    "              ('svc', SVC()),\n",
    "              ('naive', GaussianNB())]"
   ]
  },
  {
   "cell_type": "code",
   "execution_count": 115,
   "metadata": {
    "id": "KTFUC1IsaarE"
   },
   "outputs": [],
   "source": [
    "clf = StackingClassifier(\n",
    "    estimators=estimators,\n",
    "    final_estimator=RandomForestClassifier()\n",
    ")\n"
   ]
  },
  {
   "cell_type": "code",
   "execution_count": 116,
   "metadata": {
    "colab": {
     "base_uri": "https://localhost:8080/",
     "height": 69
    },
    "executionInfo": {
     "elapsed": 2439,
     "status": "ok",
     "timestamp": 1598206738089,
     "user": {
      "displayName": "Suan Lee",
      "photoUrl": "https://lh3.googleusercontent.com/a-/AOh14Ggrbbtm0GIFbgQl9jEH-C8dVBtk90Lcr33g5Dx5OJo=s64",
      "userId": "05284829446034665596"
     },
     "user_tz": -540
    },
    "id": "oYhRPbcWanfY",
    "outputId": "01e00138-43c9-4aa5-fc81-d2746f1d8f97"
   },
   "outputs": [
    {
     "name": "stdout",
     "output_type": "stream",
     "text": [
      "avg time: 0.09391231536865234 (+/- 0.002760296877087054)\n",
      "avg score time: 0.003343963623046875 (+/- 0.00013155898308082951)\n",
      "avg test score: 0.96 (+/- 0.024944382578492935)\n"
     ]
    }
   ],
   "source": [
    "cross_val =cross_validate(estimator=clf,\n",
    "                          X=iris.data, y=iris.target,\n",
    "                          cv=5)\n",
    "\n",
    "print('avg time: {} (+/- {})'.format((cross_val['fit_time'].mean()), cross_val['fit_time'].std()))\n",
    "print('avg score time: {} (+/- {})'.format(cross_val['score_time'].mean(), cross_val['score_time'].std()))\n",
    "print('avg test score: {} (+/- {})'.format(cross_val['test_score'].mean(), cross_val['test_score'].std()))"
   ]
  },
  {
   "cell_type": "markdown",
   "metadata": {
    "id": "m2NyQnIqQxg9",
    "tags": []
   },
   "source": [
    "#### 결정 경계 시각화"
   ]
  },
  {
   "cell_type": "code",
   "execution_count": 121,
   "metadata": {
    "id": "SB_Bx4hKPs9-"
   },
   "outputs": [],
   "source": [
    "X = iris.data[:, [0,2]]\n",
    "y = iris.target"
   ]
  },
  {
   "cell_type": "code",
   "execution_count": 122,
   "metadata": {
    "id": "FEpQ0g-0Pwn8"
   },
   "outputs": [],
   "source": [
    "model1 = LogisticRegression(max_iter=10000)\n",
    "model2 = SVC()\n",
    "model3 = GaussianNB()\n",
    "stack = StackingClassifier(\n",
    "    estimators=estimators,\n",
    "    final_estimator=RandomForestClassifier())\n",
    "    \n",
    "model1 = model1.fit(X,y)\n",
    "model2 = model1.fit(X,y)\n",
    "model3 = model1.fit(X,y)\n",
    "stack = stack.fit(X,y)\n",
    "                                          \n",
    "                                                           \n",
    "                    "
   ]
  },
  {
   "cell_type": "code",
   "execution_count": 123,
   "metadata": {
    "id": "z1o_9XWKQthC"
   },
   "outputs": [],
   "source": [
    "#classifier 이므로 meshgrid그려야함 \n",
    "\n",
    "x_min, x_max= X[:, 0].min()-1, X[:, 0].max()+1\n",
    "y_min, y_max= X[:, 1].min()-1, X[:, 1].max()+1\n",
    "xx, yy = np.meshgrid(np.arange(x_min, x_max, 0.1),\n",
    "                     np.arange(y_min, y_max, 0.1))"
   ]
  },
  {
   "cell_type": "code",
   "execution_count": 124,
   "metadata": {
    "colab": {
     "base_uri": "https://localhost:8080/",
     "height": 494
    },
    "executionInfo": {
     "elapsed": 2351,
     "status": "ok",
     "timestamp": 1598204070494,
     "user": {
      "displayName": "Suan Lee",
      "photoUrl": "https://lh3.googleusercontent.com/a-/AOh14Ggrbbtm0GIFbgQl9jEH-C8dVBtk90Lcr33g5Dx5OJo=s64",
      "userId": "05284829446034665596"
     },
     "user_tz": -540
    },
    "id": "umDuzyVDOML5",
    "outputId": "3ddb2381-8133-4a31-d19a-b2269491646a"
   },
   "outputs": [
    {
     "data": {
      "image/png": "[encoded data removed]",
      "text/plain": [
       "<Figure size 864x576 with 4 Axes>"
      ]
     },
     "metadata": {},
     "output_type": "display_data"
    }
   ],
   "source": [
    "f, axarr = plt.subplots(2, 2, sharex= 'col', sharey='row', figsize=(12, 8))\n",
    "\n",
    "\n",
    "# zip으로 서브플롯의 경우의수를 구하는것임\n",
    "for idx, model, tt in zip(product([0,1], [0,1]),\n",
    "                          [model1, model2, model3, stack],\n",
    "                          ['Logistic Regression', 'SVC',\n",
    "                           'GaussianNB', 'RandomForest']):\n",
    "    Z = model.predict(np.c_[xx.ravel(), yy.ravel()])\n",
    "    Z = Z.reshape(xx.shape)\n",
    "    \n",
    "    axarr[idx[0], idx[1]].contourf(xx, yy, Z, alpha=0.4)\n",
    "    axarr[idx[0], idx[1]].scatter(X[:, 0], X[:, 1], c=y, s=20, edgecolor='k')\n",
    "    axarr[idx[0], idx[1]].set_title(tt)\n",
    "\n",
    "plt.show()\n",
    "                          \n",
    "                          "
   ]
  },
  {
   "cell_type": "code",
   "execution_count": null,
   "metadata": {},
   "outputs": [],
   "source": []
  }
 ],
 "metadata": {
  "colab": {
   "collapsed_sections": [],
   "name": "Copy of _9 앙상블(Ensemble).ipynb",
   "provenance": [
    {
     "file_id": "1Li8YxdE0rIZdtdo_EkyZ0YZp1ZI8WT0q",
     "timestamp": 1628040761972
    }
   ]
  },
  "kernelspec": {
   "display_name": "Python 3 (ipykernel)",
   "language": "python",
   "name": "python3"
  },
  "language_info": {
   "codemirror_mode": {
    "name": "ipython",
    "version": 3
   },
   "file_extension": ".py",
   "mimetype": "text/x-python",
   "name": "python",
   "nbconvert_exporter": "python",
   "pygments_lexer": "ipython3",
   "version": "3.9.7"
  }
 },
 "nbformat": 4,
 "nbformat_minor": 4
}
